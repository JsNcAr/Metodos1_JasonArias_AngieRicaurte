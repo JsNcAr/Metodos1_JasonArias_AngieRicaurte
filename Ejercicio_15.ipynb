{
  "nbformat": 4,
  "nbformat_minor": 0,
  "metadata": {
    "colab": {
      "provenance": [],
      "authorship_tag": "ABX9TyOLHuT/3Dj1Cf+KBQOHHOrR",
      "include_colab_link": true
    },
    "kernelspec": {
      "name": "python3",
      "display_name": "Python 3"
    },
    "language_info": {
      "name": "python"
    }
  },
  "cells": [
    {
      "cell_type": "markdown",
      "metadata": {
        "id": "view-in-github",
        "colab_type": "text"
      },
      "source": [
        "<a href=\"https://colab.research.google.com/github/JsNcAr/Metodos1_JasonArias_AngieRicaurte/blob/ramaALRR/Ejercicio_15.ipynb\" target=\"_parent\"><img src=\"https://colab.research.google.com/assets/colab-badge.svg\" alt=\"Open In Colab\"/></a>"
      ]
    },
    {
      "cell_type": "code",
      "execution_count": 17,
      "metadata": {
        "id": "zNb82rbWut1O"
      },
      "outputs": [],
      "source": [
        "import numpy as np\n",
        "import sympy as sym\n",
        "from itertools import permutations"
      ]
    },
    {
      "cell_type": "code",
      "source": [
        "y_0 = np.array([[1,0,0,0], [0,1,0,0], [0,0,-1,0],[0,0,0,-1]])\n",
        "y_1 = np.array([[0,0,0,1], [0,0,1,0], [0,-1,0,0],[-1,0,0,0]])\n",
        "y_2 = np.array([[0,0,0,-1j], [0,0,1j,0], [0,1j,0,0],[-1j,0,0,0]])\n",
        "y_3 = np.array([[0,0,1,0], [0,0,0,-1], [-1,0,0,0],[0,1,0,0]])"
      ],
      "metadata": {
        "id": "yt9GBAWovKMq"
      },
      "execution_count": 18,
      "outputs": []
    },
    {
      "cell_type": "code",
      "source": [
        "y=[y_0,y_1,y_2,y_3]"
      ],
      "metadata": {
        "id": "kUxTgkzbxTO3"
      },
      "execution_count": 19,
      "outputs": []
    },
    {
      "cell_type": "code",
      "source": [
        "def conmutator(A, B):\n",
        "    return A @ B + B @ A"
      ],
      "metadata": {
        "id": "hMldTD63y9qi"
      },
      "execution_count": 20,
      "outputs": []
    },
    {
      "cell_type": "code",
      "source": [
        "def metrica(A,B):\n",
        "  matriz=np.zeros((4,4))\n",
        "  matriz[0,0]=1\n",
        "  matriz[1,1]=-1\n",
        "  matriz[2,2]=-1\n",
        "  matriz[3,3]=-1\n",
        "  return matriz\n",
        "\n",
        "perm = np.array([1, 2, 3,4])\n",
        "perm = np.array([np.array(x) for x in permutations(perm, 2)])\n",
        "\n",
        "zeros = np.zeros((4,4))\n",
        "\n",
        "for p in perm:\n",
        "    i, j = p\n",
        "    if not ((conmutator(y[i-1], y[j-1]) -2*metrica(y[i-1],y[j-1]) *np.identity(4)) == zeros).all:\n",
        "        print(\"Error\")\n",
        "        break\n",
        "    else:\n",
        "        print(\"OK\")"
      ],
      "metadata": {
        "colab": {
          "base_uri": "https://localhost:8080/"
        },
        "id": "kwQ0-kAR0XBn",
        "outputId": "ae36f8af-52cc-43ec-9e0f-1f756d63d3f7"
      },
      "execution_count": 26,
      "outputs": [
        {
          "output_type": "stream",
          "name": "stdout",
          "text": [
            "OK\n",
            "OK\n",
            "OK\n",
            "OK\n",
            "OK\n",
            "OK\n",
            "OK\n",
            "OK\n",
            "OK\n",
            "OK\n",
            "OK\n",
            "OK\n"
          ]
        }
      ]
    }
  ]
}