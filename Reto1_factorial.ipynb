{
  "nbformat": 4,
  "nbformat_minor": 0,
  "metadata": {
    "colab": {
      "provenance": [],
      "authorship_tag": "ABX9TyNlN/bWWkq+rhOlR5p2PPp/",
      "include_colab_link": true
    },
    "kernelspec": {
      "name": "python3",
      "display_name": "Python 3"
    },
    "language_info": {
      "name": "python"
    }
  },
  "cells": [
    {
      "cell_type": "markdown",
      "metadata": {
        "id": "view-in-github",
        "colab_type": "text"
      },
      "source": [
        "<a href=\"https://colab.research.google.com/github/JsNcAr/Metodos1_JasonArias_AngieRicaurte/blob/ramaALRR/Reto1_factorial.ipynb\" target=\"_parent\"><img src=\"https://colab.research.google.com/assets/colab-badge.svg\" alt=\"Open In Colab\"/></a>"
      ]
    },
    {
      "cell_type": "code",
      "source": [
        "mult_inicial=0\n",
        "def cal_factorial(n):\n",
        "  contador=(n-1)\n",
        "  factorial=1\n",
        "  mult_inicial=n\n",
        "  if n==2:\n",
        "      factorial=2\n",
        "  else:\n",
        "      while contador>1 and mult_inicial>1:\n",
        "          factorial*=(mult_inicial)*(mult_inicial-1)\n",
        "          mult_inicial-=2\n",
        "          contador-=1\n",
        "  return factorial\n",
        "resultado=cal_factorial(20)\n",
        "print(resultado)\n",
        "\n",
        "\n",
        "  "
      ],
      "metadata": {
        "colab": {
          "base_uri": "https://localhost:8080/"
        },
        "id": "3rx1kRAcjlYG",
        "outputId": "69ec1b77-4c28-4abf-d125-9388f7919cc2"
      },
      "execution_count": null,
      "outputs": [
        {
          "output_type": "stream",
          "name": "stdout",
          "text": [
            "2432902008176640000\n"
          ]
        }
      ]
    }
  ]
}