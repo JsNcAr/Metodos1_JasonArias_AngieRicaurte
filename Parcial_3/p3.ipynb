{
 "cells": [
  {
   "cell_type": "code",
   "execution_count": 1,
   "metadata": {},
   "outputs": [],
   "source": [
    "import numpy as np\n",
    "import sympy as sp\n",
    "import matplotlib.pyplot as plt\n",
    "sp.init_printing(use_latex=True)"
   ]
  },
  {
   "cell_type": "code",
   "execution_count": 2,
   "metadata": {},
   "outputs": [
    {
     "data": {
      "text/latex": [
       "$\\displaystyle \\left[\\begin{matrix}3 \\left(\\operatorname{re}{\\left(x\\right)} - \\operatorname{im}{\\left(y\\right)}\\right)^{2} - 3 \\left(\\operatorname{re}{\\left(y\\right)} + \\operatorname{im}{\\left(x\\right)}\\right)^{2} & - 6 \\left(\\operatorname{re}{\\left(x\\right)} - \\operatorname{im}{\\left(y\\right)}\\right) \\left(\\operatorname{re}{\\left(y\\right)} + \\operatorname{im}{\\left(x\\right)}\\right)\\\\6 \\left(\\operatorname{re}{\\left(x\\right)} - \\operatorname{im}{\\left(y\\right)}\\right) \\left(\\operatorname{re}{\\left(y\\right)} + \\operatorname{im}{\\left(x\\right)}\\right) & 3 \\left(\\operatorname{re}{\\left(x\\right)} - \\operatorname{im}{\\left(y\\right)}\\right)^{2} - 3 \\left(\\operatorname{re}{\\left(y\\right)} + \\operatorname{im}{\\left(x\\right)}\\right)^{2}\\end{matrix}\\right]$"
      ],
      "text/plain": [
       "⎡                 2                    2                                      \n",
       "⎢3⋅(re(x) - im(y))  - 3⋅(re(y) + im(x))     -6⋅(re(x) - im(y))⋅(re(y) + im(x))\n",
       "⎢                                                                             \n",
       "⎢                                                          2                  \n",
       "⎣   6⋅(re(x) - im(y))⋅(re(y) + im(x))     3⋅(re(x) - im(y))  - 3⋅(re(y) + im(x\n",
       "\n",
       "   ⎤\n",
       "   ⎥\n",
       "   ⎥\n",
       "  2⎥\n",
       ")) ⎦"
      ]
     },
     "execution_count": 2,
     "metadata": {},
     "output_type": "execute_result"
    }
   ],
   "source": [
    "# a\n",
    "x, y = sp.symbols('x y')\n",
    "# b\n",
    "z = x + sp.I*y\n",
    "# c\n",
    "f = z**3 -1\n",
    "# d\n",
    "F = [sp.re(f), sp.im(f)]\n",
    "# e\n",
    "def jacobian(F):\n",
    "    df_dx = sp.diff(f, x)\n",
    "    df_dy = sp.diff(f, y)\n",
    "    J = sp.Matrix([[sp.re(df_dx), sp.re(df_dy)], [sp.im(df_dx), sp.im(df_dy)]])\n",
    "    return J\n",
    "\n",
    "J = jacobian(F)\n",
    "J\n"
   ]
  },
  {
   "cell_type": "code",
   "execution_count": 3,
   "metadata": {},
   "outputs": [],
   "source": [
    "#f\n",
    "Fn = sp.lambdify([x, y], F)\n",
    "Jn = sp.lambdify([x, y], J)"
   ]
  },
  {
   "cell_type": "code",
   "execution_count": 4,
   "metadata": {},
   "outputs": [],
   "source": [
    "#g\n",
    "def Newton(F, J, z0, tol=1e-7, maxiter=10000):\n",
    "    z = z0\n",
    "    for i in range(maxiter):\n",
    "        j = J(z[0], z[1])\n",
    "        Jinv = np.linalg.inv(j)\n",
    "        Fz = F(z[0], z[1])\n",
    "        if np.linalg.norm(Fz) < tol:\n",
    "            return z\n",
    "        z = z - Jinv.dot(Fz)\n",
    "    return z"
   ]
  },
  {
   "cell_type": "code",
   "execution_count": 5,
   "metadata": {},
   "outputs": [
    {
     "name": "stdout",
     "output_type": "stream",
     "text": [
      "[-0.5        0.8660254]\n"
     ]
    }
   ],
   "source": [
    "# h\n",
    "print(Newton(Fn, Jn, np.array([0.5, 0.5])))"
   ]
  },
  {
   "cell_type": "code",
   "execution_count": 6,
   "metadata": {},
   "outputs": [],
   "source": [
    "# i\n",
    "N = 50\n",
    "x = np.linspace(-1, 1, N)\n",
    "y = np.linspace(-1, 1, N)\n",
    "\n",
    "\n"
   ]
  },
  {
   "cell_type": "code",
   "execution_count": 7,
   "metadata": {},
   "outputs": [],
   "source": [
    "Fractal = np.zeros((N, N), np.int64)\n",
    "\n",
    "def FractalConvergence(F, J, z0, tol=1e-7, maxiter=1000):\n",
    "    z1 = Newton(F, J, z0)\n",
    "    z2 = Newton(F, J, z1)\n",
    "    for i in range(maxiter):\n",
    "        j = J(z0[0], z0[1])\n",
    "        Jinv = np.linalg.inv(j)\n",
    "        Fz = F(z0[0], z0[1])\n",
    "        if np.linalg.norm(Fz) < tol:\n",
    "            return 20\n",
    "    for i in range(maxiter):\n",
    "        j = J(z1[0], z1[1])\n",
    "        Jinv = np.linalg.inv(j)\n",
    "        Fz = F(z1[0], z1[1])\n",
    "        if np.linalg.norm(Fz) < tol:\n",
    "            return 100\n",
    "    for i in range(maxiter):\n",
    "        j = J(z2[0], z2[1])\n",
    "        Jinv = np.linalg.inv(j)\n",
    "        Fz = F(z2[0], z2[1])\n",
    "        if np.linalg.norm(Fz) < tol:\n",
    "            return 255\n",
    "    return 0\n"
   ]
  },
  {
   "cell_type": "code",
   "execution_count": 8,
   "metadata": {},
   "outputs": [],
   "source": [
    "Z = np.array(np.meshgrid(x, y)).T.reshape(-1, 2)\n",
    "Fractal = np.array([FractalConvergence(Fn, Jn, z) for z in Z]).reshape(N, N)\n"
   ]
  },
  {
   "cell_type": "code",
   "execution_count": 10,
   "metadata": {},
   "outputs": [
    {
     "name": "stdout",
     "output_type": "stream",
     "text": [
      "[[100 100 100 ... 100 100 100]\n",
      " [100 100 100 ... 100 100 100]\n",
      " [100 100 100 ... 100 100 100]\n",
      " ...\n",
      " [100 100 100 ... 100 100 100]\n",
      " [100 100 100 ... 100 100 100]\n",
      " [100 100 100 ... 100 100 100]]\n"
     ]
    }
   ],
   "source": [
    "print(Fractal)"
   ]
  },
  {
   "cell_type": "code",
   "execution_count": 9,
   "metadata": {},
   "outputs": [
    {
     "data": {
      "text/plain": [
       "<matplotlib.image.AxesImage at 0x7efe57019f30>"
      ]
     },
     "execution_count": 9,
     "metadata": {},
     "output_type": "execute_result"
    },
    {
     "data": {
      "image/png": "[encoded data removed]",
      "text/plain": [
       "<Figure size 640x480 with 1 Axes>"
      ]
     },
     "metadata": {},
     "output_type": "display_data"
    }
   ],
   "source": [
    "plt.imshow(Fractal, cmap='coolwarm' ,extent=[-1,1,-1,1])"
   ]
  }
 ],
 "metadata": {
  "kernelspec": {
   "display_name": "Python 3",
   "language": "python",
   "name": "python3"
  },
  "language_info": {
   "codemirror_mode": {
    "name": "ipython",
    "version": 3
   },
   "file_extension": ".py",
   "mimetype": "text/x-python",
   "name": "python",
   "nbconvert_exporter": "python",
   "pygments_lexer": "ipython3",
   "version": "3.10.9"
  },
  "orig_nbformat": 4
 },
 "nbformat": 4,
 "nbformat_minor": 2
}
