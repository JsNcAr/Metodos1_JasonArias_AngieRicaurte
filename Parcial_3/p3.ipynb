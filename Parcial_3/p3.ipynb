{
 "cells": [
  {
   "cell_type": "code",
   "execution_count": 35,
   "metadata": {},
   "outputs": [],
   "source": [
    "import numpy as np\n",
    "import sympy as sp\n",
    "import matplotlib.pyplot as plt\n",
    "sp.init_printing(use_latex=True)"
   ]
  },
  {
   "cell_type": "code",
   "execution_count": 31,
   "metadata": {},
   "outputs": [
    {
     "data": {
      "text/latex": [
       "$\\displaystyle \\left[\\begin{matrix}3 \\left(\\operatorname{re}{\\left(x\\right)} - \\operatorname{im}{\\left(y\\right)}\\right)^{2} - 3 \\left(\\operatorname{re}{\\left(y\\right)} + \\operatorname{im}{\\left(x\\right)}\\right)^{2} & - 6 \\left(\\operatorname{re}{\\left(x\\right)} - \\operatorname{im}{\\left(y\\right)}\\right) \\left(\\operatorname{re}{\\left(y\\right)} + \\operatorname{im}{\\left(x\\right)}\\right)\\\\6 \\left(\\operatorname{re}{\\left(x\\right)} - \\operatorname{im}{\\left(y\\right)}\\right) \\left(\\operatorname{re}{\\left(y\\right)} + \\operatorname{im}{\\left(x\\right)}\\right) & 3 \\left(\\operatorname{re}{\\left(x\\right)} - \\operatorname{im}{\\left(y\\right)}\\right)^{2} - 3 \\left(\\operatorname{re}{\\left(y\\right)} + \\operatorname{im}{\\left(x\\right)}\\right)^{2}\\end{matrix}\\right]$"
      ],
      "text/plain": [
       "⎡                 2                    2                                      \n",
       "⎢3⋅(re(x) - im(y))  - 3⋅(re(y) + im(x))     -6⋅(re(x) - im(y))⋅(re(y) + im(x))\n",
       "⎢                                                                             \n",
       "⎢                                                          2                  \n",
       "⎣   6⋅(re(x) - im(y))⋅(re(y) + im(x))     3⋅(re(x) - im(y))  - 3⋅(re(y) + im(x\n",
       "\n",
       "   ⎤\n",
       "   ⎥\n",
       "   ⎥\n",
       "  2⎥\n",
       ")) ⎦"
      ]
     },
     "execution_count": 31,
     "metadata": {},
     "output_type": "execute_result"
    }
   ],
   "source": [
    "# a\n",
    "x, y = sp.symbols('x y')\n",
    "# b\n",
    "z = x + sp.I*y\n",
    "# c\n",
    "f = z**3 -1\n",
    "# d\n",
    "F = [sp.re(f), sp.im(f)]\n",
    "# e\n",
    "def jacobian(F):\n",
    "    df_dx = sp.diff(f, x)\n",
    "    df_dy = sp.diff(f, y)\n",
    "    J = sp.Matrix([[sp.re(df_dx), sp.re(df_dy)], [sp.im(df_dx), sp.im(df_dy)]])\n",
    "    return J\n",
    "\n",
    "J = jacobian(F)\n",
    "J\n"
   ]
  },
  {
   "cell_type": "code",
   "execution_count": 32,
   "metadata": {},
   "outputs": [],
   "source": [
    "#f\n",
    "Fn = sp.lambdify([x, y], F)\n",
    "Jn = sp.lambdify([x, y], J)"
   ]
  },
  {
   "cell_type": "code",
   "execution_count": 34,
   "metadata": {},
   "outputs": [
    {
     "name": "stdout",
     "output_type": "stream",
     "text": [
      "[-0.5        0.8660254]\n"
     ]
    }
   ],
   "source": [
    "#g\n",
    "def Newton(F, J, z0, tol=1e-7, maxiter=10000):\n",
    "    z = z0\n",
    "    for i in range(maxiter):\n",
    "        j = J(z[0], z[1])\n",
    "        Jinv = np.linalg.inv(j)\n",
    "        Fz = F(z[0], z[1])\n",
    "        if np.linalg.norm(Fz) < tol:\n",
    "            return z\n",
    "        z = z - Jinv.dot(Fz)\n",
    "    return z"
   ]
  },
  {
   "cell_type": "code",
   "execution_count": null,
   "metadata": {},
   "outputs": [],
   "source": [
    "# h\n",
    "print(Newton(Fn, Jn, np.array([0.5, 0.5])))"
   ]
  },
  {
   "cell_type": "code",
   "execution_count": 39,
   "metadata": {},
   "outputs": [],
   "source": [
    "# i\n",
    "N = 300\n",
    "x = np.linspace(-1, 1, N)\n",
    "y = np.linspace(-1, 1, N)\n",
    "\n",
    "\n"
   ]
  },
  {
   "attachments": {},
   "cell_type": "markdown",
   "metadata": {},
   "source": [
    "def convergencia(F, J, x, y):\n",
    "    raices = []\n",
    "    for i in x:\n",
    "        for j in y:\n",
    "            r = Newton(F, J, np.array([i, j]))\n",
    "            if r is not None:\n",
    "                raices.append(r)\n",
    "    return raices\n",
    "\n",
    "raices = convergencia(Fn, Jn, x, y)\n",
    "raices = np.array(raices)\n",
    "\n",
    "def convergencia(F, J, x, y):\n",
    "    xx, yy = np.meshgrid(x, y)\n",
    "    z0 = np.column_stack([xx.ravel(), yy.ravel()])\n",
    "    raices = np.array([Newton(F, J, z) for z in z0])\n",
    "    raices = raices[np.logical_not(np.all(raices == None, axis=1))]\n",
    "    return raices\n",
    "\n",
    "\n",
    "raices = convergencia(Fn, Jn, x, y)\n",
    "raices = np.array(raices)"
   ]
  },
  {
   "cell_type": "code",
   "execution_count": 42,
   "metadata": {},
   "outputs": [],
   "source": [
    "Fractal = np.zeros((N, N), np.int64)\n",
    "\n",
    "\n",
    "def FractalConvergence(F, J, z0, tol=1e-7, maxiter=10000):\n",
    "    z1 = Newton(F, J, z0)\n",
    "    z2 = Newton(F, J, z1)\n",
    "    for i in range(maxiter):\n",
    "        j = J(z0[0], z0[1])\n",
    "        Jinv = np.linalg.inv(j)\n",
    "        Fz = F(z0[0], z0[1])\n",
    "        if np.linalg.norm(Fz) < tol:\n",
    "            return 20\n",
    "    for i in range(maxiter):\n",
    "        j = J(z1[0], z1[1])\n",
    "        Jinv = np.linalg.inv(j)\n",
    "        Fz = F(z1[0], z1[1])\n",
    "        if np.linalg.norm(Fz) < tol:\n",
    "            return 100\n",
    "    for i in range(maxiter):\n",
    "        j = J(z2[0], z2[1])\n",
    "        Jinv = np.linalg.inv(j)\n",
    "        Fz = F(z2[0], z2[1])\n",
    "        if np.linalg.norm(Fz) < tol:\n",
    "            return 255\n",
    "    return 0\n"
   ]
  },
  {
   "cell_type": "code",
   "execution_count": 43,
   "metadata": {},
   "outputs": [
    {
     "ename": "KeyboardInterrupt",
     "evalue": "",
     "output_type": "error",
     "traceback": [
      "\u001b[0;31m---------------------------------------------------------------------------\u001b[0m",
      "\u001b[0;31mKeyboardInterrupt\u001b[0m                         Traceback (most recent call last)",
      "Cell \u001b[0;32mIn[43], line 3\u001b[0m\n\u001b[1;32m      1\u001b[0m \u001b[39mfor\u001b[39;00m i \u001b[39min\u001b[39;00m \u001b[39mrange\u001b[39m(N):\n\u001b[1;32m      2\u001b[0m     \u001b[39mfor\u001b[39;00m j \u001b[39min\u001b[39;00m \u001b[39mrange\u001b[39m(N):\n\u001b[0;32m----> 3\u001b[0m         Fractal[i, j] \u001b[39m=\u001b[39m FractalConvergence(Fn, Jn, np\u001b[39m.\u001b[39;49marray([x[i], y[j]]))\n\u001b[1;32m      5\u001b[0m plt\u001b[39m.\u001b[39mimshow(Fractal, cmap\u001b[39m=\u001b[39m\u001b[39m'\u001b[39m\u001b[39mgray\u001b[39m\u001b[39m'\u001b[39m)\n",
      "Cell \u001b[0;32mIn[42], line 11\u001b[0m, in \u001b[0;36mFractalConvergence\u001b[0;34m(F, J, z0, tol, maxiter)\u001b[0m\n\u001b[1;32m      9\u001b[0m     Jinv \u001b[39m=\u001b[39m np\u001b[39m.\u001b[39mlinalg\u001b[39m.\u001b[39minv(j)\n\u001b[1;32m     10\u001b[0m     Fz \u001b[39m=\u001b[39m F(z0[\u001b[39m0\u001b[39m], z0[\u001b[39m1\u001b[39m])\n\u001b[0;32m---> 11\u001b[0m     \u001b[39mif\u001b[39;00m np\u001b[39m.\u001b[39;49mlinalg\u001b[39m.\u001b[39;49mnorm(Fz) \u001b[39m<\u001b[39m tol:\n\u001b[1;32m     12\u001b[0m         \u001b[39mreturn\u001b[39;00m \u001b[39m20\u001b[39m\n\u001b[1;32m     13\u001b[0m \u001b[39mfor\u001b[39;00m i \u001b[39min\u001b[39;00m \u001b[39mrange\u001b[39m(maxiter):\n",
      "File \u001b[0;32m<__array_function__ internals>:179\u001b[0m, in \u001b[0;36mnorm\u001b[0;34m(*args, **kwargs)\u001b[0m\n",
      "\u001b[0;31mKeyboardInterrupt\u001b[0m: "
     ]
    }
   ],
   "source": [
    "for i in range(N):\n",
    "    for j in range(N):\n",
    "        Fractal[i, j] = FractalConvergence(Fn, Jn, np.array([x[i], y[j]]))\n",
    "\n",
    "plt.imshow(Fractal, cmap='gray')"
   ]
  }
 ],
 "metadata": {
  "kernelspec": {
   "display_name": "Python 3",
   "language": "python",
   "name": "python3"
  },
  "language_info": {
   "codemirror_mode": {
    "name": "ipython",
    "version": 3
   },
   "file_extension": ".py",
   "mimetype": "text/x-python",
   "name": "python",
   "nbconvert_exporter": "python",
   "pygments_lexer": "ipython3",
   "version": "3.10.9"
  },
  "orig_nbformat": 4
 },
 "nbformat": 4,
 "nbformat_minor": 2
}
