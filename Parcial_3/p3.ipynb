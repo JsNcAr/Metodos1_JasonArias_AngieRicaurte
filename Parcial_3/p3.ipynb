{
 "cells": [
  {
   "cell_type": "code",
   "execution_count": 4,
   "metadata": {},
   "outputs": [],
   "source": [
    "import numpy as np\n",
    "import sympy as sp\n",
    "sp.init_printing(use_latex=True)"
   ]
  },
  {
   "cell_type": "code",
   "execution_count": 31,
   "metadata": {},
   "outputs": [
    {
     "data": {
      "text/latex": [
       "$\\displaystyle \\left[\\begin{matrix}3 \\left(\\operatorname{re}{\\left(x\\right)} - \\operatorname{im}{\\left(y\\right)}\\right)^{2} - 3 \\left(\\operatorname{re}{\\left(y\\right)} + \\operatorname{im}{\\left(x\\right)}\\right)^{2} & - 6 \\left(\\operatorname{re}{\\left(x\\right)} - \\operatorname{im}{\\left(y\\right)}\\right) \\left(\\operatorname{re}{\\left(y\\right)} + \\operatorname{im}{\\left(x\\right)}\\right)\\\\6 \\left(\\operatorname{re}{\\left(x\\right)} - \\operatorname{im}{\\left(y\\right)}\\right) \\left(\\operatorname{re}{\\left(y\\right)} + \\operatorname{im}{\\left(x\\right)}\\right) & 3 \\left(\\operatorname{re}{\\left(x\\right)} - \\operatorname{im}{\\left(y\\right)}\\right)^{2} - 3 \\left(\\operatorname{re}{\\left(y\\right)} + \\operatorname{im}{\\left(x\\right)}\\right)^{2}\\end{matrix}\\right]$"
      ],
      "text/plain": [
       "⎡                 2                    2                                      \n",
       "⎢3⋅(re(x) - im(y))  - 3⋅(re(y) + im(x))     -6⋅(re(x) - im(y))⋅(re(y) + im(x))\n",
       "⎢                                                                             \n",
       "⎢                                                          2                  \n",
       "⎣   6⋅(re(x) - im(y))⋅(re(y) + im(x))     3⋅(re(x) - im(y))  - 3⋅(re(y) + im(x\n",
       "\n",
       "   ⎤\n",
       "   ⎥\n",
       "   ⎥\n",
       "  2⎥\n",
       ")) ⎦"
      ]
     },
     "execution_count": 31,
     "metadata": {},
     "output_type": "execute_result"
    }
   ],
   "source": [
    "# a\n",
    "x, y = sp.symbols('x y')\n",
    "# b\n",
    "z = x + sp.I*y\n",
    "# c\n",
    "f = z**3 -1\n",
    "# d\n",
    "F = [sp.re(f), sp.im(f)]\n",
    "# e\n",
    "def jacobian(F):\n",
    "    df_dx = sp.diff(f, x)\n",
    "    df_dy = sp.diff(f, y)\n",
    "    J = sp.Matrix([[sp.re(df_dx), sp.re(df_dy)], [sp.im(df_dx), sp.im(df_dy)]])\n",
    "    return J\n",
    "\n",
    "J = jacobian(F)\n",
    "J\n"
   ]
  },
  {
   "cell_type": "code",
   "execution_count": 32,
   "metadata": {},
   "outputs": [],
   "source": [
    "#f\n",
    "Fn = sp.lambdify([x, y], F)\n",
    "Jn = sp.lambdify([x, y], J)"
   ]
  },
  {
   "cell_type": "code",
   "execution_count": 33,
   "metadata": {},
   "outputs": [
    {
     "data": {
      "text/plain": [
       "array([[ 0, -6],\n",
       "       [ 6,  0]])"
      ]
     },
     "execution_count": 33,
     "metadata": {},
     "output_type": "execute_result"
    }
   ],
   "source": [
    "#g\n",
    "Jn(1, 1)"
   ]
  },
  {
   "cell_type": "code",
   "execution_count": 8,
   "metadata": {},
   "outputs": [],
   "source": [
    "#Newton-Raphson generalized\n",
    "\n",
    "def NewtonRaphson(f, g, x, y, tol, N):\n",
    "    x0 = x\n",
    "    y0 = y\n",
    "    x_s = sp.Symbol('x')\n",
    "    y_s = sp.Symbol('y')\n",
    "    for i in range(N):\n",
    "        print(\"Iteracion \", i+1)\n",
    "        J = sp.Matrix([f, g]).jacobian([x_s, y_s])\n",
    "        J = J.evalf(subs={x_s: x0, y_s: y0})\n",
    "        J_inv = np.linalg.inv(J)\n",
    "        x1 = x0 - (J_inv[0][0]*f(x0, y0) + J_inv[0][1]*g(x0, y0))\n",
    "        y1 = y0 - (J_inv[1][0]*f(x0, y0) + J_inv[1][1]*g(x0, y0))\n",
    "        if abs(x1-x0) < tol and abs(y1-y0) < tol:\n",
    "            return x1, y1\n",
    "        x0 = x1\n",
    "        y0 = y1\n",
    "    return x1, y1"
   ]
  },
  {
   "cell_type": "markdown",
   "metadata": {},
   "source": [
    "def NewtonRaphson(f, g, x0, y0, tol, n):\n",
    "    x = sp.symbols('x')\n",
    "    y = sp.symbols('y')\n",
    "    J = Jacobian(f, g, x, y)\n",
    "    print(J)\n",
    "    Jinv = J.inv()\n",
    "    for i in range(n):\n",
    "        F = np.array([f.subs([(x, x0), (y, y0)]),\n",
    "                      g.subs([(x, x0), (y, y0)])]).astype(float)\n",
    "        X = np.array([x0, y0]).astype(float)\n",
    "        X = X - np.dot(Jinv, F)\n",
    "        if np.linalg.norm(X - np.array([x0, y0]).astype(float)) < tol:\n",
    "            return X\n",
    "        x0 = X[0]\n",
    "        y0 = X[1]\n",
    "    return np.array([x0, y0]).astype(float)"
   ]
  },
  {
   "cell_type": "code",
   "execution_count": 3,
   "metadata": {},
   "outputs": [],
   "source": [
    "def f(x, y):\n",
    "    return x**2 - y**2 - 3\n",
    "\n",
    "\n",
    "def g(x, y):\n",
    "    return x**2 + y**2 - 9\n"
   ]
  },
  {
   "cell_type": "code",
   "execution_count": 9,
   "metadata": {},
   "outputs": [
    {
     "name": "stdout",
     "output_type": "stream",
     "text": [
      "Iteracion  1\n"
     ]
    },
    {
     "name": "stderr",
     "output_type": "stream",
     "text": [
      "/home/codespace/.python/current/lib/python3.10/site-packages/sympy/matrices/matrices.py:1035: SymPyDeprecationWarning: \n",
      "\n",
      "The string fallback in sympify() is deprecated.\n",
      "\n",
      "To explicitly convert the string form of an object, use\n",
      "sympify(str(obj)). To add define sympify behavior on custom\n",
      "objects, use sympy.core.sympify.converter or define obj._sympy_\n",
      "(see the sympify() docstring).\n",
      "\n",
      "sympify() performed the string fallback resulting in the following string:\n",
      "\n",
      "'<function f at 0x7f235834d120>'\n",
      "\n",
      "See https://docs.sympy.org/latest/explanation/active-deprecations.html#deprecated-sympify-string-fallback\n",
      "for details.\n",
      "\n",
      "This has been deprecated since SymPy version 1.6. It\n",
      "will be removed in a future version of SymPy.\n",
      "\n",
      "  flat_list = [cls._sympify(i) for i in dat]\n"
     ]
    },
    {
     "ename": "SympifyError",
     "evalue": "Sympify of expression 'could not parse '<function f at 0x7f235834d120>'' failed, because of exception being raised:\nSyntaxError: invalid syntax (<string>, line 1)",
     "output_type": "error",
     "traceback": [
      "\u001b[0;31m---------------------------------------------------------------------------\u001b[0m",
      "\u001b[0;31mValueError\u001b[0m                                Traceback (most recent call last)",
      "\u001b[0;31mValueError\u001b[0m: Error from parse_expr with transformed code: \"<Symbol ('function' )Symbol ('f' )Symbol ('at' )Integer (0x7f235834d120 )>\"",
      "\nThe above exception was the direct cause of the following exception:\n",
      "\u001b[0;31mSyntaxError\u001b[0m                               Traceback (most recent call last)",
      "File \u001b[0;32m~/.python/current/lib/python3.10/site-packages/sympy/core/sympify.py:496\u001b[0m, in \u001b[0;36msympify\u001b[0;34m(a, locals, convert_xor, strict, rational, evaluate)\u001b[0m\n\u001b[1;32m    495\u001b[0m     a \u001b[39m=\u001b[39m a\u001b[39m.\u001b[39mreplace(\u001b[39m'\u001b[39m\u001b[39m\\n\u001b[39;00m\u001b[39m'\u001b[39m, \u001b[39m'\u001b[39m\u001b[39m'\u001b[39m)\n\u001b[0;32m--> 496\u001b[0m     expr \u001b[39m=\u001b[39m parse_expr(a, local_dict\u001b[39m=\u001b[39;49m\u001b[39mlocals\u001b[39;49m, transformations\u001b[39m=\u001b[39;49mtransformations, evaluate\u001b[39m=\u001b[39;49mevaluate)\n\u001b[1;32m    497\u001b[0m \u001b[39mexcept\u001b[39;00m (TokenError, \u001b[39mSyntaxError\u001b[39;00m) \u001b[39mas\u001b[39;00m exc:\n",
      "File \u001b[0;32m~/.python/current/lib/python3.10/site-packages/sympy/parsing/sympy_parser.py:1101\u001b[0m, in \u001b[0;36mparse_expr\u001b[0;34m(s, local_dict, transformations, global_dict, evaluate)\u001b[0m\n\u001b[1;32m   1100\u001b[0m     local_dict[i] \u001b[39m=\u001b[39m null\n\u001b[0;32m-> 1101\u001b[0m \u001b[39mraise\u001b[39;00m e \u001b[39mfrom\u001b[39;00m \u001b[39mValueError\u001b[39;00m(\u001b[39mf\u001b[39m\u001b[39m\"\u001b[39m\u001b[39mError from parse_expr with transformed code: \u001b[39m\u001b[39m{\u001b[39;00mcode\u001b[39m!r}\u001b[39;00m\u001b[39m\"\u001b[39m)\n",
      "File \u001b[0;32m~/.python/current/lib/python3.10/site-packages/sympy/parsing/sympy_parser.py:1092\u001b[0m, in \u001b[0;36mparse_expr\u001b[0;34m(s, local_dict, transformations, global_dict, evaluate)\u001b[0m\n\u001b[1;32m   1091\u001b[0m \u001b[39mtry\u001b[39;00m:\n\u001b[0;32m-> 1092\u001b[0m     rv \u001b[39m=\u001b[39m eval_expr(code, local_dict, global_dict)\n\u001b[1;32m   1093\u001b[0m     \u001b[39m# restore neutral definitions for names\u001b[39;00m\n",
      "File \u001b[0;32m~/.python/current/lib/python3.10/site-packages/sympy/parsing/sympy_parser.py:907\u001b[0m, in \u001b[0;36meval_expr\u001b[0;34m(code, local_dict, global_dict)\u001b[0m\n\u001b[1;32m    902\u001b[0m \u001b[39m\u001b[39m\u001b[39m\"\"\"\u001b[39;00m\n\u001b[1;32m    903\u001b[0m \u001b[39mEvaluate Python code generated by ``stringify_expr``.\u001b[39;00m\n\u001b[1;32m    904\u001b[0m \n\u001b[1;32m    905\u001b[0m \u001b[39mGenerally, ``parse_expr`` should be used.\u001b[39;00m\n\u001b[1;32m    906\u001b[0m \u001b[39m\"\"\"\u001b[39;00m\n\u001b[0;32m--> 907\u001b[0m expr \u001b[39m=\u001b[39m \u001b[39meval\u001b[39;49m(\n\u001b[1;32m    908\u001b[0m     code, global_dict, local_dict)  \u001b[39m# take local objects in preference\u001b[39;00m\n\u001b[1;32m    909\u001b[0m \u001b[39mreturn\u001b[39;00m expr\n",
      "\u001b[0;31mSyntaxError\u001b[0m: invalid syntax (<string>, line 1)",
      "\nDuring handling of the above exception, another exception occurred:\n",
      "\u001b[0;31mSympifyError\u001b[0m                              Traceback (most recent call last)",
      "Cell \u001b[0;32mIn[9], line 4\u001b[0m\n\u001b[1;32m      2\u001b[0m y \u001b[39m=\u001b[39m np\u001b[39m.\u001b[39mlinspace(\u001b[39m-\u001b[39m\u001b[39m3\u001b[39m, \u001b[39m3\u001b[39m, \u001b[39m100\u001b[39m)\n\u001b[1;32m      3\u001b[0m F \u001b[39m=\u001b[39m np\u001b[39m.\u001b[39marray([f, g])\n\u001b[0;32m----> 4\u001b[0m \u001b[39mprint\u001b[39m(NewtonRaphson(f, g, x, y, \u001b[39m1e-10\u001b[39;49m, \u001b[39m100\u001b[39;49m))\n",
      "Cell \u001b[0;32mIn[8], line 10\u001b[0m, in \u001b[0;36mNewtonRaphson\u001b[0;34m(f, g, x, y, tol, N)\u001b[0m\n\u001b[1;32m      8\u001b[0m \u001b[39mfor\u001b[39;00m i \u001b[39min\u001b[39;00m \u001b[39mrange\u001b[39m(N):\n\u001b[1;32m      9\u001b[0m     \u001b[39mprint\u001b[39m(\u001b[39m\"\u001b[39m\u001b[39mIteracion \u001b[39m\u001b[39m\"\u001b[39m, i\u001b[39m+\u001b[39m\u001b[39m1\u001b[39m)\n\u001b[0;32m---> 10\u001b[0m     J \u001b[39m=\u001b[39m sp\u001b[39m.\u001b[39;49mMatrix([f, g])\u001b[39m.\u001b[39mjacobian([x_s, y_s])\n\u001b[1;32m     11\u001b[0m     J \u001b[39m=\u001b[39m J\u001b[39m.\u001b[39mevalf(subs\u001b[39m=\u001b[39m{x_s: x0, y_s: y0})\n\u001b[1;32m     12\u001b[0m     J_inv \u001b[39m=\u001b[39m np\u001b[39m.\u001b[39mlinalg\u001b[39m.\u001b[39minv(J)\n",
      "File \u001b[0;32m~/.python/current/lib/python3.10/site-packages/sympy/matrices/repmatrix.py:329\u001b[0m, in \u001b[0;36mMutableRepMatrix.__new__\u001b[0;34m(cls, *args, **kwargs)\u001b[0m\n\u001b[1;32m    328\u001b[0m \u001b[39mdef\u001b[39;00m \u001b[39m__new__\u001b[39m(\u001b[39mcls\u001b[39m, \u001b[39m*\u001b[39margs, \u001b[39m*\u001b[39m\u001b[39m*\u001b[39mkwargs):\n\u001b[0;32m--> 329\u001b[0m     \u001b[39mreturn\u001b[39;00m \u001b[39mcls\u001b[39;49m\u001b[39m.\u001b[39;49m_new(\u001b[39m*\u001b[39;49margs, \u001b[39m*\u001b[39;49m\u001b[39m*\u001b[39;49mkwargs)\n",
      "File \u001b[0;32m~/.python/current/lib/python3.10/site-packages/sympy/matrices/repmatrix.py:340\u001b[0m, in \u001b[0;36mMutableRepMatrix._new\u001b[0;34m(cls, copy, *args, **kwargs)\u001b[0m\n\u001b[1;32m    338\u001b[0m     rows, cols, flat_list \u001b[39m=\u001b[39m args\n\u001b[1;32m    339\u001b[0m \u001b[39melse\u001b[39;00m:\n\u001b[0;32m--> 340\u001b[0m     rows, cols, flat_list \u001b[39m=\u001b[39m \u001b[39mcls\u001b[39;49m\u001b[39m.\u001b[39;49m_handle_creation_inputs(\u001b[39m*\u001b[39;49margs, \u001b[39m*\u001b[39;49m\u001b[39m*\u001b[39;49mkwargs)\n\u001b[1;32m    341\u001b[0m     flat_list \u001b[39m=\u001b[39m \u001b[39mlist\u001b[39m(flat_list) \u001b[39m# create a shallow copy\u001b[39;00m\n\u001b[1;32m    343\u001b[0m rep \u001b[39m=\u001b[39m \u001b[39mcls\u001b[39m\u001b[39m.\u001b[39m_flat_list_to_DomainMatrix(rows, cols, flat_list)\n",
      "File \u001b[0;32m~/.python/current/lib/python3.10/site-packages/sympy/matrices/matrices.py:1035\u001b[0m, in \u001b[0;36mMatrixBase._handle_creation_inputs\u001b[0;34m(cls, *args, **kwargs)\u001b[0m\n\u001b[1;32m   1032\u001b[0m     flat_list \u001b[39m=\u001b[39m []\n\u001b[1;32m   1033\u001b[0m \u001b[39melif\u001b[39;00m \u001b[39mnot\u001b[39;00m \u001b[39many\u001b[39m(raw(i) \u001b[39mor\u001b[39;00m ismat(i) \u001b[39mfor\u001b[39;00m i \u001b[39min\u001b[39;00m dat):\n\u001b[1;32m   1034\u001b[0m     \u001b[39m# a column as a list of values\u001b[39;00m\n\u001b[0;32m-> 1035\u001b[0m     flat_list \u001b[39m=\u001b[39m [\u001b[39mcls\u001b[39m\u001b[39m.\u001b[39m_sympify(i) \u001b[39mfor\u001b[39;00m i \u001b[39min\u001b[39;00m dat]\n\u001b[1;32m   1036\u001b[0m     rows \u001b[39m=\u001b[39m \u001b[39mlen\u001b[39m(flat_list)\n\u001b[1;32m   1037\u001b[0m     cols \u001b[39m=\u001b[39m \u001b[39m1\u001b[39m \u001b[39mif\u001b[39;00m rows \u001b[39melse\u001b[39;00m \u001b[39m0\u001b[39m\n",
      "File \u001b[0;32m~/.python/current/lib/python3.10/site-packages/sympy/matrices/matrices.py:1035\u001b[0m, in \u001b[0;36m<listcomp>\u001b[0;34m(.0)\u001b[0m\n\u001b[1;32m   1032\u001b[0m     flat_list \u001b[39m=\u001b[39m []\n\u001b[1;32m   1033\u001b[0m \u001b[39melif\u001b[39;00m \u001b[39mnot\u001b[39;00m \u001b[39many\u001b[39m(raw(i) \u001b[39mor\u001b[39;00m ismat(i) \u001b[39mfor\u001b[39;00m i \u001b[39min\u001b[39;00m dat):\n\u001b[1;32m   1034\u001b[0m     \u001b[39m# a column as a list of values\u001b[39;00m\n\u001b[0;32m-> 1035\u001b[0m     flat_list \u001b[39m=\u001b[39m [\u001b[39mcls\u001b[39;49m\u001b[39m.\u001b[39;49m_sympify(i) \u001b[39mfor\u001b[39;00m i \u001b[39min\u001b[39;00m dat]\n\u001b[1;32m   1036\u001b[0m     rows \u001b[39m=\u001b[39m \u001b[39mlen\u001b[39m(flat_list)\n\u001b[1;32m   1037\u001b[0m     cols \u001b[39m=\u001b[39m \u001b[39m1\u001b[39m \u001b[39mif\u001b[39;00m rows \u001b[39melse\u001b[39;00m \u001b[39m0\u001b[39m\n",
      "File \u001b[0;32m~/.python/current/lib/python3.10/site-packages/sympy/core/sympify.py:498\u001b[0m, in \u001b[0;36msympify\u001b[0;34m(a, locals, convert_xor, strict, rational, evaluate)\u001b[0m\n\u001b[1;32m    496\u001b[0m     expr \u001b[39m=\u001b[39m parse_expr(a, local_dict\u001b[39m=\u001b[39m\u001b[39mlocals\u001b[39m, transformations\u001b[39m=\u001b[39mtransformations, evaluate\u001b[39m=\u001b[39mevaluate)\n\u001b[1;32m    497\u001b[0m \u001b[39mexcept\u001b[39;00m (TokenError, \u001b[39mSyntaxError\u001b[39;00m) \u001b[39mas\u001b[39;00m exc:\n\u001b[0;32m--> 498\u001b[0m     \u001b[39mraise\u001b[39;00m SympifyError(\u001b[39m'\u001b[39m\u001b[39mcould not parse \u001b[39m\u001b[39m%r\u001b[39;00m\u001b[39m'\u001b[39m \u001b[39m%\u001b[39m a, exc)\n\u001b[1;32m    500\u001b[0m \u001b[39mreturn\u001b[39;00m expr\n",
      "\u001b[0;31mSympifyError\u001b[0m: Sympify of expression 'could not parse '<function f at 0x7f235834d120>'' failed, because of exception being raised:\nSyntaxError: invalid syntax (<string>, line 1)"
     ]
    }
   ],
   "source": [
    "x = np.linspace(-3, 3, 100)\n",
    "y = np.linspace(-3, 3, 100)\n",
    "F = np.array([f, g])\n",
    "print(NewtonRaphson(f, g, x, y, 1e-10, 100))"
   ]
  },
  {
   "attachments": {},
   "cell_type": "markdown",
   "metadata": {},
   "source": [
    "def f(p):\n",
    "    f = np.array([5*p[0]**2 + 3*p[0]*p[1] - 2, p[0]**2 + 7*p[1] + 3*p[0]*p[1] - 10])\n",
    "    return f\n",
    "\n",
    "def jacobian(f, x, h=1e-6):\n",
    "    n = len(x)\n",
    "    J = np.zeros((n, n))\n",
    "    fx = f(x)\n",
    "\n",
    "    for i in range(n):\n",
    "        x1 = np.copy(x)\n",
    "        x2 = np.copy(x)\n",
    "        x1[i] += h\n",
    "        x2[i] -= h\n",
    "        J[:, i] = (f(x1) - f(x2)) / (2*h)\n",
    "    return J\n",
    "\n",
    "def newton_raphson_Generalizado(f, J,x0, tol=1e-6, maxiter=100):\n",
    "    x = x0\n",
    "    for i in range(maxiter):\n",
    "        fx = f(x)\n",
    "        Ji= J(f, x)\n",
    "        dx = np.linalg.solve(Ji, -fx)\n",
    "        x = x + dx\n",
    "        if np.linalg.norm(dx) < tol:\n",
    "            return x\n",
    "\n",
    "p = np.array([1, 1])\n",
    "print(newton_raphson_Generalizado(f,jacobian,p))\n",
    "\n",
    "\n",
    "\n",
    "#Crear numeros complejos en sympy \n",
    "\n",
    "i = sym.symbols(\"i\")\n",
    "\n",
    "a = 1+5j\n",
    "b= 2+6j\n",
    "\n",
    "print(u)\n",
    "\n",
    "\n",
    "def jacobian(f, x, h=1e-6):\n",
    "    n = len(x)\n",
    "    J = np.zeros((n, n))\n",
    "    fx = f(x)\n",
    "    h_arr = h * np.identity(n)\n",
    "    \n",
    "    for i in np.ndindex(n):\n",
    "        x1 = x + h_arr[i]\n",
    "        x2 = x - h_arr[i]\n",
    "        J[:, i] = (f(x1) - f(x2)) / (2 * h)\n",
    "        \n",
    "    np.fill_diagonal(J, np.diag(J))\n",
    "    return J\n"
   ]
  }
 ],
 "metadata": {
  "kernelspec": {
   "display_name": "Python 3",
   "language": "python",
   "name": "python3"
  },
  "language_info": {
   "codemirror_mode": {
    "name": "ipython",
    "version": 3
   },
   "file_extension": ".py",
   "mimetype": "text/x-python",
   "name": "python",
   "nbconvert_exporter": "python",
   "pygments_lexer": "ipython3",
   "version": "3.10.9"
  },
  "orig_nbformat": 4
 },
 "nbformat": 4,
 "nbformat_minor": 2
}
