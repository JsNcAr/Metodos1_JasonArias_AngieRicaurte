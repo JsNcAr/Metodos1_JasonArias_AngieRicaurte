{
 "cells": [
  {
   "cell_type": "code",
   "execution_count": 1,
   "metadata": {},
   "outputs": [],
   "source": [
    "import numpy as np\n",
    "import matplotlib.pyplot as plt"
   ]
  },
  {
   "cell_type": "code",
   "execution_count": 2,
   "metadata": {},
   "outputs": [],
   "source": [
    "def E_x_integrate_function(phi, x, y, z, a=0.5):\n",
    "    num = x-a*np.cos(phi)\n",
    "    den = (x**2+y**2+z**2+a**2+2*a*x*np.cos(phi)-2*a*y*np.sin(phi))**(3/2)\n",
    "    return num/den"
   ]
  },
  {
   "cell_type": "code",
   "execution_count": 3,
   "metadata": {},
   "outputs": [],
   "source": [
    "def E_y_integrate_function(phi, x, y, z, a=0.5):\n",
    "    num = y-a*np.sin(phi)\n",
    "    den = (x**2+y**2+z**2+a**2+2*a*x*np.cos(phi)-2*a*y*np.sin(phi))**(3/2)\n",
    "    return num/den"
   ]
  },
  {
   "cell_type": "code",
   "execution_count": 4,
   "metadata": {},
   "outputs": [],
   "source": [
    "def E_z_integrate_function(phi, x, y, z, a=0.5):\n",
    "    num = z\n",
    "    den = (x**2+y**2+z**2+a**2+2*a*x*np.cos(phi)-2*a*y*np.sin(phi))**(3/2)\n",
    "    return num/den"
   ]
  },
  {
   "cell_type": "code",
   "execution_count": 5,
   "metadata": {},
   "outputs": [],
   "source": [
    "def simpson(f, a, b,x,y,z, n=100):\n",
    "    h = (b-a)/n\n",
    "    phi = np.linspace(a, b, n+1)\n",
    "    y = f(phi, x, y, z)\n",
    "    return h/3 * np.sum(y[0:-1:2] + 4*y[1::2] + y[2::2])"
   ]
  },
  {
   "cell_type": "code",
   "execution_count": 6,
   "metadata": {},
   "outputs": [],
   "source": [
    "def E_field(x, y, z, a=0.5):\n",
    "    Ex = simpson(E_x_integrate_function, 0, 2*np.pi, x, y, z)/(2*np.pi)\n",
    "    Ey = simpson(E_y_integrate_function, 0, 2*np.pi, x, y, z)/(2*np.pi)\n",
    "    Ez = simpson(E_z_integrate_function, 0, 2*np.pi, x, y, z)/(2*np.pi)\n",
    "    return Ex, Ey, Ez"
   ]
  },
  {
   "cell_type": "code",
   "execution_count": 7,
   "metadata": {},
   "outputs": [
    {
     "name": "stdout",
     "output_type": "stream",
     "text": [
      "(0.3148518449860865, 0.21152494075605963, 0.4386473214517885)\n"
     ]
    }
   ],
   "source": [
    "print(E_field(0.6, 0.6, 1))"
   ]
  },
  {
   "cell_type": "code",
   "execution_count": 8,
   "metadata": {},
   "outputs": [],
   "source": [
    "N = 6\n",
    "x = np.linspace(-0.6, 0.6, N)\n",
    "y = np.linspace(-0.6, 0.6, N)\n",
    "z = np.linspace(-0.6, 0.6, N)"
   ]
  },
  {
   "cell_type": "code",
   "execution_count": 9,
   "metadata": {},
   "outputs": [],
   "source": [
    "Ex = np.zeros((N, N, N))\n",
    "Ey = np.zeros((N, N, N))\n",
    "Ez = np.zeros((N, N, N))"
   ]
  },
  {
   "cell_type": "code",
   "execution_count": null,
   "metadata": {},
   "outputs": [],
   "source": []
  }
 ],
 "metadata": {
  "kernelspec": {
   "display_name": "base",
   "language": "python",
   "name": "python3"
  },
  "language_info": {
   "codemirror_mode": {
    "name": "ipython",
    "version": 3
   },
   "file_extension": ".py",
   "mimetype": "text/x-python",
   "name": "python",
   "nbconvert_exporter": "python",
   "pygments_lexer": "ipython3",
   "version": "3.10.4"
  },
  "orig_nbformat": 4
 },
 "nbformat": 4,
 "nbformat_minor": 2
}
