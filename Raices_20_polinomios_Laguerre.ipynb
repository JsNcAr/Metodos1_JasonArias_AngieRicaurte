{
  "nbformat": 4,
  "nbformat_minor": 0,
  "metadata": {
    "colab": {
      "provenance": [],
      "authorship_tag": "ABX9TyMC/AZuPsqVkO+PyUSzd19c"
    },
    "kernelspec": {
      "name": "python3",
      "display_name": "Python 3"
    },
    "language_info": {
      "name": "python"
    }
  },
  "cells": [
    {
      "cell_type": "code",
      "execution_count": 1,
      "metadata": {
        "colab": {
          "base_uri": "https://localhost:8080/"
        },
        "id": "-uXFl4OjC8do",
        "outputId": "df2d763f-f8bc-4a6a-8215-b3ecfec7d54c"
      },
      "outputs": [
        {
          "output_type": "stream",
          "name": "stdout",
          "text": [
            "Las raíces del polinomio de Laguerre L_0(x) son: []\n",
            "Las raíces del polinomio de Laguerre L_1(x) son: [0.0]\n",
            "Las raíces del polinomio de Laguerre L_2(x) son: [1.2807764064044151, -0.7807764064044151]\n",
            "Las raíces del polinomio de Laguerre L_3(x) son: [-0.9093145888517443]\n",
            "Las raíces del polinomio de Laguerre L_4(x) son: []\n",
            "Las raíces del polinomio de Laguerre L_5(x) son: [1.2165605768776941]\n",
            "Las raíces del polinomio de Laguerre L_6(x) son: [1.211436575515045, 0.3668386909319076]\n",
            "Las raíces del polinomio de Laguerre L_7(x) son: [-1.1002598174741567]\n",
            "Las raíces del polinomio de Laguerre L_8(x) son: [-1.2316749512718064, 1.1185691499545047]\n",
            "Las raíces del polinomio de Laguerre L_9(x) son: [1.382008822204774]\n",
            "Las raíces del polinomio de Laguerre L_10(x) son: []\n",
            "Las raíces del polinomio de Laguerre L_11(x) son: [0.6039265045183173]\n",
            "Las raíces del polinomio de Laguerre L_12(x) son: [1.425763517792071, -1.359320845085339]\n",
            "Las raíces del polinomio de Laguerre L_13(x) son: [-1.4800825488899179]\n",
            "Las raíces del polinomio de Laguerre L_14(x) son: [-1.3777578927928484, -0.4566435857291489]\n",
            "Las raíces del polinomio de Laguerre L_15(x) son: [1.4281315236436853]\n",
            "Las raíces del polinomio de Laguerre L_16(x) son: [1.3929478765152712, 0.810521205721643]\n",
            "Las raíces del polinomio de Laguerre L_17(x) son: [-1.3921912814053665]\n",
            "Las raíces del polinomio de Laguerre L_18(x) son: [-1.4589747289835384, 1.3834729977301667]\n",
            "Las raíces del polinomio de Laguerre L_19(x) son: [1.4868317342922408, -1.372592678621799, -0.0934243850984817]\n"
          ]
        }
      ],
      "source": [
        "import numpy as np\n",
        "from sympy import symbols, lambdify, diff, exp\n",
        "from sympy.abc import x\n",
        "\n",
        "def laguerre(n):\n",
        "    return exp(x) / np.math.factorial(n) * diff(exp(-x) * x**n, x, n)\n",
        "\n",
        "def laguerre_roots(n):\n",
        "    f = lambdify(x, laguerre(n), 'numpy')\n",
        "    roots = np.roots([f(i) for i in range(n+1)])\n",
        "    return roots.real[roots.imag == 0].tolist()\n",
        "\n",
        "for n in range(20):\n",
        "    roots = laguerre_roots(n)\n",
        "    print(f\"Las raíces del polinomio de Laguerre L_{n}(x) son: {roots}\")"
      ]
    }
  ]
}