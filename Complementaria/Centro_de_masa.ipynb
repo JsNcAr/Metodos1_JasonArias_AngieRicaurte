{
  "cells": [
    {
      "cell_type": "markdown",
      "metadata": {
        "id": "ySCvWQe5vxeT"
      },
      "source": [
        "## Librerias"
      ]
    },
    {
      "cell_type": "code",
      "execution_count": 1,
      "metadata": {
        "id": "VBo2Hv2tv0UR"
      },
      "outputs": [],
      "source": [
        "import numpy as np"
      ]
    },
    {
      "cell_type": "markdown",
      "metadata": {
        "id": "dEcQng6BpVFN"
      },
      "source": [
        "## Problema\n",
        "\n",
        "Un gancho puede realizar oscilaciones con amplitudes pequeñas en el plano del gancho alrededor de sus posiciones de equilibrio como se muestra en la figura. En las posiciones a) y b) el lado largo (base) se encuentra orientado de forma horizontal. Los otros dos lados tienen la misma longitud. Considerando que el periodo de oscilación es el mismo en los tres casos. \n",
        "\n",
        "¿Cuál es la ubicación del centro de masa del gancho?\n",
        "\n",
        "![](https://raw.githubusercontent.com/diegour1/CompMetodosComputacionales/main/DataFiles/image1.PNG)\n",
        "\n",
        "\n",
        "La figura no contiene ninguna información más alla de las dimensiones mostradas. En particular, no se sabe cómo se distribuye la masa. La base en la figura es de 0.42 m, y la altura de 0.1 m.\n",
        "\n",
        "Siga los pasos siguientes para resolver el problema."
      ]
    },
    {
      "cell_type": "markdown",
      "metadata": {
        "id": "flS06YTk5M2Q"
      },
      "source": [
        "a) Construya la clase gancho con los siguientes atributos `mass`, `inertia`, `base`, `altura`, para ello cree el constructor de la clase Gancho, el cual debe recibir esos atributos como parametros y debe inicializar los atributos en el constructor. `inertia` se refiere a la inercia con respecto al centro de masa. Puede usar el siguiente [notebook](https://github.com/diegour1/CompMetodosComputacionales/blob/main/Notebooks/07%20-%20ObjectOrientedProgramming.ipynb) como referencia. "
      ]
    },
    {
      "cell_type": "code",
      "execution_count": 2,
      "metadata": {
        "id": "kj3P_SCFdZH2"
      },
      "outputs": [],
      "source": [
        "class Gancho:\n",
        "\n",
        "    def __init__(self, mass, inertia, base, altura):\n",
        "        self.mass = mass\n",
        "        self.inertia = inertia\n",
        "        self.base = base\n",
        "        self.altura = altura"
      ]
    },
    {
      "cell_type": "code",
      "execution_count": 3,
      "metadata": {
        "id": "Iv-iiriR6cKB"
      },
      "outputs": [
        {
          "name": "stdout",
          "output_type": "stream",
          "text": [
            "Gancho a 1 0.01 0.42 0.14\n",
            "Gancho b 3 0.015 0.3 0.1\n"
          ]
        }
      ],
      "source": [
        "# Codigo para verificar la respuesta (no modificar)\n",
        "\n",
        "gancho_a = Gancho(1, 0.01, 0.42, 0.14)\n",
        "print(\"Gancho a\", gancho_a.mass, gancho_a.inertia, gancho_a.base, gancho_a.altura)\n",
        "gancho_b = Gancho(3, 0.015, 0.3, 0.1)\n",
        "print(\"Gancho b\", gancho_b.mass, gancho_b.inertia, gancho_b.base, gancho_b.altura)"
      ]
    },
    {
      "cell_type": "markdown",
      "metadata": {
        "id": "ztOlc_H8eFLk"
      },
      "source": [
        "b) Argumente: Por qué se puede decir que el centro de masa del gancho se encuentra sobre la altura sobre del triangulo del gancho, altura en la figura (a) (la mediatriz de la base)?\n",
        "\n",
        "Tu texto aqui\n",
        "\n",
        ".\n",
        "\n",
        ".\n",
        "\n",
        ".\n",
        "\n",
        ".\n",
        "\n",
        ".\n",
        "\n",
        ".\n",
        "\n",
        ".\n",
        "\n",
        "."
      ]
    },
    {
      "cell_type": "markdown",
      "metadata": {
        "id": "mjTB0824ekIE"
      },
      "source": [
        "c) Copie su codigo anterior en esta sección, y ahora cree un metodo de la clase Gancho llamado `centro_de_masa(altura_cm)`  que asumiendo que la coordenada vertical del centro de masa se encuentra en `altura_cm` (ver figura), retorne un array con las dos dimensiones del centro de masa del gancho en las coordenadas de la figura mostrada.\n",
        "\n",
        "![](https://raw.githubusercontent.com/diegour1/CompMetodosComputacionales/main/DataFiles/image3.png)\n",
        "\n",
        "\n"
      ]
    },
    {
      "cell_type": "code",
      "execution_count": 4,
      "metadata": {
        "id": "gTs6y5ZMejf-"
      },
      "outputs": [],
      "source": [
        "class Gancho:\n",
        "\n",
        "    def __init__(self, mass, inertia, base, altura):\n",
        "        self.mass = mass\n",
        "        self.inertia = inertia\n",
        "        self.base = base\n",
        "        self.altura = altura\n",
        "\n",
        "    def centro_de_masa(self, altura_cm):\n",
        "        base = self.base / 2\n",
        "\n",
        "        cm = np.zeros(2)\n",
        "        cm[0] = base\n",
        "        cm[1] = altura_cm\n",
        "\n",
        "        return cm"
      ]
    },
    {
      "cell_type": "code",
      "execution_count": 5,
      "metadata": {
        "id": "A0yAGDKI9TaX"
      },
      "outputs": [
        {
          "name": "stdout",
          "output_type": "stream",
          "text": [
            "centro de masa [0.21 0.75]\n"
          ]
        }
      ],
      "source": [
        "# Codigo para verificar la respuesta (no modificar)\n",
        "\n",
        "gancho_a = Gancho(1, 0.01066, 0.42, 0.1)\n",
        "print(\"centro de masa\", gancho_a.centro_de_masa(0.75))"
      ]
    },
    {
      "cell_type": "markdown",
      "metadata": {
        "id": "XPOFys_kfHxH"
      },
      "source": [
        "d) Copie su codigo anterior en esta sección, y ahora cree un metodo de la clase Gancho llamado `inertia_xy(altura_cm, x, y)`  que calcule un float que corresponde a la inercia respecto a cualquier punto `(x, y)` asumiendo que el centro de masa se encuentra en la altura `altura_cm`, de acuerdo a las coordenadas de la figura c)"
      ]
    },
    {
      "cell_type": "code",
      "execution_count": 6,
      "metadata": {
        "id": "97xODnCpfbPn"
      },
      "outputs": [],
      "source": [
        "class Gancho:\n",
        "\n",
        "    def __init__(self, mass, inertia, base, altura):\n",
        "        self.mass = mass\n",
        "        self.inertia = inertia\n",
        "        self.base = base\n",
        "        self.altura = altura\n",
        "\n",
        "    def centro_de_masa(self, altura_cm):\n",
        "        base = self.base / 2\n",
        "\n",
        "        cm = np.zeros(2)\n",
        "        cm[0] = base\n",
        "        cm[1] = altura_cm\n",
        "\n",
        "        return cm\n",
        "\n",
        "    def inertia_xy(self, altura_cm, x, y):\n",
        "        cm = self.centro_de_masa(altura_cm)\n",
        "        I = self.inertia + self.mass * (cm[0] - x)**2 + self.mass * (cm[1] -\n",
        "                                                                     y)**2\n",
        "\n",
        "        return I"
      ]
    },
    {
      "cell_type": "code",
      "execution_count": 7,
      "metadata": {
        "colab": {
          "base_uri": "https://localhost:8080/"
        },
        "id": "3qmOH6nyCN_E",
        "outputId": "9b33ebcb-d7e1-4251-bace-64c72789d65f"
      },
      "outputs": [
        {
          "name": "stdout",
          "output_type": "stream",
          "text": [
            "inertia punto (0.025, 0.03), altura cm 0.75: 0.5632849999999999\n"
          ]
        }
      ],
      "source": [
        "# Codigo para verificar la respuesta (no modificar)\n",
        "\n",
        "gancho_a = Gancho(1, 0.01066, 0.42, 0.10)\n",
        "print(\"inertia punto (0.025, 0.03), altura cm 0.75:\", gancho_a.inertia_xy(0.75, 0.025, 0.03))"
      ]
    },
    {
      "cell_type": "markdown",
      "metadata": {
        "id": "VDXAhZTSD4QK"
      },
      "source": [
        "e) Copie su codigo anterior en esta sección, y ahora cree un metodo de la clase Gancho llamado `periodo_oscilacion(altura_cm, x, y)`  que calcule un float que corresponde al periodo de oscilacion, con respecto a cualquier eje de rotación `(x, y)` asumiendo que el centro de masa esta en la altura `altura_cm`, de acuerdo a las coordenadas de la figura c)"
      ]
    },
    {
      "cell_type": "code",
      "execution_count": 8,
      "metadata": {
        "id": "I2pIBcAFhNvk"
      },
      "outputs": [],
      "source": [
        "class Gancho:\n",
        "\n",
        "    def __init__(self, mass, inertia, base, altura):\n",
        "        self.mass = mass\n",
        "        self.inertia = inertia\n",
        "        self.base = base\n",
        "        self.altura = altura\n",
        "\n",
        "    def centro_de_masa(self, altura_cm):\n",
        "        base = self.base / 2\n",
        "\n",
        "        cm = np.zeros(2)\n",
        "        cm[0] = base\n",
        "        cm[1] = altura_cm\n",
        "\n",
        "        return cm\n",
        "\n",
        "    def inertia_xy(self, altura_cm, x, y):\n",
        "        cm = self.centro_de_masa(altura_cm)\n",
        "        I = self.inertia + self.mass * (cm[0] - x)**2 + self.mass * (cm[1] -\n",
        "                                                                     y)**2\n",
        "\n",
        "        return I\n",
        "\n",
        "    def periodo_oscilacion(self, altura_cm, x, y):\n",
        "        I = self.inertia_xy(altura_cm, x, y)\n",
        "        T = 2 * np.pi * np.sqrt(I / self.mass)\n",
        "\n",
        "        return T"
      ]
    },
    {
      "cell_type": "code",
      "execution_count": 9,
      "metadata": {
        "id": "DU59L3CwEZOd"
      },
      "outputs": [
        {
          "name": "stdout",
          "output_type": "stream",
          "text": [
            "perido de oscilacion con eje (0.025, 0.03), altura cm 0.75 4.715676034278698\n"
          ]
        }
      ],
      "source": [
        "# Codigo para verificar la respuesta (no modificar)\n",
        "\n",
        "gancho_a = Gancho(1, 0.01066, 0.42, 0.1)\n",
        "print(\"perido de oscilacion con eje (0.025, 0.03), altura cm 0.75\", gancho_a.periodo_oscilacion(0.75, 0.025, 0.03))"
      ]
    },
    {
      "cell_type": "markdown",
      "metadata": {
        "id": "78CNxiHkGGvR"
      },
      "source": [
        "f) A partir de la clase Gancho construida, diseñe un metodo para calcular el centro de masa del gancho.\n",
        "\n",
        "Retorne un array con las dos coordenadas del centro de masa del gancho."
      ]
    },
    {
      "cell_type": "code",
      "execution_count": 10,
      "metadata": {
        "id": "0RfM_AdCiU5v"
      },
      "outputs": [
        {
          "name": "stdout",
          "output_type": "stream",
          "text": [
            "[0.21       0.03333333]\n"
          ]
        }
      ],
      "source": [
        "gancho1 = Gancho(1, 0.01066, 0.42, 0.1)\n",
        "cm_gancho = np.zeros(2)\n",
        "\n",
        "cm_gancho[0], cm_gancho[1] = gancho1.centro_de_masa(gancho1.altura / 3)\n",
        "\n",
        "# codigo para verificar su codigo (no modificar)\n",
        "print(cm_gancho)"
      ]
    },
    {
      "cell_type": "markdown",
      "metadata": {
        "id": "pC7RRkdTHMnS"
      },
      "source": [
        "g) Note que el centro de masa no depende de la distribución de la masa. Cómo resolveria el problema de forma análitica?\n",
        "\n",
        "Tu texto aqui\n",
        "\n",
        ".\n",
        "\n",
        ".\n",
        "\n",
        ".\n",
        "\n",
        ".\n",
        "\n",
        ".\n",
        "\n",
        ".\n",
        "\n",
        ".\n",
        "\n",
        "."
      ]
    }
  ],
  "metadata": {
    "colab": {
      "provenance": []
    },
    "kernelspec": {
      "display_name": "Python 3",
      "name": "python3"
    },
    "language_info": {
      "codemirror_mode": {
        "name": "ipython",
        "version": 3
      },
      "file_extension": ".py",
      "mimetype": "text/x-python",
      "name": "python",
      "nbconvert_exporter": "python",
      "pygments_lexer": "ipython3",
      "version": "3.9.13"
    }
  },
  "nbformat": 4,
  "nbformat_minor": 0
}
