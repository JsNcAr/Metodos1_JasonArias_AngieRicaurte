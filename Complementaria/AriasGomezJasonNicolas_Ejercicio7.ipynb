{
  "cells": [
    {
      "cell_type": "markdown",
      "id": "Ca47pvrzRXMy",
      "metadata": {
        "id": "Ca47pvrzRXMy"
      },
      "source": [
        "## Librerias"
      ]
    },
    {
      "cell_type": "code",
      "execution_count": 1,
      "id": "6f64d18c-e6fe-4328-a15d-9344842eabd1",
      "metadata": {
        "id": "6f64d18c-e6fe-4328-a15d-9344842eabd1"
      },
      "outputs": [],
      "source": [
        "import numpy as np\n",
        "import matplotlib.pyplot as plt\n",
        "import random"
      ]
    },
    {
      "cell_type": "markdown",
      "id": "-tn9unovTwJ4",
      "metadata": {
        "id": "-tn9unovTwJ4"
      },
      "source": [
        "## Problema\n",
        "\n",
        "A partir del método de Montecarlo, calcule el volumen de un cono cuya base tiene radio $1$, y cuya altura es $3$, con 100000 (cien mil puntos de Montecarlo). Guarde el volumen en la variable `volume_cone`, al final incluya el siguiente `print `para la evaluación de su ejercicio. \n",
        "\n",
        "\n",
        "\n",
        "```\n",
        "print(f\"Volume of a cone = {volume_cone}\")\n",
        "```\n",
        "\n",
        "Puede guiarse a partir del siguiente [notebook](https://github.com/diegour1/CompMetodosComputacionales/blob/main/Notebooks/04%20-%20Monte-Carlo-Method.ipynb)"
      ]
    },
    {
      "cell_type": "markdown",
      "id": "4vh-B44hYQZX",
      "metadata": {
        "id": "4vh-B44hYQZX"
      },
      "source": [
        "  a) Empiece creando 3 listas de 100000 numeros aleatorios con probabilidad uniforme $x$ , $y$ y $z$. ¿Cuales son los límites $x$, $y$ y $z$ del paralepipedo resultante?"
      ]
    },
    {
      "cell_type": "code",
      "execution_count": 2,
      "id": "AoJU2ACpX9Ds",
      "metadata": {
        "id": "AoJU2ACpX9Ds"
      },
      "outputs": [],
      "source": [
        "## su codigo aqui\n",
        "R = 1\n",
        "h = 3\n",
        "n = int(1e5)"
      ]
    },
    {
      "cell_type": "code",
      "execution_count": 3,
      "id": "dgkKsu2YZBMN",
      "metadata": {
        "id": "dgkKsu2YZBMN"
      },
      "outputs": [],
      "source": [
        "def points_distance(x0, x1, y0, y1):\n",
        "    return np.sqrt((x0 - x1)**2 + (y0 - y1)**2)\n",
        "\n",
        "\n",
        "def total_volume(R, h):\n",
        "    return 4 * R**2 * h\n",
        "\n",
        "\n",
        "def monte_carlo_cone_volume(R, h, n):\n",
        "    total_points = 0\n",
        "    points_in = 0\n",
        "    for i in range(n):\n",
        "        x = random.uniform(-R, R)\n",
        "        y = random.uniform(-R, R)\n",
        "        z = random.uniform(0, h)\n",
        "        h_p = 1.0 - (z / h)\n",
        "        d = points_distance(0, x, 0, y)\n",
        "        tmp_radius = R * h_p\n",
        "        if d <= tmp_radius:\n",
        "            points_in += 1\n",
        "        total_points += 1\n",
        "    return total_volume(R, h) * (points_in / total_points)"
      ]
    },
    {
      "cell_type": "code",
      "execution_count": 4,
      "id": "kTN_ZGDMZU_r",
      "metadata": {
        "id": "kTN_ZGDMZU_r"
      },
      "outputs": [
        {
          "name": "stdout",
          "output_type": "stream",
          "text": [
            "Volume of a cone = 3.1422000000000003\n"
          ]
        }
      ],
      "source": [
        "volume_cone = monte_carlo_cone_volume(R, h, n)\n",
        "\n",
        "print(f\"Volume of a cone = {volume_cone}\")"
      ]
    }
  ],
  "metadata": {
    "colab": {
      "provenance": []
    },
    "kernelspec": {
      "display_name": "base",
      "language": "python",
      "name": "python3"
    },
    "language_info": {
      "codemirror_mode": {
        "name": "ipython",
        "version": 3
      },
      "file_extension": ".py",
      "mimetype": "text/x-python",
      "name": "python",
      "nbconvert_exporter": "python",
      "pygments_lexer": "ipython3",
      "version": "3.9.13"
    },
    "vscode": {
      "interpreter": {
        "hash": "b3ff5c1b5424807e928bf8bee38bc8a3478b3941c229b42d5add67274bc7395e"
      }
    }
  },
  "nbformat": 4,
  "nbformat_minor": 5
}
