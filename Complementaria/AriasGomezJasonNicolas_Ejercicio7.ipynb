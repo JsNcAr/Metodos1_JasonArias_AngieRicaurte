{
  "cells": [
    {
      "cell_type": "markdown",
      "id": "Ca47pvrzRXMy",
      "metadata": {
        "id": "Ca47pvrzRXMy"
      },
      "source": [
        "## Librerias"
      ]
    },
    {
      "cell_type": "code",
      "execution_count": 1,
      "id": "6f64d18c-e6fe-4328-a15d-9344842eabd1",
      "metadata": {
        "id": "6f64d18c-e6fe-4328-a15d-9344842eabd1"
      },
      "outputs": [],
      "source": [
        "import numpy as np\n",
        "import matplotlib.pyplot as plt"
      ]
    },
    {
      "cell_type": "markdown",
      "id": "-tn9unovTwJ4",
      "metadata": {
        "id": "-tn9unovTwJ4"
      },
      "source": [
        "## Problema\n",
        "\n",
        "A partir del método de Montecarlo, calcule el volumen de un cono cuya base tiene radio $1$, y cuya altura es $3$, con 100000 (cien mil puntos de Montecarlo). Guarde el volumen en la variable `volume_cone`, al final incluya el siguiente `print `para la evaluación de su ejercicio. \n",
        "\n",
        "\n",
        "\n",
        "```\n",
        "print(f\"Volume of a cone = {volume_cone}\")\n",
        "```\n",
        "\n",
        "Puede guiarse a partir del siguiente [notebook](https://github.com/diegour1/CompMetodosComputacionales/blob/main/Notebooks/04%20-%20Monte-Carlo-Method.ipynb)"
      ]
    },
    {
      "cell_type": "markdown",
      "id": "4vh-B44hYQZX",
      "metadata": {
        "id": "4vh-B44hYQZX"
      },
      "source": [
        "  a) Empiece creando 3 listas de 100000 numeros aleatorios con probabilidad uniforme $x$ , $y$ y $z$. ¿Cuales son los límites $x$, $y$ y $z$ del paralepipedo resultante?"
      ]
    },
    {
      "cell_type": "code",
      "execution_count": 2,
      "id": "AoJU2ACpX9Ds",
      "metadata": {
        "id": "AoJU2ACpX9Ds"
      },
      "outputs": [],
      "source": [
        "## su codigo aqui\n",
        "R = 1\n",
        "h = 3\n",
        "n = int(1e5)\n",
        "\n",
        "x = np.random.rand(n) * (2 * R) - R\n",
        "y = np.random.rand(n) * (2 * R) - R\n",
        "z = np.random.rand(n) * h\n"
      ]
    },
    {
      "cell_type": "code",
      "execution_count": 3,
      "id": "dgkKsu2YZBMN",
      "metadata": {
        "id": "dgkKsu2YZBMN"
      },
      "outputs": [],
      "source": [
        "def volume_cone(R, h):\n",
        "    return np.pi * R**2 * h / 3\n",
        "\n",
        "\n",
        "def points_inside_cone(x, y, z, R, h):\n",
        "    return (x**2 + y**2 <= R**2) & (z <= h)\n",
        "\n",
        "\n",
        "def monte_carlo_cone_volume(R, h, n):\n",
        "    x = np.random.rand(R) * (2 * R) - R\n",
        "    y = np.random.rand(R) * (2 * R) - R\n",
        "    z = np.random.rand(n) * h\n",
        "    return volume_cone(R, h) * np.sum(points_inside_cone(x, y, z, R, h)) / n\n"
      ]
    },
    {
      "cell_type": "code",
      "execution_count": 4,
      "id": "kTN_ZGDMZU_r",
      "metadata": {
        "id": "kTN_ZGDMZU_r"
      },
      "outputs": [
        {
          "name": "stdout",
          "output_type": "stream",
          "text": [
            "Volume of a cone = 3.141592653589793\n"
          ]
        }
      ],
      "source": [
        "volume_cone = monte_carlo_cone_volume(R, h, n)\n",
        "\n",
        "print(f\"Volume of a cone = {volume_cone}\")"
      ]
    }
  ],
  "metadata": {
    "colab": {
      "provenance": []
    },
    "kernelspec": {
      "display_name": "base",
      "language": "python",
      "name": "python3"
    },
    "language_info": {
      "codemirror_mode": {
        "name": "ipython",
        "version": 3
      },
      "file_extension": ".py",
      "mimetype": "text/x-python",
      "name": "python",
      "nbconvert_exporter": "python",
      "pygments_lexer": "ipython3",
      "version": "3.9.13"
    },
    "vscode": {
      "interpreter": {
        "hash": "b3ff5c1b5424807e928bf8bee38bc8a3478b3941c229b42d5add67274bc7395e"
      }
    }
  },
  "nbformat": 4,
  "nbformat_minor": 5
}
