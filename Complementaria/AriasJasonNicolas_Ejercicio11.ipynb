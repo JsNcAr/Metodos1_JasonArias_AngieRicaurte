{
  "cells": [
    {
      "cell_type": "markdown",
      "id": "Ca47pvrzRXMy",
      "metadata": {
        "id": "Ca47pvrzRXMy"
      },
      "source": [
        "## Librerias"
      ]
    },
    {
      "cell_type": "code",
      "execution_count": 1,
      "id": "6f64d18c-e6fe-4328-a15d-9344842eabd1",
      "metadata": {
        "id": "6f64d18c-e6fe-4328-a15d-9344842eabd1"
      },
      "outputs": [],
      "source": [
        "import numpy as np\n",
        "import sympy as sym\n",
        "from sympy import symbols\n",
        "from sympy.solvers import solve\n",
        "import matplotlib.pyplot as plt\n",
        "sym.init_printing()"
      ]
    },
    {
      "cell_type": "markdown",
      "id": "RQcF9p3vavGU",
      "metadata": {
        "id": "RQcF9p3vavGU"
      },
      "source": [
        "## Problema\n",
        "\n"
      ]
    },
    {
      "cell_type": "markdown",
      "id": "zes6GP0La1Oy",
      "metadata": {
        "id": "zes6GP0La1Oy"
      },
      "source": [
        "Considere dos bloques de masa $m_1$ y $m_2$, el bloque $m_1$ empieza con una velocidad $v_1 = - 1 \\text{ m/s}$ el bloque $m_2$ empieza en reposo. Primero el bloque 1 choca con el bloque 2 de forma elastica, luego el bloque 2 choca elasticamente contra la pared, y luego se dirige el bloque 2 de nuevo hacia el bloque 1 para chocar de nuevo elasticamente. El bloque 2 choca elasticamente varias veces contra la pared y contra el bloque 1 y se cuentan el número de choques elasticos totales, hasta que los bloques dejan de chocar.\n",
        "\n",
        "![](https://raw.githubusercontent.com/diegour1/CompMetodosComputacionales/main/DataFiles/image9.png)\n",
        "\n",
        "Más detalles del problema se pueden encontrar en este [link](https://www.youtube.com/watch?v=HEfHFsfGXjs&ab_channel=3Blue1Brown).\n",
        "\n"
      ]
    },
    {
      "cell_type": "markdown",
      "id": "iwNAUfVTxfKC",
      "metadata": {
        "id": "iwNAUfVTxfKC"
      },
      "source": [
        "a) Si los bloques 1 y 2 tienen en cierto momento una velocidad $v_{1i}$ y $v_{2i}$ la velocidades después del choque elastico están dadas por, \n",
        "\n",
        "$$\n",
        "v_{1f} = v_{1i}\\Big(\\frac{m_1-m_2}{m_1+m_2}\\Big) + v_{2i}\\Big(\\frac{2m_2}{m_1+m_2}\\Big)\n",
        "$$\n",
        "\n",
        "$$\n",
        "v_{2f} = v_{1i}\\Big(\\frac{2m_1}{m_1+m_2}\\Big) + v_{2i}\\Big(\\frac{m_2-m_1}{m_1+m_2}\\Big)\n",
        "$$\n",
        "\n",
        "Demuestre la validez de esas dos ecuaciones con ayuda de la libreria sympy. (Imprima la ecuación simplificada que resulta de simpy)"
      ]
    },
    {
      "cell_type": "code",
      "execution_count": 2,
      "id": "jvurBrYswg99",
      "metadata": {
        "id": "jvurBrYswg99"
      },
      "outputs": [
        {
          "data": {
            "image/png": "[encoded data removed]",
            "text/latex": [
              "$\\displaystyle \\left[ \\left( v1i, \\  v2i\\right), \\  \\left( \\frac{m_{1} v1i - m_{2} v1i + 2 m_{2} v2i}{m_{1} + m_{2}}, \\  \\frac{2 m_{1} v1i - m_{1} v2i + m_{2} v2i}{m_{1} + m_{2}}\\right)\\right]$"
            ],
            "text/plain": [
              "⎡            ⎛m₁⋅v1i - m₂⋅v1i + 2⋅m₂⋅v2i  2⋅m₁⋅v1i - m₁⋅v2i + m₂⋅v2i⎞⎤\n",
              "⎢(v1i, v2i), ⎜──────────────────────────, ──────────────────────────⎟⎥\n",
              "⎣            ⎝         m₁ + m₂                     m₁ + m₂          ⎠⎦"
            ]
          },
          "execution_count": 2,
          "metadata": {},
          "output_type": "execute_result"
        }
      ],
      "source": [
        "# su codigo aqui\n",
        "m1 = symbols('m1')\n",
        "m2 = symbols('m2')\n",
        "v1i = symbols('v1i')\n",
        "v2i = symbols('v2i')\n",
        "v1f = symbols('v1f')\n",
        "v2f = symbols('v2f')\n",
        "\n",
        "# Se define el sistema de ecuaciones\n",
        "eq1 = sym.Eq(m1*v1i + m2*v2i, m1*v1f + m2*v2f)\n",
        "eq2 = sym.Eq((m1*v1i**2)/2 + (m2*v2i**2)/2, (m1*v1f**2)/2 + (m2*v2f**2)/2)\n",
        "\n",
        "# Se resuelve el sistema de ecuaciones\n",
        "sol = solve([eq1, eq2], [v1f, v2f])\n",
        "symplyfi_sol = np.zeros(2, dtype=object)\n",
        "symplyfi_sol[0] = np.zeros(2, dtype=object)\n",
        "symplyfi_sol[1] = np.zeros(2, dtype=object)\n",
        "\n",
        "symplyfi_sol[1][0] = sym.sympify(sol[1][0])\n",
        "symplyfi_sol[1][1] = sym.sympify(sol[1][1])\n",
        "\n",
        "sym.factor(sol)"
      ]
    },
    {
      "cell_type": "code",
      "execution_count": 3,
      "id": "b6709c2b",
      "metadata": {},
      "outputs": [
        {
          "data": {
            "image/png": "[encoded data removed]",
            "text/latex": [
              "$\\displaystyle \\left\\{ v1f : \\frac{m_{1} v1i - m_{2} v1i + 2 m_{2} v2i}{m_{1} + m_{2}}, \\  v2f : \\frac{2 m_{1} v1i - m_{1} v2i + m_{2} v2i}{m_{1} + m_{2}}\\right\\}$"
            ],
            "text/plain": [
              "⎧     m₁⋅v1i - m₂⋅v1i + 2⋅m₂⋅v2i       2⋅m₁⋅v1i - m₁⋅v2i + m₂⋅v2i⎫\n",
              "⎨v1f: ──────────────────────────, v2f: ──────────────────────────⎬\n",
              "⎩              m₁ + m₂                          m₁ + m₂          ⎭"
            ]
          },
          "execution_count": 3,
          "metadata": {},
          "output_type": "execute_result"
        }
      ],
      "source": [
        "eq3 = sym.Eq(v1f, v1i*(m1-m2)/(m1+m2) + v2i*(2*m2)/(m1+m2))\n",
        "eq4 = sym.Eq(v2f, v1i*(2*m1)/(m1+m2) + v2i*(m2-m1)/(m1+m2))\n",
        "\n",
        "sol2 = solve([eq3, eq4], [v1f, v2f])\n",
        "\n",
        "sol2"
      ]
    },
    {
      "attachments": {},
      "cell_type": "markdown",
      "id": "05a3ecb6",
      "metadata": {},
      "source": [
        "Vemos que ambas ecuaciones son iguales"
      ]
    },
    {
      "cell_type": "markdown",
      "id": "hAVlrLnf0H5H",
      "metadata": {
        "id": "hAVlrLnf0H5H"
      },
      "source": [
        "b) Cree la función `num_collisions(m1, m2)` que reciba las masas $m_1$ y $m_2$ de los bloques 1 y 2 respectivamente, y retorne el número de choques totales `count`, la velocidad inicial del bloque 1 es $v_1 = -1 \\text{ m/s}$ y el bloque 2 empieza en reposo."
      ]
    },
    {
      "cell_type": "code",
      "execution_count": 4,
      "id": "_4YA_OGs0iK8",
      "metadata": {
        "id": "_4YA_OGs0iK8"
      },
      "outputs": [],
      "source": [
        "def num_collisions(m1, m2):\n",
        "    count = 0\n",
        "    t = np.linspace(0, 10000, 100000)\n",
        "    dt = t[1] - t[0]\n",
        "\n",
        "    x1 = np.zeros(len(t))\n",
        "    x2 = np.zeros(len(t))\n",
        "    v1 = np.zeros(len(t))\n",
        "    v2 = np.zeros(len(t))\n",
        "\n",
        "    x1[0] = 10  #m\n",
        "    x2[0] = 5  #m\n",
        "    v1[0] = -1  #m/s\n",
        "    v2[0] = 0  #m/s\n",
        "\n",
        "    for i in range(1, len(t)):\n",
        "        x1[i] = x1[i - 1] + v1[i - 1] * dt\n",
        "        x2[i] = x2[i - 1] + v2[i - 1] * dt\n",
        "        if x1[i] <= x2[i]:\n",
        "            count += 1\n",
        "            v1[i] = (v1[i - 1] * (m1 - m2) / (m1 + m2) + v2[i - 1] * (2 * m2) /\n",
        "                     (m1 + m2))\n",
        "            v2[i] = (v1[i - 1] * (2 * m1) / (m1 + m2) + v2[i - 1] * (m2 - m1) /\n",
        "                     (m1 + m2))\n",
        "        else:\n",
        "            if x2[i] <= 0:\n",
        "                v2[i - 1] = abs(v2[i - 1])\n",
        "                count += 1\n",
        "            if x1[i] >= x2[i]:\n",
        "                v1[i] = v1[i - 1]\n",
        "                v2[i] = v2[i - 1]\n",
        "    return count\n"
      ]
    },
    {
      "cell_type": "code",
      "execution_count": 5,
      "id": "bzxckmmI0ngu",
      "metadata": {
        "id": "bzxckmmI0ngu"
      },
      "outputs": [
        {
          "name": "stdout",
          "output_type": "stream",
          "text": [
            "3\n",
            "10\n",
            "31\n",
            "99\n",
            "314\n",
            "993\n",
            "3141\n",
            "9934\n",
            "31415\n"
          ]
        }
      ],
      "source": [
        "# codigo para la verificacion no modificar\n",
        "print(num_collisions(1, 1))\n",
        "print(num_collisions(10, 1))\n",
        "print(num_collisions(100, 1))\n",
        "print(num_collisions(1000, 1))\n",
        "print(num_collisions(10000, 1))\n",
        "print(num_collisions(100000, 1))\n",
        "print(num_collisions(1000000, 1))\n",
        "print(num_collisions(10000000, 1))\n",
        "print(num_collisions(100000000, 1))"
      ]
    },
    {
      "attachments": {},
      "cell_type": "markdown",
      "id": "8tEUriyx0NQm",
      "metadata": {
        "id": "8tEUriyx0NQm"
      },
      "source": [
        "c)¿ Cómo resolvería el problema analíticamente ? (Sin ver las soluciones en internet) (No hay soluciones correctas)\n",
        "\n",
        "\n",
        "Tendriamos que realizar un proceso iterativo en el que calculemos las velocidades despues de cada choque hasta que la velocidad del bloque 1 fuera mayor a la del bloque 2 con lo que ya no habria mas choques.\n"
      ]
    }
  ],
  "metadata": {
    "colab": {
      "provenance": []
    },
    "kernelspec": {
      "display_name": "Python 3 (ipykernel)",
      "language": "python",
      "name": "python3"
    },
    "language_info": {
      "codemirror_mode": {
        "name": "ipython",
        "version": 3
      },
      "file_extension": ".py",
      "mimetype": "text/x-python",
      "name": "python",
      "nbconvert_exporter": "python",
      "pygments_lexer": "ipython3",
      "version": "3.10.4"
    }
  },
  "nbformat": 4,
  "nbformat_minor": 5
}
