{
  "cells": [
    {
      "cell_type": "markdown",
      "source": [
        "## Librerias"
      ],
      "metadata": {
        "id": "Ca47pvrzRXMy"
      },
      "id": "Ca47pvrzRXMy"
    },
    {
      "cell_type": "code",
      "execution_count": 2,
      "id": "6f64d18c-e6fe-4328-a15d-9344842eabd1",
      "metadata": {
        "id": "6f64d18c-e6fe-4328-a15d-9344842eabd1"
      },
      "outputs": [],
      "source": [
        "import numpy as np"
      ]
    },
    {
      "cell_type": "markdown",
      "source": [
        "## Problema 2\n",
        "\n",
        "Considere una cadena larga de resistencias como se muestra en la figura:\n",
        "\n",
        "![](https://raw.githubusercontent.com/diegour1/CompMetodosComputacionales/main/DataFiles/image8.png)\n",
        "\n",
        "Todos los resitores tienen las misma resistencia $R$. El voltage en la parte superior izquierda del sistema es $V_+ = 5 \\text{V}$. El problema consiste en obtener los voltajes $V_1, \\ldots, V_N$ de los puntos internos del circuito. \n",
        "\n"
      ],
      "metadata": {
        "id": "TtDSGwXXOzhk"
      },
      "id": "TtDSGwXXOzhk"
    },
    {
      "cell_type": "markdown",
      "source": [
        "a) Usando la ley de Ohm y la ley de corrientes de Kirchoff, la cual dice que la corriente total que fluye hacia afuera o hacia adentro de cada nodo del circuito es cero. Explique porqué los voltajes $V_1, \\ldots, V_N$ cumplen con las siguientes ecuaciones.\n",
        "\n",
        "$$3V_1 − V_2 − V_3 = V_+$$\n",
        "$$− V_1 + 4V_2 − V_3 − V_4 = V_+,$$\n",
        "$$\\vdots$$\n",
        "$$− V_{i − 2} − V_{i − 1} + 4V_i − V_{i + 1} − V_{i + 2} = 0,$$\n",
        "$$\\vdots$$\n",
        "$$− V_{N − 3} − V_{N − 2}+ 4V_{N − 1} − V_N = 0,$$\n",
        "$$− V_{N − 2} − V_{N − 1} + 3V_N = 0.$$\n",
        "\n",
        "Pista: Para resolver esta pregunta se usa la ley de Ohm y la ley de corrientes de Kirchhoff. La cual dice que la corriente que fluye hacia adentro o hacia afuera de cada unión del circuito es cero. Por ejemplo para el voltaje $V_1$ se tiene que, \n",
        "\n",
        "$$\n",
        "\\frac{V_1-V_2}{R} + \\frac{V_1-V_3}{R} + \n",
        "\\frac{V_1-V_+}{R} = 0, \n",
        "$$\n",
        "\n",
        "Tu explicación aquí\n",
        "\n",
        ".\n",
        "\n",
        ".\n",
        "\n",
        ".\n",
        "\n",
        ".\n",
        "\n",
        ".\n"
      ],
      "metadata": {
        "id": "eZIdQ9fkHfsC"
      },
      "id": "eZIdQ9fkHfsC"
    },
    {
      "cell_type": "markdown",
      "source": [],
      "metadata": {
        "id": "5w_WqBWJHkua"
      },
      "id": "5w_WqBWJHkua"
    },
    {
      "cell_type": "markdown",
      "source": [
        "b) Escriba las ecuaciones de la forma $A\\vec{x} = \\vec{b}$ encuentre los valores de la matriz $A$ y del vector $\\vec{b}$, para $N=6$. Imprima estos dos resultados en el notebook.\n",
        "\n"
      ],
      "metadata": {
        "id": "a8YYYzy-HYUk"
      },
      "id": "a8YYYzy-HYUk"
    },
    {
      "cell_type": "code",
      "source": [
        "A = np.zeros((6, 6))\n",
        "b = np.zeros(6)\n",
        "\n",
        "# Tu codigo aqui\n",
        "\n",
        "\n",
        "# Codigo para la verificacion (no modificar)\n",
        "print(A)\n",
        "print(b)"
      ],
      "metadata": {
        "colab": {
          "base_uri": "https://localhost:8080/"
        },
        "id": "GpkXxHCNI4s8",
        "outputId": "96294798-ee4d-4bbf-84ce-e0bb1db77a37"
      },
      "id": "GpkXxHCNI4s8",
      "execution_count": 3,
      "outputs": [
        {
          "output_type": "stream",
          "name": "stdout",
          "text": [
            "[[0. 0. 0. 0. 0. 0.]\n",
            " [0. 0. 0. 0. 0. 0.]\n",
            " [0. 0. 0. 0. 0. 0.]\n",
            " [0. 0. 0. 0. 0. 0.]\n",
            " [0. 0. 0. 0. 0. 0.]\n",
            " [0. 0. 0. 0. 0. 0.]]\n",
            "[0. 0. 0. 0. 0. 0.]\n"
          ]
        }
      ]
    },
    {
      "cell_type": "markdown",
      "source": [
        "c) Escriba un programa que resuelva los valores de $V_i$ cuando $N=6$ es decir 6 nodos internos. Guarde e imprima los valores en el vector $\\vec{x}$.\n",
        "\n"
      ],
      "metadata": {
        "id": "kiqwGe0VHZ9x"
      },
      "id": "kiqwGe0VHZ9x"
    },
    {
      "cell_type": "code",
      "source": [
        "x = np.zeros(6)\n",
        "\n",
        "# tu codigo aqui\n",
        "\n",
        "# Codigo para la verificacion (no modificar)\n",
        "print(x)"
      ],
      "metadata": {
        "colab": {
          "base_uri": "https://localhost:8080/"
        },
        "id": "CEaRvnvBJ9aQ",
        "outputId": "af70c3d6-85a7-4350-ae41-242c7d110451"
      },
      "id": "CEaRvnvBJ9aQ",
      "execution_count": 4,
      "outputs": [
        {
          "output_type": "stream",
          "name": "stdout",
          "text": [
            "[0. 0. 0. 0. 0. 0.]\n"
          ]
        }
      ]
    },
    {
      "cell_type": "markdown",
      "source": [
        "d) Encuentre la resistencia total $R_{(N=6)} = \\alpha R$, para la red $N=6$, donde $\\alpha$ es una constante, imprima el valor de $\\alpha$."
      ],
      "metadata": {
        "id": "B3jGZc8JHbkj"
      },
      "id": "B3jGZc8JHbkj"
    },
    {
      "cell_type": "code",
      "source": [
        "alpha = 0\n",
        "\n",
        "# Tu codigo aqui\n",
        "\n",
        "# Codigo para la verificacion (no modificar)\n",
        "print(alpha)"
      ],
      "metadata": {
        "id": "YBQxjpLU1mrU",
        "colab": {
          "base_uri": "https://localhost:8080/"
        },
        "outputId": "19b3458c-de51-49e2-e96a-65ca80067775"
      },
      "execution_count": 5,
      "outputs": [
        {
          "output_type": "stream",
          "name": "stdout",
          "text": [
            "0\n"
          ]
        }
      ],
      "id": "YBQxjpLU1mrU"
    },
    {
      "cell_type": "markdown",
      "source": [
        "e) Explique qué haría usted para resolver la resistencia equivalente del circuito para un número infinito de nodos. \n",
        "\n",
        ".\n",
        "\n",
        ".\n",
        "\n",
        ".\n",
        "\n",
        ".\n",
        "\n",
        "."
      ],
      "metadata": {
        "id": "dgShAA91MxJs"
      },
      "id": "dgShAA91MxJs"
    }
  ],
  "metadata": {
    "kernelspec": {
      "display_name": "Python 3 (ipykernel)",
      "language": "python",
      "name": "python3"
    },
    "language_info": {
      "codemirror_mode": {
        "name": "ipython",
        "version": 3
      },
      "file_extension": ".py",
      "mimetype": "text/x-python",
      "name": "python",
      "nbconvert_exporter": "python",
      "pygments_lexer": "ipython3",
      "version": "3.7.12"
    },
    "colab": {
      "provenance": []
    }
  },
  "nbformat": 4,
  "nbformat_minor": 5
}