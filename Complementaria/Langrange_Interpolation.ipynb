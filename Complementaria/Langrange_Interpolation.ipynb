{
  "cells": [
    {
      "cell_type": "markdown",
      "metadata": {
        "id": "ySCvWQe5vxeT"
      },
      "source": [
        "## Librerias"
      ]
    },
    {
      "cell_type": "code",
      "execution_count": 1,
      "metadata": {
        "id": "VBo2Hv2tv0UR"
      },
      "outputs": [],
      "source": [
        "import numpy as np\n",
        "import matplotlib.pyplot as plt\n",
        "import sympy as sym"
      ]
    },
    {
      "cell_type": "markdown",
      "metadata": {
        "id": "dEcQng6BpVFN"
      },
      "source": [
        "## Problema 1\n",
        "\n",
        "Implemente el método de interpolación de Lagrange que ajuste un polinomio de grado 4 a los siguientes datos experimentales.\n",
        "\n",
        "\n",
        "\n",
        "```\n",
        "    x_values = 4, 7, 8, 12,  17\n",
        "    y_values = 8, 16, 3,  5,  0\n",
        "```\n",
        "\n",
        "El código debe generar una figura que contenga los puntos asociados a los datos experimentales y la curva generada por el polinomio de Lagrange. Gráfique en el intervalo $[3, 18]$."
      ]
    },
    {
      "cell_type": "code",
      "execution_count": 2,
      "metadata": {
        "id": "dMGmXpTTeNgk"
      },
      "outputs": [],
      "source": [
        "X = np.array([ 4, 7, 8, 12,  17])\n",
        "Y = np.array([ 8, 16, 3,  5,  0])"
      ]
    },
    {
      "cell_type": "code",
      "execution_count": 3,
      "metadata": {},
      "outputs": [],
      "source": [
        "def Lagrange(x,xi,j):\n",
        "    \n",
        "    prod = 1.0\n",
        "    n = len(xi)\n",
        "    \n",
        "    for i in range(n):\n",
        "        if i != j:\n",
        "            prod *= (x - xi[i])/(xi[j]-xi[i])\n",
        "            \n",
        "    return prod"
      ]
    },
    {
      "cell_type": "code",
      "execution_count": 4,
      "metadata": {},
      "outputs": [],
      "source": [
        "def Interpolate(x, xi, yi):\n",
        "\n",
        "    Sum = 0.\n",
        "    n = len(xi)\n",
        "\n",
        "    for j in range(n):\n",
        "        Sum += yi[j] * Lagrange(x, xi, j)\n",
        "\n",
        "    return Sum"
      ]
    },
    {
      "cell_type": "code",
      "execution_count": 5,
      "metadata": {},
      "outputs": [],
      "source": [
        "x = np.linspace(3, 18, 100)\n",
        "y = Interpolate(x, X, Y)\n"
      ]
    },
    {
      "cell_type": "code",
      "execution_count": 6,
      "metadata": {},
      "outputs": [
        {
          "data": {
            "text/plain": [
              "[<matplotlib.lines.Line2D at 0x7f4308b68880>]"
            ]
          },
          "execution_count": 6,
          "metadata": {},
          "output_type": "execute_result"
        },
        {
          "data": {
            "image/png": "[encoded data removed]",
            "text/plain": [
              "<Figure size 640x480 with 1 Axes>"
            ]
          },
          "metadata": {},
          "output_type": "display_data"
        }
      ],
      "source": [
        "plt.scatter(X, Y, marker='o', color='r')\n",
        "plt.plot(x, y, color='k')\n"
      ]
    },
    {
      "attachments": {},
      "cell_type": "markdown",
      "metadata": {
        "id": "ppMjLe_ZCKa4"
      },
      "source": [
        "b) Explique cuál es la intuición detras de la fórmula de interpolación de Lagrange. \n",
        "\n",
        "La interpolacion de Lagrange de ciert forma consiste en tomar la operacion de $\\frac{x_i-x_j}{x_i-x_j}$ que seria igual a 1, pero remplazando el primer $x_i$ por $x$ , lo que nos daria una ecuacion que, al multiplicarla por el valor de la funcion en ese punto, nos daria un polinomio tal que, al evaluarlo en el punto $x_i$ nos daria el valor que ya tenemos de la ecuacion pero que tambien seria valido como una base generadora de la funcion, y al sumarlo con todas las bases del sistema, obtendremos un polinomio que al remplazarlo por los valores originales siempre nos devolvare el valor en Y que ya conociamos, pero al evaluarlo en otros puntos, nos devolvera un valor que se aproxima bastante bien a la funcion original."
      ]
    },
    {
      "cell_type": "markdown",
      "metadata": {
        "id": "cSGUKS4RA8wk"
      },
      "source": [
        "## Problema 2\n",
        "\n",
        "Diseñe un método que obtenga el valor en $x$ para el cual el polinomio interpolador del problema anterior es máximo. Guarde el resultado obtenido en la variable `x_value`, e imprima ese valor. "
      ]
    },
    {
      "cell_type": "code",
      "execution_count": 7,
      "metadata": {
        "id": "uCIYNjJDfVNI"
      },
      "outputs": [
        {
          "name": "stdout",
          "output_type": "stream",
          "text": [
            "El valor máximo de la función es:  43.882 en el punto:  15.121\n"
          ]
        }
      ],
      "source": [
        "def max(y,x):\n",
        "    x_value = 0\n",
        "    y_value = 0\n",
        "    for i in range(len(x)):\n",
        "        if y[i] > y_value:\n",
        "            y_value = y[i]\n",
        "            x_value = x[i]\n",
        "    return y_value, x_value\n",
        "print(\"El valor máximo de la función es: \", round(max(y,x)[0],3), \"en el punto: \", round(max(y,x)[1],3))"
      ]
    }
  ],
  "metadata": {
    "colab": {
      "provenance": []
    },
    "kernelspec": {
      "display_name": "Python 3",
      "language": "python",
      "name": "python3"
    },
    "language_info": {
      "codemirror_mode": {
        "name": "ipython",
        "version": 3
      },
      "file_extension": ".py",
      "mimetype": "text/x-python",
      "name": "python",
      "nbconvert_exporter": "python",
      "pygments_lexer": "ipython3",
      "version": "3.10.4"
    },
    "vscode": {
      "interpreter": {
        "hash": "916dbcbb3f70747c44a77c7bcd40155683ae19c65e1c03b4aa3499c5328201f1"
      }
    }
  },
  "nbformat": 4,
  "nbformat_minor": 0
}
