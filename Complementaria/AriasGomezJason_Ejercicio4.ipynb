{
  "nbformat": 4,
  "nbformat_minor": 0,
  "metadata": {
    "colab": {
      "provenance": []
    },
    "kernelspec": {
      "name": "python3",
      "display_name": "Python 3"
    },
    "language_info": {
      "name": "python"
    }
  },
  "cells": [
    {
      "cell_type": "markdown",
      "source": [
        "## Librerias"
      ],
      "metadata": {
        "id": "ySCvWQe5vxeT"
      }
    },
    {
      "cell_type": "code",
      "source": [
        "import numpy as np\n",
        "import matplotlib.pyplot as plt\n",
        "import sympy as sym"
      ],
      "metadata": {
        "id": "VBo2Hv2tv0UR"
      },
      "execution_count": null,
      "outputs": []
    },
    {
      "cell_type": "markdown",
      "source": [
        "## Problema 1\n",
        "\n",
        "Implemente el método de interpolación de Lagrange que ajuste un polinomio de grado 4 a los siguientes datos experimentales.\n",
        "\n",
        "\n",
        "\n",
        "```\n",
        "    x_values = 4, 7, 8, 12,  17\n",
        "    y_values = 8, 16, 3,  5,  0\n",
        "```\n",
        "\n",
        "El código debe generar una figura que contenga los puntos asociados a los datos experimentales y la curva generada por el polinomio de Lagrange. Gráfique en el intervalo $[3, 18]$."
      ],
      "metadata": {
        "id": "dEcQng6BpVFN"
      }
    },
    {
      "cell_type": "code",
      "source": [
        "X = np.array([ 4, 7, 8, 12,  17])\n",
        "Y = np.array([ 8, 16, 3,  5,  0])\n",
        "\n",
        "## tu codigo aqui\n",
        "\n"
      ],
      "metadata": {
        "id": "dMGmXpTTeNgk"
      },
      "execution_count": null,
      "outputs": []
    },
    {
      "cell_type": "markdown",
      "source": [
        "b) Explique cuál es la intuición detras de la fórmula de interpolación de Lagrange. \n",
        "\n",
        "Tu texto aqui\n",
        ".\n",
        "\n",
        ".\n",
        "\n",
        ".\n",
        "\n",
        ".\n",
        "\n",
        ".\n",
        "\n",
        "."
      ],
      "metadata": {
        "id": "ppMjLe_ZCKa4"
      }
    },
    {
      "cell_type": "markdown",
      "source": [
        "## Problema 2\n",
        "\n",
        "Diseñe un método que obtenga el valor en $x$ para el cual el polinomio interpolador del problema anterior es máximo. Guarde el resultado obtenido en la variable `x_value`, e imprima ese valor. "
      ],
      "metadata": {
        "id": "cSGUKS4RA8wk"
      }
    },
    {
      "cell_type": "code",
      "source": [
        "x_value = 0\n",
        "\n",
        "## tu codigo aqui\n",
        "\n",
        "\n",
        "# codigo para verificar su resultado (no modificar)\n",
        "print(x_value)"
      ],
      "metadata": {
        "id": "uCIYNjJDfVNI"
      },
      "execution_count": null,
      "outputs": []
    }
  ]
}