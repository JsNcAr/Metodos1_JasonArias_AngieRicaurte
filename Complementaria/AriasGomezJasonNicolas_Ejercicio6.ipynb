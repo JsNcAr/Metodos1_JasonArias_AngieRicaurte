{
  "cells": [
    {
      "cell_type": "markdown",
      "id": "Ca47pvrzRXMy",
      "metadata": {
        "id": "Ca47pvrzRXMy"
      },
      "source": [
        "## Librerias"
      ]
    },
    {
      "cell_type": "code",
      "execution_count": 1,
      "id": "6f64d18c-e6fe-4328-a15d-9344842eabd1",
      "metadata": {
        "id": "6f64d18c-e6fe-4328-a15d-9344842eabd1"
      },
      "outputs": [],
      "source": [
        "import numpy as np\n",
        "import sympy as sym\n",
        "from scipy import integrate"
      ]
    },
    {
      "cell_type": "markdown",
      "id": "hwM8VmxfF1w_",
      "metadata": {
        "id": "hwM8VmxfF1w_"
      },
      "source": [
        "## Problema 1\n",
        "\n",
        "Considere la integral, \n",
        "\n",
        "$$ I = \\int_0^1\\sin^2(\\sqrt{100x})\\,dx$$\n",
        "\n",
        "a) Cree la función `gauss_integrate(n)`, que reciba el grado `n` del polinomio de Gauss-Legendre y retorne la integral de la función pedida con el método de gauss-legendre. Puede usar la función `np.polynomial.legendre.leggauss` , para obtener los pesos y puntos de Legendre.\n",
        "\n",
        "Puede usar el siguiente cuaderno como guia, [link](https://github.com/diegour1/CompMetodosComputacionales/blob/main/Notebooks/03%20-%20integracion_numerica.ipynb)"
      ]
    },
    {
      "cell_type": "code",
      "execution_count": 2,
      "id": "Tx8fBk37gXrD",
      "metadata": {
        "id": "Tx8fBk37gXrD"
      },
      "outputs": [],
      "source": [
        "def gauss_integrate(n):\n",
        "    def gauss_legendre_integrate_ab(f, X, W, a, b):\n",
        "      c1 = 0.5 * (b - a)\n",
        "      c2 = 0.5 * (a + b)\n",
        "      return c1 * np.sum(W * f(c1 * X + c2))\n",
        "    x, w = np.polynomial.legendre.leggauss(n)\n",
        "    f = lambda x: pow(np.sin(np.sqrt(100*x)), 2)\n",
        "    a = 0\n",
        "    b = 1\n",
        "    nodos = 11\n",
        "    limits, h = np.linspace(a,\n",
        "                              b,\n",
        "                              num=nodos - 1,\n",
        "                              retstep=True,\n",
        "                              endpoint=False)\n",
        "    gauss_int = 0\n",
        "    for limit in limits: \n",
        "      gauss_int += gauss_legendre_integrate_ab(f, x, w, limit, limit + h)\n",
        "    return gauss_int\n"
      ]
    },
    {
      "cell_type": "code",
      "execution_count": 3,
      "id": "ni3JHLRDoqBv",
      "metadata": {
        "id": "ni3JHLRDoqBv"
      },
      "outputs": [
        {
          "name": "stdout",
          "output_type": "stream",
          "text": [
            "0.4681799906614866\n",
            "0.4608615600906539\n",
            "0.45590882839809244\n",
            "0.45583278425285567\n",
            "0.455832532309085\n",
            "0.4558325323090852\n"
          ]
        }
      ],
      "source": [
        "# Codigo para evaluar su resultado, no modificar\n",
        "print(gauss_integrate(1))\n",
        "print(gauss_integrate(2))\n",
        "print(gauss_integrate(3))\n",
        "print(gauss_integrate(4))\n",
        "print(gauss_integrate(20))\n",
        "print(gauss_integrate(100))"
      ]
    },
    {
      "cell_type": "markdown",
      "id": "7vK6RFJ1W_p2",
      "metadata": {
        "id": "7vK6RFJ1W_p2"
      },
      "source": [
        "b) Verifique sus resultados obtenidos usando la función `scipy.integrate.fixed_quad`. Imprima los resultados obtenidos con la libreria.\n"
      ]
    },
    {
      "cell_type": "code",
      "execution_count": 4,
      "id": "sQJZ_280pLqK",
      "metadata": {
        "id": "sQJZ_280pLqK"
      },
      "outputs": [
        {
          "name": "stdout",
          "output_type": "stream",
          "text": [
            "Error relativo:  2.435594096369477e-16 %\n"
          ]
        }
      ],
      "source": [
        "## tu codigo aqui\n",
        "\n",
        "I_teo = integrate.quad(lambda x: pow(np.sin(np.sqrt(100*x)), 2), 0, 1)[0]\n",
        "I_calc = gauss_integrate(100)\n",
        "print('Error relativo: ', abs(I_teo - I_calc) / I_teo , '%')"
      ]
    },
    {
      "cell_type": "markdown",
      "id": "7Gv1no-mRcMn",
      "metadata": {
        "id": "7Gv1no-mRcMn"
      },
      "source": [
        "## Problema 2\n",
        "\n",
        "En este problema vamos a reproducir los cálculos realizados en el siguiente [pdf](https://github.com/diegour1/CompMetodosComputacionales/blob/main/Lectures/01%20-%20Gauss%20Legendre%202.pdf) para dar una interpretación del método de Gauss Legendre para el caso $n = 4$. \n",
        "\n",
        "\n",
        "\n"
      ]
    },
    {
      "cell_type": "markdown",
      "id": "KEQ3AC30RKaw",
      "metadata": {
        "id": "KEQ3AC30RKaw"
      },
      "source": [
        "a) Con la libreria `sympy` cree la aproximación de taylor de grado 6 del polinomio $h(x)$, es decir cree la siguiente función e imprimala en la celda.\n",
        "\n",
        "\n",
        "$$\n",
        "h(x) = a + bx + c\\frac{x^2}{2!} + d\\frac{x^3}{3!} + e\\frac{x^4}{4!} + f\\frac{x^5}{5!} + g\\frac{x^6}{6!}\n",
        "$$\n",
        "\n",
        "\n",
        "Pista: Use lo siguiente [link](https://stackoverflow.com/questions/37100053/how-to-define-a-mathematical-function-in-sympy\n",
        ")\n"
      ]
    },
    {
      "cell_type": "code",
      "execution_count": 4,
      "id": "wt_bl_CYiRIt",
      "metadata": {
        "id": "wt_bl_CYiRIt"
      },
      "outputs": [],
      "source": [
        "## tu codigo aqui\n",
        "\n"
      ]
    },
    {
      "cell_type": "markdown",
      "id": "hreZn9jYSmJq",
      "metadata": {
        "id": "hreZn9jYSmJq"
      },
      "source": [
        "b) Usando `sympy` cálcule, \n",
        "\n",
        "$$\n",
        "\\int_{-1}^1h(x)\n",
        "$$\n",
        "\n",
        "imprima el resultado de la integral.\n",
        "\n",
        "Pista: debe resultar una función de $x$ con coeficientes, $a$, $c$, $e$, $g$."
      ]
    },
    {
      "cell_type": "code",
      "execution_count": 5,
      "id": "rZ3dV6B5Sjdd",
      "metadata": {
        "id": "rZ3dV6B5Sjdd"
      },
      "outputs": [],
      "source": [
        "# tu codigo aqui\n"
      ]
    },
    {
      "cell_type": "markdown",
      "id": "bMuT_RnVTlWB",
      "metadata": {
        "id": "bMuT_RnVTlWB"
      },
      "source": [
        "c) Encuentre los puntos en $x$ y los pesos $w$ de la cuadratura de Gauss de grado 4. Imprima los puntos y los pesos. "
      ]
    },
    {
      "cell_type": "code",
      "execution_count": 6,
      "id": "3kst1ovLjn-x",
      "metadata": {
        "id": "3kst1ovLjn-x"
      },
      "outputs": [],
      "source": [
        "## find the Cuadrature weights\n",
        "# tu codigo aqui\n"
      ]
    },
    {
      "cell_type": "markdown",
      "id": "8WxyRaSZUPIy",
      "metadata": {
        "id": "8WxyRaSZUPIy"
      },
      "source": [
        "d) Usando la función $h(x)$ del punto a), evalúe el resultado de la cuadratura de Gauss de grado 4, es decir cálcule,\n",
        "\n",
        "$$\n",
        "\\sum_{i=1}^4w_ih(x_i)\n",
        "$$\n",
        "\n",
        "Imprima el resultado de la integral."
      ]
    },
    {
      "cell_type": "code",
      "execution_count": 7,
      "id": "DGRnXIc_o3Hs",
      "metadata": {
        "id": "DGRnXIc_o3Hs"
      },
      "outputs": [],
      "source": [
        "# tu codigo aqui\n"
      ]
    },
    {
      "cell_type": "markdown",
      "id": "PPcbaNtzVAo0",
      "metadata": {
        "id": "PPcbaNtzVAo0"
      },
      "source": [
        "e) Cuadran las funciones resultantes del punto b) y d), si no porqué\n",
        "\n",
        "Su texto aquí\n",
        "\n",
        ".\n",
        "\n",
        ".\n",
        "\n",
        ".\n",
        "\n",
        "."
      ]
    },
    {
      "cell_type": "markdown",
      "id": "Uc_peQopVaXy",
      "metadata": {
        "id": "Uc_peQopVaXy"
      },
      "source": [
        "f) Qué interpretación geometrica daría a la cuadratura de Gauss ?\n",
        "\n",
        "Su texto aquí\n",
        "\n",
        ".\n",
        "\n",
        ".\n",
        "\n",
        ".\n",
        "\n",
        "."
      ]
    },
    {
      "cell_type": "markdown",
      "id": "54CxOHrnV_g2",
      "metadata": {
        "id": "54CxOHrnV_g2"
      },
      "source": [
        "g) A partir de la integral de la función obtenida, cálcule, \n",
        "\n",
        "$$\n",
        "\\int_{-1}^1h(x)\n",
        "$$\n",
        "\n",
        "para la función \n",
        "\n",
        "$$\n",
        "h(x) = 0.70458458 + 0.23544087x + 0.58528482x^2 + 0.1669135x^3 + 0.20669362x^4 + 0.4717781x^5 + 0.48755507x^6\n",
        "$$"
      ]
    },
    {
      "cell_type": "code",
      "execution_count": 8,
      "id": "VG-TiLaHGP30",
      "metadata": {
        "id": "VG-TiLaHGP30"
      },
      "outputs": [],
      "source": [
        "coeffs = np.array([0.70458458, 0.23544087, 0.58528482, 0.1669135 , 0.20669362, 0.4717781 , 0.48755507])    \n",
        "   \n",
        "def six_deg_function(x):\n",
        "  return 0.70458458 + 0.23544087*x + 0.58528482*x**2 + 0.1669135*x**3 + 0.20669362*x**4 + 0.4717781*x**5 + 0.48755507*x**6\n",
        "\n",
        "## tu codigo aqui\n"
      ]
    },
    {
      "cell_type": "markdown",
      "id": "6b629sy2WvhD",
      "metadata": {
        "id": "6b629sy2WvhD"
      },
      "source": [
        "h) Evalúe la integral de $h(x)$ usando la función `integrate.fixed_quad`"
      ]
    },
    {
      "cell_type": "code",
      "execution_count": 9,
      "id": "jykGzgDrJctv",
      "metadata": {
        "id": "jykGzgDrJctv"
      },
      "outputs": [],
      "source": [
        "## tu codigo aqui\n",
        "\n"
      ]
    },
    {
      "cell_type": "markdown",
      "id": "ZkMLUm2mXEDv",
      "metadata": {
        "id": "ZkMLUm2mXEDv"
      },
      "source": [
        "i) Qué cambiaria en este método si se integrara un polinomio de grado mayor a 6 con el método expuesto? \n",
        "\n",
        "Su texto aquí\n",
        "\n",
        ".\n",
        "\n",
        ".\n",
        "\n",
        "."
      ]
    }
  ],
  "metadata": {
    "colab": {
      "provenance": []
    },
    "kernelspec": {
      "display_name": "Python 3",
      "language": "python",
      "name": "python3"
    },
    "language_info": {
      "codemirror_mode": {
        "name": "ipython",
        "version": 3
      },
      "file_extension": ".py",
      "mimetype": "text/x-python",
      "name": "python",
      "nbconvert_exporter": "python",
      "pygments_lexer": "ipython3",
      "version": "3.8.10"
    },
    "vscode": {
      "interpreter": {
        "hash": "916dbcbb3f70747c44a77c7bcd40155683ae19c65e1c03b4aa3499c5328201f1"
      }
    }
  },
  "nbformat": 4,
  "nbformat_minor": 5
}
