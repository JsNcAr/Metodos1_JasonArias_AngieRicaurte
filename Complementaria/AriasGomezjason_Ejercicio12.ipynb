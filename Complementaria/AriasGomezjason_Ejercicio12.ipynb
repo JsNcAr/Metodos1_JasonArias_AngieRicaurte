{
  "cells": [
    {
      "cell_type": "markdown",
      "source": [
        "## Librerias"
      ],
      "metadata": {
        "id": "Ca47pvrzRXMy"
      },
      "id": "Ca47pvrzRXMy"
    },
    {
      "cell_type": "code",
      "execution_count": null,
      "id": "6f64d18c-e6fe-4328-a15d-9344842eabd1",
      "metadata": {
        "id": "6f64d18c-e6fe-4328-a15d-9344842eabd1"
      },
      "outputs": [],
      "source": [
        "import numpy as np\n",
        "import matplotlib.pyplot as plt"
      ]
    },
    {
      "cell_type": "markdown",
      "source": [
        "## Problema\n",
        "\n",
        "En este problema vamos a estudiar cómo muestrear puntos aleatorios usando el método de la distribución cumulativa inversa.\n",
        "\n"
      ],
      "metadata": {
        "id": "RQcF9p3vavGU"
      },
      "id": "RQcF9p3vavGU"
    },
    {
      "cell_type": "markdown",
      "source": [
        "a) Es posible muestrear puntos uniformes entre (0, 1) usando algebra modular, \n",
        "\n",
        "Para ello calcule iterativamente los puntos que se generan de la siguiente formula\n",
        "\n",
        "$$\n",
        "  seed_{i+1} = (seed_i * a + c) \\ \\% \\ mod\n",
        "$$\n",
        "\n",
        "los valores $seed_{i}$ corresponden a numeros aleatorios generados entre 0 y $mod$, para que sean valores entre 0, y 1 divida al final los numeros obtenidos del las $\\{seed_{i}\\}$ por $mod$\n",
        "\n",
        "Genere 10 puntos aleatorios entre 0 y 1, con los siguientes parametros\n",
        "\n",
        "$\n",
        "seed_{0} = 12345\n",
        "$\n",
        "\n",
        "$\n",
        "a = 1664525\n",
        "$\n",
        "\n",
        "$\n",
        "c = 1013904223\n",
        "$\n",
        "\n",
        "$\n",
        "mod = 2^{32}\n",
        "$\n",
        "\n",
        "\n",
        "\n"
      ],
      "metadata": {
        "id": "wjtj7krcShO4"
      },
      "id": "wjtj7krcShO4"
    },
    {
      "cell_type": "code",
      "source": [
        "def uniform_distribution(num_samples):\n",
        "  nums_uniform = np.zeros(num_samples)\n",
        "  # tu codigo aqui num_sample es un escalar que indica el numero de muestras de la distribucion, # nums_uniform corresponde a la lista de puntos muestreados\n",
        "\n",
        "  return nums_uniform \n",
        "\n",
        "# codigo para verificar su respuesta (no modificar)\n",
        "uniform_distribution(10)"
      ],
      "metadata": {
        "colab": {
          "base_uri": "https://localhost:8080/"
        },
        "id": "QD6bkfUeG184",
        "outputId": "5be38348-fcb2-49d6-93c8-ca30a23a5773"
      },
      "id": "QD6bkfUeG184",
      "execution_count": null,
      "outputs": [
        {
          "output_type": "execute_result",
          "data": {
            "text/plain": [
              "array([0., 0., 0., 0., 0., 0., 0., 0., 0., 0.])"
            ]
          },
          "metadata": {},
          "execution_count": 3
        }
      ]
    },
    {
      "cell_type": "markdown",
      "source": [
        "b) Realice un histograma que indique 10000 puntos muestreados de la función de la parte a)"
      ],
      "metadata": {
        "id": "XuO145FEvaIC"
      },
      "id": "XuO145FEvaIC"
    },
    {
      "cell_type": "code",
      "source": [
        "## su codigo aqui\n"
      ],
      "metadata": {
        "id": "I9qJkiXyIW2A"
      },
      "id": "I9qJkiXyIW2A",
      "execution_count": null,
      "outputs": []
    },
    {
      "cell_type": "markdown",
      "source": [
        "Un teorema de la probabilidad indica que la densidad de probabilidad cumulativa (CDF) de una función de densidad arbitraria es una distribución uniforme. Esto indica que es posible muestrear algunas funciones de densidad de probabilidad especiales, haciendo el proceso inverso (inverse cumulative distribution), es decir pasar de una distribución uniforme a otra distribución.\n",
        "\n",
        "Matematicamente tiene la siguiente forma: Sea $p(t)$ un función de densidad. La función acumulativa es, \n",
        "\n",
        "$$\n",
        "  \\int_{-∞}^xp(t)\\,dt = \\text{Uniform distribution}\n",
        "$$\n",
        "\n",
        "En este problema vamos a muestrear una uniforme para obtener un muestreo de la función $p(t) = e^{-t}$ para $x>0$."
      ],
      "metadata": {
        "id": "mFQfe10jvnnV"
      },
      "id": "mFQfe10jvnnV"
    },
    {
      "cell_type": "markdown",
      "source": [
        "c)  Realice la integral mostrada, completando la igualdad, \n",
        "\n",
        "$$\n",
        " f(x) = \\int_{0}^xe^{-x}\\,dt = \n",
        "$$\n",
        "\n"
      ],
      "metadata": {
        "id": "fqXO0eZox9Xa"
      },
      "id": "fqXO0eZox9Xa"
    },
    {
      "cell_type": "markdown",
      "source": [
        "d) Iguale $f(x) = U$, donde U es la distribución uniforme y despeje la variable x, (complete la igualdad),\n",
        "\n",
        "$$\n",
        "  x = \n",
        "$$"
      ],
      "metadata": {
        "id": "uKOA_SlfyrpU"
      },
      "id": "uKOA_SlfyrpU"
    },
    {
      "cell_type": "markdown",
      "source": [
        "e) Realice un muestreo de la variable $x$, realizando la operación del numeral d sobre los puntos muetreados de una uniforme."
      ],
      "metadata": {
        "id": "Of824SuozJtg"
      },
      "id": "Of824SuozJtg"
    },
    {
      "cell_type": "code",
      "source": [
        "# su codigo aqui\n",
        "def exp_distribution(num_samples):\n",
        "  exp_samples = np.zeros(num_samples)\n",
        "  # su codigo aqui\n",
        "\n",
        "  return exp_samples\n",
        "\n",
        "# codigo para verificar su respuesta (no modificar)\n",
        "exp_distribution(10)"
      ],
      "metadata": {
        "colab": {
          "base_uri": "https://localhost:8080/"
        },
        "id": "RRgg8oSUJ1To",
        "outputId": "57dc3b30-4b49-4d2b-8d0c-5b074cdac7ec"
      },
      "id": "RRgg8oSUJ1To",
      "execution_count": null,
      "outputs": [
        {
          "output_type": "execute_result",
          "data": {
            "text/plain": [
              "array([0., 0., 0., 0., 0., 0., 0., 0., 0., 0.])"
            ]
          },
          "metadata": {},
          "execution_count": 7
        }
      ]
    },
    {
      "cell_type": "markdown",
      "source": [
        "f) Realice un histograma de los 10000 puntos muestreados de la función de densidad $p(t) = e^{-t}$"
      ],
      "metadata": {
        "id": "UasOAT2Azxuh"
      },
      "id": "UasOAT2Azxuh"
    },
    {
      "cell_type": "code",
      "source": [
        "## su codigo aqui\n"
      ],
      "metadata": {
        "id": "Cm8dKS6XK2bn"
      },
      "id": "Cm8dKS6XK2bn",
      "execution_count": null,
      "outputs": []
    },
    {
      "cell_type": "markdown",
      "source": [
        "g) Cómo haría usted para muestrear un función normal?\n",
        "\n",
        "Su texto aqui\n",
        "\n",
        ".\n",
        "\n",
        ".\n",
        "\n",
        ".\n",
        "\n",
        ".\n",
        "\n",
        "."
      ],
      "metadata": {
        "id": "_N3k4oBz0Fno"
      },
      "id": "_N3k4oBz0Fno"
    }
  ],
  "metadata": {
    "kernelspec": {
      "display_name": "Python 3 (ipykernel)",
      "language": "python",
      "name": "python3"
    },
    "language_info": {
      "codemirror_mode": {
        "name": "ipython",
        "version": 3
      },
      "file_extension": ".py",
      "mimetype": "text/x-python",
      "name": "python",
      "nbconvert_exporter": "python",
      "pygments_lexer": "ipython3",
      "version": "3.7.12"
    },
    "colab": {
      "provenance": []
    }
  },
  "nbformat": 4,
  "nbformat_minor": 5
}