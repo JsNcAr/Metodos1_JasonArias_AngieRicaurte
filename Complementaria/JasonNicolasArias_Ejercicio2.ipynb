{
  "nbformat": 4,
  "nbformat_minor": 0,
  "metadata": {
    "colab": {
      "provenance": []
    },
    "kernelspec": {
      "name": "python3",
      "display_name": "Python 3"
    },
    "language_info": {
      "name": "python"
    }
  },
  "cells": [
    {
      "cell_type": "markdown",
      "source": [
        "## Librerias"
      ],
      "metadata": {
        "id": "ySCvWQe5vxeT"
      }
    },
    {
      "cell_type": "code",
      "source": [
        "import numpy as np"
      ],
      "metadata": {
        "id": "VBo2Hv2tv0UR"
      },
      "execution_count": null,
      "outputs": []
    },
    {
      "cell_type": "markdown",
      "source": [
        "## Problema\n",
        "\n",
        "Un gancho puede realizar oscilaciones con amplitudes pequeñas en el plano del gancho alrededor de sus posiciones de equilibrio como se muestra en la figura. En las posiciones a) y b) el lado largo (base) se encuentra orientado de forma horizontal. Los otros dos lados tienen la misma longitud. Considerando que el periodo de oscilación es el mismo en los tres casos. \n",
        "\n",
        "¿Cuál es la ubicación del centro de masa del gancho?\n",
        "\n",
        "![](https://raw.githubusercontent.com/diegour1/CompMetodosComputacionales/main/DataFiles/image1.PNG)\n",
        "\n",
        "\n",
        "La figura no contiene ninguna información más alla de las dimensiones mostradas. En particular, no se sabe cómo se distribuye la masa. La base en la figura es de 0.42 m, y la altura de 0.1 m.\n",
        "\n",
        "Siga los pasos siguientes para resolver el problema."
      ],
      "metadata": {
        "id": "dEcQng6BpVFN"
      }
    },
    {
      "cell_type": "markdown",
      "source": [
        "a) Construya la clase gancho con los siguientes atributos `mass`, `inertia`, `base`, `altura`, para ello cree el constructor de la clase Gancho, el cual debe recibir esos atributos como parametros y debe inicializar los atributos en el constructor. `inertia` se refiere a la inercia con respecto al centro de masa. Puede usar el siguiente [notebook](https://github.com/diegour1/CompMetodosComputacionales/blob/main/Notebooks/07%20-%20ObjectOrientedProgramming.ipynb) como referencia. "
      ],
      "metadata": {
        "id": "flS06YTk5M2Q"
      }
    },
    {
      "cell_type": "code",
      "source": [
        "class Gancho:\n",
        "  # tu codigo aqui\n"
      ],
      "metadata": {
        "id": "kj3P_SCFdZH2"
      },
      "execution_count": null,
      "outputs": []
    },
    {
      "cell_type": "code",
      "source": [
        "# Codigo para verificar la respuesta (no modificar)\n",
        "\n",
        "gancho_a = Gancho(1, 0.01, 0.42, 0.14)\n",
        "print(\"Gancho a\", gancho_a.mass, gancho_a.inertia, gancho_a.base, gancho_a.altura)\n",
        "gancho_b = Gancho(3, 0.015, 0.3, 0.1)\n",
        "print(\"Gancho b\", gancho_b.mass, gancho_b.inertia, gancho_b.base, gancho_b.altura)"
      ],
      "metadata": {
        "id": "Iv-iiriR6cKB"
      },
      "execution_count": null,
      "outputs": []
    },
    {
      "cell_type": "markdown",
      "source": [
        "b) Argumente: Por qué se puede decir que el centro de masa del gancho se encuentra sobre la altura sobre del triangulo del gancho, altura en la figura (a) (la mediatriz de la base)?\n",
        "\n",
        "Tu texto aqui\n",
        "\n",
        ".\n",
        "\n",
        ".\n",
        "\n",
        ".\n",
        "\n",
        ".\n",
        "\n",
        ".\n",
        "\n",
        ".\n",
        "\n",
        ".\n",
        "\n",
        "."
      ],
      "metadata": {
        "id": "ztOlc_H8eFLk"
      }
    },
    {
      "cell_type": "markdown",
      "source": [
        "c) Copie su codigo anterior en esta sección, y ahora cree un metodo de la clase Gancho llamado `centro_de_masa(altura_cm)`  que asumiendo que la coordenada vertical del centro de masa se encuentra en `altura_cm` (ver figura), retorne un array con las dos dimensiones del centro de masa del gancho en las coordenadas de la figura mostrada.\n",
        "\n",
        "![](https://raw.githubusercontent.com/diegour1/CompMetodosComputacionales/main/DataFiles/image3.png)\n",
        "\n",
        "\n"
      ],
      "metadata": {
        "id": "mjTB0824ekIE"
      }
    },
    {
      "cell_type": "code",
      "source": [
        "class Gancho:\n",
        "  # tu codigo aqui\n"
      ],
      "metadata": {
        "id": "gTs6y5ZMejf-"
      },
      "execution_count": null,
      "outputs": []
    },
    {
      "cell_type": "code",
      "source": [
        "# Codigo para verificar la respuesta (no modificar)\n",
        "\n",
        "gancho_a = Gancho(1, 0.01066, 0.42, 0.1)\n",
        "print(\"centro de masa\", gancho_a.centro_de_masa(0.75))"
      ],
      "metadata": {
        "id": "A0yAGDKI9TaX"
      },
      "execution_count": null,
      "outputs": []
    },
    {
      "cell_type": "markdown",
      "source": [
        "d) Copie su codigo anterior en esta sección, y ahora cree un metodo de la clase Gancho llamado `inertia_xy(altura_cm, x, y)`  que calcule un float que corresponde a la inercia respecto a cualquier punto `(x, y)` asumiendo que el centro de masa se encuentra en la altura `altura_cm`, de acuerdo a las coordenadas de la figura c)"
      ],
      "metadata": {
        "id": "XPOFys_kfHxH"
      }
    },
    {
      "cell_type": "code",
      "source": [
        "class Gancho:\n",
        "  # tu codigo aqui\n"
      ],
      "metadata": {
        "id": "97xODnCpfbPn"
      },
      "execution_count": null,
      "outputs": []
    },
    {
      "cell_type": "code",
      "source": [
        "# Codigo para verificar la respuesta (no modificar)\n",
        "\n",
        "gancho_a = Gancho(1, 0.01066, 0.42, 0.10)\n",
        "print(\"inertia punto (0.025, 0.03), altura cm 0.75:\", gancho_a.inertia_xy(0.75, 0.025, 0.03))"
      ],
      "metadata": {
        "colab": {
          "base_uri": "https://localhost:8080/"
        },
        "id": "3qmOH6nyCN_E",
        "outputId": "9b33ebcb-d7e1-4251-bace-64c72789d65f"
      },
      "execution_count": null,
      "outputs": [
        {
          "output_type": "stream",
          "name": "stdout",
          "text": [
            "inertia punto (0.025, 0.03), altura cm 0.75: 0.5632849999999999\n"
          ]
        }
      ]
    },
    {
      "cell_type": "markdown",
      "source": [
        "e) Copie su codigo anterior en esta sección, y ahora cree un metodo de la clase Gancho llamado `periodo_oscilacion(altura_cm, x, y)`  que calcule un float que corresponde al periodo de oscilacion, con respecto a cualquier eje de rotación `(x, y)` asumiendo que el centro de masa esta en la altura `altura_cm`, de acuerdo a las coordenadas de la figura c)"
      ],
      "metadata": {
        "id": "VDXAhZTSD4QK"
      }
    },
    {
      "cell_type": "code",
      "source": [
        "class Gancho:\n",
        "  # tu codigo aqui\n"
      ],
      "metadata": {
        "id": "I2pIBcAFhNvk"
      },
      "execution_count": null,
      "outputs": []
    },
    {
      "cell_type": "code",
      "source": [
        "# Codigo para verificar la respuesta (no modificar)\n",
        "\n",
        "gancho_a = Gancho(1, 0.01066, 0.42, 0.1)\n",
        "print(\"perido de oscilacion con eje (0.025, 0.03), altura cm 0.75\", gancho_a.periodo_oscilacion(0.75, 0.025, 0.03))"
      ],
      "metadata": {
        "id": "DU59L3CwEZOd"
      },
      "execution_count": null,
      "outputs": []
    },
    {
      "cell_type": "markdown",
      "source": [
        "f) A partir de la clase Gancho construida, diseñe un metodo para calcular el centro de masa del gancho.\n",
        "\n",
        "Retorne un array con las dos coordenadas del centro de masa del gancho."
      ],
      "metadata": {
        "id": "78CNxiHkGGvR"
      }
    },
    {
      "cell_type": "code",
      "source": [
        "gancho1 = Gancho(1, 0.01066, 0.42, 0.1)\n",
        "cm_gancho = np.zeros(2)\n",
        "\n",
        "## tu codigo aqui\n",
        "\n",
        "\n",
        "# codigo para verificar su codigo (no modificar)\n",
        "print(cm_gancho)"
      ],
      "metadata": {
        "id": "0RfM_AdCiU5v"
      },
      "execution_count": null,
      "outputs": []
    },
    {
      "cell_type": "markdown",
      "source": [
        "g) Note que el centro de masa no depende de la distribución de la masa. Cómo resolveria el problema de forma análitica?\n",
        "\n",
        "Tu texto aqui\n",
        "\n",
        ".\n",
        "\n",
        ".\n",
        "\n",
        ".\n",
        "\n",
        ".\n",
        "\n",
        ".\n",
        "\n",
        ".\n",
        "\n",
        ".\n",
        "\n",
        "."
      ],
      "metadata": {
        "id": "pC7RRkdTHMnS"
      }
    }
  ]
}