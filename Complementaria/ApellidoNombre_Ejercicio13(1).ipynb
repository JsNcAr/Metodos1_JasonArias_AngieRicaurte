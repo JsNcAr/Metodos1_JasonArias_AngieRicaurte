{
  "cells": [
    {
      "cell_type": "markdown",
      "source": [
        "## Librerias"
      ],
      "metadata": {
        "id": "Ca47pvrzRXMy"
      },
      "id": "Ca47pvrzRXMy"
    },
    {
      "cell_type": "code",
      "execution_count": null,
      "id": "6f64d18c-e6fe-4328-a15d-9344842eabd1",
      "metadata": {
        "id": "6f64d18c-e6fe-4328-a15d-9344842eabd1"
      },
      "outputs": [],
      "source": [
        "import numpy as np"
      ]
    },
    {
      "cell_type": "markdown",
      "source": [
        "## Problema 1\n",
        "\n",
        "Considere $D = \\{d_1, \\cdots d_n\\}$ un conjunto de documentos y $T = \\{t_1, \\cdots t_m\\}$ un conjunto de términos (palabras). Considere además, $TD = (TD_{i,j})_{i=1\\cdots m, j = 1 \\cdots n}$ como una matriz tal que $TD_{i, j}$ indica el número de veces que el término $t_i$ (palabra) aparece en el documento $d_j$ (Los documentos están el las columnas, las palabras en las filas). También, considere $l_i$ como la longitud (número de letras) del término $t_i$, y sea $L = (l_1, \\cdots, l_m)$ un vector columna. Adicionalmente, asuma un proceso en el cual el documento $d_j$ is escogido aleatoriamente con probabilidad uniforme y el termino $t_i$, presente en el documento $d_j$,  es escogido con una probabilidad proporcional a la frecuencia de $t_i$ en el documento $d_j$.\n",
        "\n",
        "Para las siguientes expresiones usted debe mostrar lo siguiente:\n",
        "\n",
        "*   La expresión matemática de lo que se le pide en términos de $TD$, $L$, constantes (es decir en terminos de matrices, vectores, escalares) y operaciones algebraícas o del algebra lineal.\n",
        "*   Una expresión en `numpy`, tal que al ser evaluada se obtenga, la matriz, el vector o el escalar requerido (La expresión debe estar descrita en términos del algebra lineal, es decir no se pueden usar estructuras de control, `for`, `while`, etc)\n",
        "*   El resultado de las expresiones usando los siguientes datos:\n",
        "\n",
        "\n",
        "$$\n",
        "TD =  \\begin{bmatrix}\n",
        "2 & 3 & 0 & 3 & 7 \\\\  0 & 5 & 5 & 0 & 3 \\\\ 5 & 0 & 7 & 3 & 3 \\\\ 3 & 1 & 0 & 9 & 9 \\\\ 0 & 0 & 7 & 1 & 3 \\\\ 6 & 9 & 4 & 6 & 0 \n",
        "\\end{bmatrix}, \\quad L = \\begin{bmatrix}\n",
        "5 \\\\  2 \\\\ 3 \\\\ 6 \\\\ 4 \\\\ 3 \\\\ \n",
        "\\end{bmatrix}\n",
        "$$\n",
        "\n",
        "\n",
        "\n"
      ],
      "metadata": {
        "id": "xLdV95A5DY-l"
      },
      "id": "xLdV95A5DY-l"
    },
    {
      "cell_type": "code",
      "source": [
        "# Arrays for the computations\n",
        "\n",
        "TD = np.array([[2, 3, 0, 3, 7],[0, 5, 5, 0, 3],[5, 0, 7, 3, 3],[3, 1, 0, 9, 9],[0, 0, 7, 1, 3],[6, 9, 4, 6, 0]])\n",
        "L = np.array([[5, 2, 3, 6, 4, 3]]).T\n",
        "m , n = TD.shape\n",
        "\n",
        "TD, L"
      ],
      "metadata": {
        "id": "4CUcPGP0xi1z",
        "colab": {
          "base_uri": "https://localhost:8080/"
        },
        "outputId": "e8133849-c60f-4602-f758-34a94a8dd04f"
      },
      "execution_count": null,
      "outputs": [
        {
          "output_type": "execute_result",
          "data": {
            "text/plain": [
              "(array([[2, 3, 0, 3, 7],\n",
              "        [0, 5, 5, 0, 3],\n",
              "        [5, 0, 7, 3, 3],\n",
              "        [3, 1, 0, 9, 9],\n",
              "        [0, 0, 7, 1, 3],\n",
              "        [6, 9, 4, 6, 0]]),\n",
              " array([[5],\n",
              "        [2],\n",
              "        [3],\n",
              "        [6],\n",
              "        [4],\n",
              "        [3]]))"
            ]
          },
          "metadata": {},
          "execution_count": 2
        }
      ],
      "id": "4CUcPGP0xi1z"
    },
    {
      "cell_type": "markdown",
      "source": [
        "(a) Matriz $P(T, D)$ (cada posición de la matriz, $P(T, D)_{i,j}$ indica la probabilidad conjunta del término $t_i$ y el documento $d_j$, $P(t_j, d_j)$)\n",
        "\n",
        "Escriba su expresión matemática a continuación, \n",
        "\n",
        "$$\n",
        "P(T, D)_{i,j} = \n",
        "$$"
      ],
      "metadata": {
        "id": "DmZ1Xk-xx1OR"
      },
      "id": "DmZ1Xk-xx1OR"
    },
    {
      "cell_type": "code",
      "source": [
        "### Escriba e imprima la matriz con los valores de ejemplo a continuación\n",
        "M1 = np.zeros((6, 5))\n",
        "# su codigo aqui\n",
        "\n",
        "\n",
        "# codigo para verificar su respuesta no modificar\n",
        "print(M1.sum())\n",
        "print(M1)"
      ],
      "metadata": {
        "id": "Soak5hOoykxG",
        "outputId": "a93937b7-5088-4869-af89-bb561d58f24b",
        "colab": {
          "base_uri": "https://localhost:8080/"
        }
      },
      "execution_count": null,
      "outputs": [
        {
          "output_type": "stream",
          "name": "stdout",
          "text": [
            "0.0\n",
            "[[0. 0. 0. 0. 0.]\n",
            " [0. 0. 0. 0. 0.]\n",
            " [0. 0. 0. 0. 0.]\n",
            " [0. 0. 0. 0. 0.]\n",
            " [0. 0. 0. 0. 0.]\n",
            " [0. 0. 0. 0. 0.]]\n"
          ]
        }
      ],
      "id": "Soak5hOoykxG"
    },
    {
      "cell_type": "markdown",
      "source": [
        "(b) Matriz $P(T|D)$\n",
        "\n",
        "Escriba su expresión matemática a continuación, \n",
        "\n",
        "$$\n",
        "P(T|D)_{i, j} =\n",
        "$$"
      ],
      "metadata": {
        "id": "FmVDpv4SzDla"
      },
      "id": "FmVDpv4SzDla"
    },
    {
      "cell_type": "code",
      "source": [
        "### Escriba e imprima la matriz con los valores de ejemplo a continuación\n",
        "M2 = np.zeros((6, 5))\n",
        "# su codigo aqui\n",
        "\n",
        "\n",
        "# codigo para verificar su respuesta no modificar\n",
        "print(M2)\n",
        "print(M2.sum(axis = 0))"
      ],
      "metadata": {
        "id": "JXlgbXHRzYvo",
        "outputId": "19e7cdf5-ca48-49e0-9210-b3ac2d784a27",
        "colab": {
          "base_uri": "https://localhost:8080/"
        }
      },
      "execution_count": null,
      "outputs": [
        {
          "output_type": "stream",
          "name": "stdout",
          "text": [
            "[[0. 0. 0. 0. 0.]\n",
            " [0. 0. 0. 0. 0.]\n",
            " [0. 0. 0. 0. 0.]\n",
            " [0. 0. 0. 0. 0.]\n",
            " [0. 0. 0. 0. 0.]\n",
            " [0. 0. 0. 0. 0.]]\n",
            "[0. 0. 0. 0. 0.]\n"
          ]
        }
      ],
      "id": "JXlgbXHRzYvo"
    },
    {
      "cell_type": "markdown",
      "source": [
        "(c) Vector P(D)\n",
        "\n",
        "Escriba su expresión matemática a continuación, \n",
        "\n",
        "$$\n",
        "P(D)_j =\n",
        "$$"
      ],
      "metadata": {
        "id": "OBYAuE1TzauB"
      },
      "id": "OBYAuE1TzauB"
    },
    {
      "cell_type": "code",
      "source": [
        "### Escriba e imprima el vector con los valores de ejemplo a continuación\n",
        "P_D = np.zeros(5)\n",
        "# su codigo aqui\n",
        "\n",
        "\n",
        "# codigo para verificar su respuesta no modificar\n",
        "print(P_D)"
      ],
      "metadata": {
        "id": "0ZuKBnSfzuHX",
        "outputId": "b1f02f89-c3fb-4832-f200-693b6aa0eebe",
        "colab": {
          "base_uri": "https://localhost:8080/"
        }
      },
      "execution_count": null,
      "outputs": [
        {
          "output_type": "stream",
          "name": "stdout",
          "text": [
            "[0. 0. 0. 0. 0.]\n"
          ]
        }
      ],
      "id": "0ZuKBnSfzuHX"
    },
    {
      "cell_type": "markdown",
      "source": [
        "## Problema 2\n",
        "Continuación problema anterior\n",
        "\n",
        "(d) Vector P(T)\n",
        "\n",
        "Escriba su expresión matemática a continuación, \n",
        "\n",
        "$$\n",
        "P(T)_i = \n",
        "$$"
      ],
      "metadata": {
        "id": "Haqd76Hlz2V6"
      },
      "id": "Haqd76Hlz2V6"
    },
    {
      "cell_type": "code",
      "source": [
        "### Escriba e imprima el vector con los valores de ejemplo a continuación\n",
        "P_T = np.zeros(5)\n",
        "# su codigo aqui\n",
        "\n",
        "\n",
        "# codigo para verificar su respuesta no modificar\n",
        "print(P_T.sum())\n",
        "print(P_T)"
      ],
      "metadata": {
        "id": "q8sqdTtxz2V7",
        "outputId": "85fe60c3-4088-4152-a8c4-b8874301c5f4",
        "colab": {
          "base_uri": "https://localhost:8080/"
        }
      },
      "execution_count": null,
      "outputs": [
        {
          "output_type": "stream",
          "name": "stdout",
          "text": [
            "0.0\n",
            "[0. 0. 0. 0. 0.]\n"
          ]
        }
      ],
      "id": "q8sqdTtxz2V7"
    },
    {
      "cell_type": "markdown",
      "source": [
        "(e) Matriz $P(D|T)$\n",
        "\n",
        "Escriba su expresión matemática a continuación, \n",
        "\n",
        "$$\n",
        "P(D|T)_{i, j} = \n",
        "$$"
      ],
      "metadata": {
        "id": "hiCvvxLW0LmV"
      },
      "id": "hiCvvxLW0LmV"
    },
    {
      "cell_type": "code",
      "source": [
        "### Escriba e imprima la matriz con los valores de ejemplo a continuación\n",
        "M3 = np.zeros((6, 5))\n",
        "# su codigo aqui\n",
        "\n",
        "\n",
        "# codigo para verificar su respuesta no modificar\n",
        "print(M3.sum(axis=1).reshape((m,1)))\n",
        "print(M3)"
      ],
      "metadata": {
        "id": "py-QC25p0LmX",
        "outputId": "3d27daee-b959-4aed-9bb5-cd2bd7078667",
        "colab": {
          "base_uri": "https://localhost:8080/"
        }
      },
      "execution_count": null,
      "outputs": [
        {
          "output_type": "stream",
          "name": "stdout",
          "text": [
            "[[0.]\n",
            " [0.]\n",
            " [0.]\n",
            " [0.]\n",
            " [0.]\n",
            " [0.]]\n",
            "[[0. 0. 0. 0. 0.]\n",
            " [0. 0. 0. 0. 0.]\n",
            " [0. 0. 0. 0. 0.]\n",
            " [0. 0. 0. 0. 0.]\n",
            " [0. 0. 0. 0. 0.]\n",
            " [0. 0. 0. 0. 0.]]\n"
          ]
        }
      ],
      "id": "py-QC25p0LmX"
    },
    {
      "cell_type": "markdown",
      "source": [
        "(f) Escalar $E[l]$ (el valor esperado de la variable aleatoria $l$ que corresponde a la longitud de un término escogido aleatoriamente) (sin importar el documento)\n",
        "\n",
        "Escriba su expresión matemática a continuación, \n",
        "\n",
        "$$\n",
        "E[l] = \n",
        "$$"
      ],
      "metadata": {
        "id": "r2zS_j-r0g0z"
      },
      "id": "r2zS_j-r0g0z"
    },
    {
      "cell_type": "code",
      "source": [
        "### Escriba e imprima el escalar con los valores de ejemplo a continuación\n",
        "E_l = np.zeros(1)\n",
        "# su codigo aqui\n",
        "\n",
        "\n",
        "# codigo para verificar su respuesta no modificar\n",
        "print(E_l)"
      ],
      "metadata": {
        "id": "QAoaKJDE1RXD",
        "outputId": "1af4f303-96a2-4808-9df0-d58e11223c43",
        "colab": {
          "base_uri": "https://localhost:8080/"
        }
      },
      "execution_count": null,
      "outputs": [
        {
          "output_type": "stream",
          "name": "stdout",
          "text": [
            "[0.]\n"
          ]
        }
      ],
      "id": "QAoaKJDE1RXD"
    },
    {
      "cell_type": "code",
      "source": [],
      "metadata": {
        "id": "HloK1Jg9WLz_"
      },
      "id": "HloK1Jg9WLz_",
      "execution_count": null,
      "outputs": []
    }
  ],
  "metadata": {
    "kernelspec": {
      "display_name": "Python 3 (ipykernel)",
      "language": "python",
      "name": "python3"
    },
    "language_info": {
      "codemirror_mode": {
        "name": "ipython",
        "version": 3
      },
      "file_extension": ".py",
      "mimetype": "text/x-python",
      "name": "python",
      "nbconvert_exporter": "python",
      "pygments_lexer": "ipython3",
      "version": "3.7.12"
    },
    "colab": {
      "provenance": []
    }
  },
  "nbformat": 4,
  "nbformat_minor": 5
}