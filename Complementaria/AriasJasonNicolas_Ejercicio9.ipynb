{
  "cells": [
    {
      "cell_type": "markdown",
      "source": [
        "## Librerias"
      ],
      "metadata": {
        "id": "Ca47pvrzRXMy"
      },
      "id": "Ca47pvrzRXMy"
    },
    {
      "cell_type": "code",
      "execution_count": null,
      "id": "6f64d18c-e6fe-4328-a15d-9344842eabd1",
      "metadata": {
        "id": "6f64d18c-e6fe-4328-a15d-9344842eabd1"
      },
      "outputs": [],
      "source": [
        "import numpy as np\n",
        "import matplotlib.pyplot as plt"
      ]
    },
    {
      "cell_type": "markdown",
      "source": [
        "## Problema\n",
        "\n",
        "Para el siguiente problema se puede guiar del siguiente notebook [gradiente descendiente](https://github.com/diegour1/CompMetodosComputacionales/blob/main/Notebooks/08%20-%20Gradient_Descent_Neural_Networks.ipynb)\n",
        "\n",
        "Considere el potencial electrico entre dos cargas de la misma magnitud pero de signo opuesto medido en la posición $\\vec{r}$ desde el centro de coordenadas dado por,\n",
        "\n",
        "$$ V(\\vec{r}) = \\frac{q}{4\\pi \\epsilon_0}\\Bigg[\\frac{1}{|\\vec{r}-\\vec{r_+}|}-\\frac{1}{|\\vec{r}-\\vec{r_-}|}\\Bigg], $$\n",
        "\n",
        "donde $\\vec{r_+}$, y $\\vec{r_-}$, son las posiciones de las cargas positivas y negativas respectivamente. En este ejercicio solamente nos vamos a enfocar en las dimensiones $x$ y $y$.\n",
        "\n",
        "Dados los siguientes parametros, \n",
        "\n",
        "$$\\vec{r_+} = (-0.25\\text{ m}, 0), \\quad \\vec{r_-} = (0.25\\text{ m}, 0), \\quad \\frac{q}{4\\pi \\epsilon_0} = 1, $$\n",
        "\n",
        "y que el campo electrico está dado por, \n",
        "\n",
        "$$\\vec{E}(\\vec{r}) = -\\vec{\\nabla} V(\\vec{r}),$$"
      ],
      "metadata": {
        "id": "XkEKN8o3Lu0o"
      },
      "id": "XkEKN8o3Lu0o"
    },
    {
      "cell_type": "markdown",
      "source": [
        "a) Escriba la función potencial en términos de $x$ y $y$ e imprima los valores del potencial en el punto $(x, y) = (0, 0)$ y $(x, y) = (0.1, 0)$, $(x, y) = (-0.15, 0.12)$."
      ],
      "metadata": {
        "id": "vi77WfbpMLnB"
      },
      "id": "vi77WfbpMLnB"
    },
    {
      "cell_type": "code",
      "source": [
        "def Potential(x, y):\n",
        "    ## tu código aquí\n",
        "    \n",
        "# codigo para verificar su resultado no modificar\n",
        "Potential(0, 0), Potential(0.1, 0), Potential(-0.15, 0.12)"
      ],
      "metadata": {
        "id": "wNVvdgkBLwA5"
      },
      "id": "wNVvdgkBLwA5",
      "execution_count": null,
      "outputs": []
    },
    {
      "cell_type": "markdown",
      "source": [
        "b) Calcule la gradiente del potencial, con la formula de derivada central."
      ],
      "metadata": {
        "id": "Twn0pdu1N7kg"
      },
      "id": "Twn0pdu1N7kg"
    },
    {
      "cell_type": "code",
      "source": [
        "def Gradient_xy(f, x, y, h): \n",
        "    grad = np.array([0, 0])\n",
        "    # su codigo aqui\n",
        "    \n",
        "    return grad\n",
        "\n",
        "# codigo para verificar su resultado no modificar\n",
        "Gradient_xy(Potential, 0, 0, 0.0001), Gradient_xy(Potential, 0.1, 0.05, 0.0001), Gradient_xy(Potential, -0.15, 0.12, 0.0001)"
      ],
      "metadata": {
        "id": "dwchzjJ-M7JO"
      },
      "id": "dwchzjJ-M7JO",
      "execution_count": null,
      "outputs": []
    },
    {
      "cell_type": "markdown",
      "source": [
        "c) Empezando en el punto $(x, y) = (0, 0.15)$ implemente el algoritmo de gradiente descendiente. Con pasos 683 pasos de $e = 0.0001$ para el gradiente descendiente y $h = 0.0001$ para la derivada central. Guarde la trayectoria en la variable `trayectory`\n",
        "\n",
        "El algoritmo gradiente descendiente tiene la siguiente forma\n",
        "\n",
        "\n",
        "\n",
        "```\n",
        "loss_function := Potential function that you wish to minimize\n",
        "min_value := initial_value\n",
        "e := the step size of the gradient descent\n",
        "num_steps := num of times that the GD looks for the minima\n",
        "\n",
        "\n",
        "for i in range(num_steps)\n",
        "  min_value = min_value - e * grad_loss_function(min_value)\n",
        "```\n",
        "\n",
        "Puede seguir el siguiente [notebook](https://github.com/diegour1/CompMetodosComputacionales/blob/main/Notebooks/08%20-%20Gradient_Descent_Neural_Networks.ipynb)\n",
        "\n",
        "\n"
      ],
      "metadata": {
        "id": "uKEKtSXYOzLN"
      },
      "id": "uKEKtSXYOzLN"
    },
    {
      "cell_type": "code",
      "source": [
        "trayectory = []\n",
        "# su codigo aqui\n",
        "\n",
        "# codigo para verificar su resultado no modificar\n",
        "print(trayectory[-1])"
      ],
      "metadata": {
        "id": "24EohIcKOg6Z"
      },
      "id": "24EohIcKOg6Z",
      "execution_count": null,
      "outputs": []
    },
    {
      "cell_type": "markdown",
      "source": [
        "d) Gráfique con la misma escala en x y y, las dos cargas y la trayectoria."
      ],
      "metadata": {
        "id": "mLfPrEKNUo9Q"
      },
      "id": "mLfPrEKNUo9Q"
    },
    {
      "cell_type": "code",
      "source": [
        "# su codigo aqui\n"
      ],
      "metadata": {
        "id": "IZUP7xcDQEZl"
      },
      "id": "IZUP7xcDQEZl",
      "execution_count": null,
      "outputs": []
    },
    {
      "cell_type": "markdown",
      "source": [
        "e) ¿Qué significa físicamente la trayectoria?"
      ],
      "metadata": {
        "id": "1P6GEJVQV1Oc"
      },
      "id": "1P6GEJVQV1Oc"
    }
  ],
  "metadata": {
    "kernelspec": {
      "display_name": "Python 3 (ipykernel)",
      "language": "python",
      "name": "python3"
    },
    "language_info": {
      "codemirror_mode": {
        "name": "ipython",
        "version": 3
      },
      "file_extension": ".py",
      "mimetype": "text/x-python",
      "name": "python",
      "nbconvert_exporter": "python",
      "pygments_lexer": "ipython3",
      "version": "3.7.12"
    },
    "colab": {
      "provenance": []
    }
  },
  "nbformat": 4,
  "nbformat_minor": 5
}