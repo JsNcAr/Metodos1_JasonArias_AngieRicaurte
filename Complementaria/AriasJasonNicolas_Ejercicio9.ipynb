{
  "cells": [
    {
      "cell_type": "markdown",
      "id": "Ca47pvrzRXMy",
      "metadata": {
        "id": "Ca47pvrzRXMy"
      },
      "source": [
        "## Librerias"
      ]
    },
    {
      "cell_type": "code",
      "execution_count": 1,
      "id": "6f64d18c-e6fe-4328-a15d-9344842eabd1",
      "metadata": {
        "id": "6f64d18c-e6fe-4328-a15d-9344842eabd1"
      },
      "outputs": [],
      "source": [
        "import numpy as np\n",
        "import matplotlib.pyplot as plt"
      ]
    },
    {
      "cell_type": "markdown",
      "id": "XkEKN8o3Lu0o",
      "metadata": {
        "id": "XkEKN8o3Lu0o"
      },
      "source": [
        "## Problema\n",
        "\n",
        "Para el siguiente problema se puede guiar del siguiente notebook [gradiente descendiente](https://github.com/diegour1/CompMetodosComputacionales/blob/main/Notebooks/08%20-%20Gradient_Descent_Neural_Networks.ipynb)\n",
        "\n",
        "Considere el potencial electrico entre dos cargas de la misma magnitud pero de signo opuesto medido en la posición $\\vec{r}$ desde el centro de coordenadas dado por,\n",
        "\n",
        "$$ V(\\vec{r}) = \\frac{q}{4\\pi \\epsilon_0}\\Bigg[\\frac{1}{|\\vec{r}-\\vec{r_+}|}-\\frac{1}{|\\vec{r}-\\vec{r_-}|}\\Bigg], $$\n",
        "\n",
        "donde $\\vec{r_+}$, y $\\vec{r_-}$, son las posiciones de las cargas positivas y negativas respectivamente. En este ejercicio solamente nos vamos a enfocar en las dimensiones $x$ y $y$.\n",
        "\n",
        "Dados los siguientes parametros, \n",
        "\n",
        "$$\\vec{r_+} = (-0.25\\text{ m}, 0), \\quad \\vec{r_-} = (0.25\\text{ m}, 0), \\quad \\frac{q}{4\\pi \\epsilon_0} = 1, $$\n",
        "\n",
        "y que el campo electrico está dado por, \n",
        "\n",
        "$$\\vec{E}(\\vec{r}) = -\\vec{\\nabla} V(\\vec{r}),$$"
      ]
    },
    {
      "cell_type": "markdown",
      "id": "vi77WfbpMLnB",
      "metadata": {
        "id": "vi77WfbpMLnB"
      },
      "source": [
        "a) Escriba la función potencial en términos de $x$ y $y$ e imprima los valores del potencial en el punto $(x, y) = (0, 0)$ y $(x, y) = (0.1, 0)$, $(x, y) = (-0.15, 0.12)$."
      ]
    },
    {
      "cell_type": "code",
      "execution_count": 2,
      "id": "wNVvdgkBLwA5",
      "metadata": {
        "id": "wNVvdgkBLwA5"
      },
      "outputs": [
        {
          "data": {
            "text/plain": [
              "(0.0, -3.8095238095238098, 4.007278283591919)"
            ]
          },
          "execution_count": 2,
          "metadata": {},
          "output_type": "execute_result"
        }
      ],
      "source": [
        "def Potential(x, y):\n",
        "    r_p = np.array([-0.25,0])\n",
        "    r_n = np.array([0.25,0])\n",
        "    r = np.array([x,y])\n",
        "    V = 1/np.linalg.norm(r-r_p) - 1/np.linalg.norm(r-r_n)\n",
        "    return V\n",
        "# codigo para verificar su resultado no modificar\n",
        "Potential(0, 0), Potential(0.1, 0), Potential(-0.15, 0.12)"
      ]
    },
    {
      "cell_type": "markdown",
      "id": "Twn0pdu1N7kg",
      "metadata": {
        "id": "Twn0pdu1N7kg"
      },
      "source": [
        "b) Calcule la gradiente del potencial, con la formula de derivada central."
      ]
    },
    {
      "cell_type": "code",
      "execution_count": 3,
      "id": "e9ad708c",
      "metadata": {},
      "outputs": [],
      "source": [
        "def central_derivative(f, x, h):\n",
        "    df = (f(x+h) - f(x-h))/(2*h)\n",
        "    return df"
      ]
    },
    {
      "cell_type": "code",
      "execution_count": 4,
      "id": "dwchzjJ-M7JO",
      "metadata": {
        "id": "dwchzjJ-M7JO"
      },
      "outputs": [
        {
          "data": {
            "text/plain": [
              "(array([-32,   0]), array([-45,  11]), array([-31, -29]))"
            ]
          },
          "execution_count": 4,
          "metadata": {},
          "output_type": "execute_result"
        }
      ],
      "source": [
        "def Gradient_xy(f, x, y, h): \n",
        "    grad = np.array([0, 0])\n",
        "    grad[0] = central_derivative(lambda x: f(x, y), x, h)\n",
        "    grad[1] = central_derivative(lambda y: f(x, y), y, h)\n",
        "    \n",
        "    return grad\n",
        "\n",
        "# codigo para verificar su resultado no modificar\n",
        "Gradient_xy(Potential, 0, 0, 0.0001), Gradient_xy(Potential, 0.1, 0.05, 0.0001), Gradient_xy(Potential, -0.15, 0.12, 0.0001)"
      ]
    },
    {
      "cell_type": "markdown",
      "id": "uKEKtSXYOzLN",
      "metadata": {
        "id": "uKEKtSXYOzLN"
      },
      "source": [
        "c) Empezando en el punto $(x, y) = (0, 0.15)$ implemente el algoritmo de gradiente descendiente. Con pasos 683 pasos de $e = 0.0001$ para el gradiente descendiente y $h = 0.0001$ para la derivada central. Guarde la trayectoria en la variable `trayectory`\n",
        "\n",
        "El algoritmo gradiente descendiente tiene la siguiente forma\n",
        "\n",
        "\n",
        "\n",
        "```\n",
        "loss_function := Potential function that you wish to minimize\n",
        "min_value := initial_value\n",
        "e := the step size of the gradient descent\n",
        "num_steps := num of times that the GD looks for the minima\n",
        "\n",
        "\n",
        "for i in range(num_steps)\n",
        "  min_value = min_value - e * grad_loss_function(min_value)\n",
        "```\n",
        "\n",
        "Puede seguir el siguiente [notebook](https://github.com/diegour1/CompMetodosComputacionales/blob/main/Notebooks/08%20-%20Gradient_Descent_Neural_Networks.ipynb)\n",
        "\n",
        "\n"
      ]
    },
    {
      "cell_type": "code",
      "execution_count": 5,
      "id": "24EohIcKOg6Z",
      "metadata": {
        "id": "24EohIcKOg6Z"
      },
      "outputs": [
        {
          "name": "stdout",
          "output_type": "stream",
          "text": [
            "[ 1.6203 -1.5486]\n"
          ]
        }
      ],
      "source": [
        "trayectory = []\n",
        "# su codigo aqui\n",
        "loss_function = lambda x, y: Potential(x, y)\n",
        "min_value = np.array([0, 0.15])\n",
        "e = 0.0001\n",
        "steps = 683\n",
        "\n",
        "for i in range(steps):\n",
        "    min_value = min_value - e * Gradient_xy(loss_function, min_value[0], min_value[1], 0.0001)\n",
        "    trayectory.append(min_value)\n",
        "\n",
        "trayectory = np.array(trayectory)\n",
        "\n",
        "\n",
        "# codigo para verificar su resultado no modificar\n",
        "print(trayectory[-1])"
      ]
    },
    {
      "cell_type": "markdown",
      "id": "mLfPrEKNUo9Q",
      "metadata": {
        "id": "mLfPrEKNUo9Q"
      },
      "source": [
        "d) Gráfique con la misma escala en x y y, las dos cargas y la trayectoria."
      ]
    },
    {
      "cell_type": "code",
      "execution_count": 6,
      "id": "IZUP7xcDQEZl",
      "metadata": {
        "id": "IZUP7xcDQEZl"
      },
      "outputs": [
        {
          "data": {
            "text/plain": [
              "[<matplotlib.lines.Line2D at 0x7f28d3876830>]"
            ]
          },
          "execution_count": 6,
          "metadata": {},
          "output_type": "execute_result"
        },
        {
          "data": {
            "image/png": "[encoded data removed]",
            "text/plain": [
              "<Figure size 1000x1000 with 1 Axes>"
            ]
          },
          "metadata": {},
          "output_type": "display_data"
        }
      ],
      "source": [
        "# Graficar las 2 cargas y su trayectoria\n",
        "plt.figure(figsize=(10,10))\n",
        "r_p = np.array([-0.25,0])\n",
        "r_n = np.array([0.25,0])\n",
        "T_x = trayectory[:,0]\n",
        "T_y = trayectory[:,1]\n",
        "plt.plot(r_p[0], r_p[1], 'o', color='red')\n",
        "plt.plot(r_n[0], r_n[1], 'o', color='blue')\n",
        "plt.plot(T_x, T_y, color='green')\n"
      ]
    },
    {
      "cell_type": "code",
      "execution_count": 9,
      "id": "51df4ffd",
      "metadata": {},
      "outputs": [
        {
          "name": "stdout",
          "output_type": "stream",
          "text": [
            "(683, 2)\n"
          ]
        }
      ],
      "source": [
        "print(np.shape(trayectory))"
      ]
    },
    {
      "cell_type": "markdown",
      "id": "1P6GEJVQV1Oc",
      "metadata": {
        "id": "1P6GEJVQV1Oc"
      },
      "source": [
        "e) ¿Qué significa físicamente la trayectoria?"
      ]
    }
  ],
  "metadata": {
    "colab": {
      "provenance": []
    },
    "kernelspec": {
      "display_name": "Python 3 (ipykernel)",
      "language": "python",
      "name": "python3"
    },
    "language_info": {
      "codemirror_mode": {
        "name": "ipython",
        "version": 3
      },
      "file_extension": ".py",
      "mimetype": "text/x-python",
      "name": "python",
      "nbconvert_exporter": "python",
      "pygments_lexer": "ipython3",
      "version": "3.10.4"
    }
  },
  "nbformat": 4,
  "nbformat_minor": 5
}
