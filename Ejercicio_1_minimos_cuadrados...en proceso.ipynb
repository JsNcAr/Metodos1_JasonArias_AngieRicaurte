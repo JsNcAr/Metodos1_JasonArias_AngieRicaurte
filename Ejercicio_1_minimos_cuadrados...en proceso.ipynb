{
  "nbformat": 4,
  "nbformat_minor": 0,
  "metadata": {
    "colab": {
      "provenance": [],
      "authorship_tag": "ABX9TyOf1XXXLod3NOJSWB2RlXKS",
      "include_colab_link": true
    },
    "kernelspec": {
      "name": "python3",
      "display_name": "Python 3"
    },
    "language_info": {
      "name": "python"
    }
  },
  "cells": [
    {
      "cell_type": "markdown",
      "metadata": {
        "id": "view-in-github",
        "colab_type": "text"
      },
      "source": [
        "<a href=\"https://colab.research.google.com/github/JsNcAr/Metodos1_JasonArias_AngieRicaurte/blob/ramaALRR/Ejercicio_1_minimos_cuadrados...en%20proceso.ipynb\" target=\"_parent\"><img src=\"https://colab.research.google.com/assets/colab-badge.svg\" alt=\"Open In Colab\"/></a>"
      ]
    },
    {
      "cell_type": "code",
      "execution_count": 6,
      "metadata": {
        "id": "epfUs7rQcmV_"
      },
      "outputs": [],
      "source": [
        "import matplotlib.pyplot as plt\n",
        "import numpy as np\n",
        "from numpy.linalg import inv"
      ]
    },
    {
      "cell_type": "code",
      "source": [
        "#a)\n",
        "P=np.array([[2,-1],[1,2],[1,1]])\n",
        "Y=[2,1,4]\n",
        "print(P)\n",
        "print(Y)\n",
        "x=np.arange(-5,5,0.01)\n",
        "y=np.arange(-5,5,0.01)"
      ],
      "metadata": {
        "colab": {
          "base_uri": "https://localhost:8080/"
        },
        "id": "UghHXHu0cr_W",
        "outputId": "43c98ccf-a009-4563-a5e4-b82800e0feb4"
      },
      "execution_count": 10,
      "outputs": [
        {
          "output_type": "stream",
          "name": "stdout",
          "text": [
            "[[ 2 -1]\n",
            " [ 1  2]\n",
            " [ 1  1]]\n",
            "[2, 1, 4]\n"
          ]
        }
      ]
    },
    {
      "cell_type": "code",
      "source": [
        "PT=P.T\n",
        "v = (np.linalg.inv(P.T @ P) @ P.T) @ Y\n",
        "b, m = v\n",
        "print(b,m)\n",
        "f=-2+2*x\n",
        "g=(1-x)/2\n",
        "w=4-x\n",
        "plt.plot(x,f,color=\"r\")\n",
        "plt.plot(x,g,color=\"g\")\n",
        "plt.plot(x,w,color=\"y\")\n",
        "plt.scatter(b,m)\n",
        "print(\"No existe el punto de intersección entre las tres rectas,\\ndebido a que en ningun punto de la imagen coinciden.\\nPor tanto, el punto azul sirve como una aproximación a lo que sería la intersección de las tres rectas\")"
      ],
      "metadata": {
        "colab": {
          "base_uri": "https://localhost:8080/",
          "height": 504
        },
        "id": "XweJDkE9tdMg",
        "outputId": "f620e778-c359-44a7-9591-9a406d842406"
      },
      "execution_count": 11,
      "outputs": [
        {
          "output_type": "stream",
          "name": "stdout",
          "text": [
            "1.4285714285714284 0.42857142857142855\n",
            "No existe el punto de intersección entre las tres rectas,\n",
            "debido a que en ningun punto de la imagen coinciden.\n",
            "Por tanto, el punto azul sirve como una aproximación a lo que sería la intersección de las tres rectas\n"
          ]
        },
        {
          "output_type": "display_data",
          "data": {
            "text/plain": [
              "<Figure size 640x480 with 1 Axes>"
            ],
            "image/png": "[encoded data removed]"
          },
          "metadata": {}
        }
      ]
    },
    {
      "cell_type": "code",
      "source": [
        "#b)\n",
        "\n",
        "def F(x,y):\n",
        "  return np.sqrt((2*x-2-y)**2 + (x+2*y-1)**2 + (x+y-4)**2)\n",
        "minimo=F(-5,-5)\n",
        "u=0\n",
        "r=0\n",
        "Z=[]\n",
        "for i in x:\n",
        "  for t in y:\n",
        "    z=F(i,t)\n",
        "    Z.append(z)\n",
        "    if z <minimo:\n",
        "      minimo=z\n",
        "      u=i\n",
        "      r=t\n",
        "punto=[u,r]\n",
        "print(punto)\n",
        "\n",
        "\n"
      ],
      "metadata": {
        "id": "KmHval_34N9V",
        "colab": {
          "base_uri": "https://localhost:8080/"
        },
        "outputId": "4d7ef894-f75c-4813-8ef8-be29782416f8"
      },
      "execution_count": 12,
      "outputs": [
        {
          "output_type": "stream",
          "name": "stdout",
          "text": [
            "[1.429999999999863, 0.42999999999988425]\n"
          ]
        }
      ]
    }
  ]
}