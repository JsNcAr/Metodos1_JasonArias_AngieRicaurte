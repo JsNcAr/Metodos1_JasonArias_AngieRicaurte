{
  "nbformat": 4,
  "nbformat_minor": 0,
  "metadata": {
    "colab": {
      "provenance": [],
      "authorship_tag": "ABX9TyPp1Sc3X8oKRB0VA3nhW4i+",
      "include_colab_link": true
    },
    "kernelspec": {
      "name": "python3",
      "display_name": "Python 3"
    },
    "language_info": {
      "name": "python"
    }
  },
  "cells": [
    {
      "cell_type": "markdown",
      "metadata": {
        "id": "view-in-github",
        "colab_type": "text"
      },
      "source": [
        "<a href=\"https://colab.research.google.com/github/JsNcAr/Metodos1_JasonArias_AngieRicaurte/blob/ramaALRR/Ejercicio3_Algebralineal_Multiplicaciondematrices.ipynb\" target=\"_parent\"><img src=\"https://colab.research.google.com/assets/colab-badge.svg\" alt=\"Open In Colab\"/></a>"
      ]
    },
    {
      "cell_type": "code",
      "execution_count": 1,
      "metadata": {
        "id": "F7Qq3rr6F8La"
      },
      "outputs": [],
      "source": [
        "import numpy as np"
      ]
    },
    {
      "cell_type": "code",
      "source": [
        "A = np.array([[1, 0, 0],\n",
        "              [5, 1, 0],\n",
        "              [-2, 3, 1]])\n",
        "\n",
        "B = np.array([[4, -2, 1],\n",
        "              [0, 3, 7],\n",
        "              [0, 0, 2]])\n",
        "\n",
        "if A.shape[1] != B.shape[0]:\n",
        "    print(\"Error: las dimensiones de las matrices no son compatibles para la multiplicación.\")\n",
        "else:\n",
        "  C = np.zeros((A.shape[0], B.shape[1]))\n",
        "  for i in range(A.shape[0]):\n",
        "    for j in range(B.shape[1]):\n",
        "      for k in range(A.shape[1]):\n",
        "        C[i,j] += A[i,k] * B[k,j]\n",
        "print(\"El resultado de la multiplicación AB es:\")\n",
        "print(C)"
      ],
      "metadata": {
        "colab": {
          "base_uri": "https://localhost:8080/"
        },
        "id": "QfzE8jPRGrbb",
        "outputId": "899d087d-072d-4a96-e5e5-46321a2c0bf2"
      },
      "execution_count": 5,
      "outputs": [
        {
          "output_type": "stream",
          "name": "stdout",
          "text": [
            "El resultado de la multiplicación AB es:\n",
            "[[ 4. -2.  1.]\n",
            " [20. -7. 12.]\n",
            " [-8. 13. 21.]]\n"
          ]
        }
      ]
    }
  ]
}