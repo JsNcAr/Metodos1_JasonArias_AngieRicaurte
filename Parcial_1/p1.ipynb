{
 "cells": [
  {
   "cell_type": "code",
   "execution_count": 1,
   "metadata": {},
   "outputs": [],
   "source": [
    "import numpy as np\n",
    "import matplotlib.pyplot as plt\n",
    "import sympy as sym"
   ]
  },
  {
   "cell_type": "code",
   "execution_count": 2,
   "metadata": {},
   "outputs": [],
   "source": [
    "x = sym.Symbol('x', real=True)\n",
    "h = sym.Symbol('h', real=True)\n",
    "\n",
    "X = [-2*h, -h, 0, h, 2*h]\n"
   ]
  },
  {
   "cell_type": "code",
   "execution_count": 3,
   "metadata": {},
   "outputs": [],
   "source": [
    "def Lagrange(x, xi, j):\n",
    "\n",
    "    prod = 1\n",
    "    n = len(xi)\n",
    "\n",
    "    for i in range(n):\n",
    "        if i != j:\n",
    "            prod *= (x - xi[i]) / (xi[j] - xi[i])\n",
    "\n",
    "    return prod"
   ]
  },
  {
   "cell_type": "code",
   "execution_count": 4,
   "metadata": {},
   "outputs": [],
   "source": [
    "def GetCoefficients(x, p, X):\n",
    "    Coefficients = []\n",
    "    for i in range(len(X)):\n",
    "        I = Lagrange(x, X, i)\n",
    "        dI = sym.diff(I, x,1)\n",
    "        C = dI.subs(x, X[p])\n",
    "        Coefficients.append(C)\n",
    "    return Coefficients"
   ]
  },
  {
   "cell_type": "code",
   "execution_count": 5,
   "metadata": {},
   "outputs": [
    {
     "name": "stdout",
     "output_type": "stream",
     "text": [
      "Coefficients of the polynomial:\n"
     ]
    },
    {
     "data": {
      "image/png": "[encoded data removed]",
      "text/latex": [
       "$\\displaystyle \\left[ \\frac{1}{12 h}, \\  - \\frac{2}{3 h}, \\  0, \\  \\frac{2}{3 h}, \\  - \\frac{1}{12 h}\\right]$"
      ],
      "text/plain": [
       "⎡ 1    -2       2   -1  ⎤\n",
       "⎢────, ───, 0, ───, ────⎥\n",
       "⎣12⋅h  3⋅h     3⋅h  12⋅h⎦"
      ]
     },
     "execution_count": 5,
     "metadata": {},
     "output_type": "execute_result"
    }
   ],
   "source": [
    "sym.init_printing()\n",
    "print(\"Coefficients of the polynomial:\")\n",
    "GetCoefficients(x, 2, X)"
   ]
  },
  {
   "attachments": {},
   "cell_type": "markdown",
   "metadata": {},
   "source": [
    "Ya que estamos expresando el operador de derivada central como una combinacion lineal, el error seria del mismo orden que el de la derivada central expresada escalarmente. Por lo tanto, el error de la derivada central expresada como una combinacion lineal es del orden de $O(h^2)$."
   ]
  }
 ],
 "metadata": {
  "kernelspec": {
   "display_name": "base",
   "language": "python",
   "name": "python3"
  },
  "language_info": {
   "codemirror_mode": {
    "name": "ipython",
    "version": 3
   },
   "file_extension": ".py",
   "mimetype": "text/x-python",
   "name": "python",
   "nbconvert_exporter": "python",
   "pygments_lexer": "ipython3",
   "version": "3.9.12"
  },
  "orig_nbformat": 4,
  "vscode": {
   "interpreter": {
    "hash": "b3ff5c1b5424807e928bf8bee38bc8a3478b3941c229b42d5add67274bc7395e"
   }
  }
 },
 "nbformat": 4,
 "nbformat_minor": 2
}
