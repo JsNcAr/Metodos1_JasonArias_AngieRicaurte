{
 "cells": [
  {
   "cell_type": "code",
   "execution_count": 1,
   "metadata": {},
   "outputs": [],
   "source": [
    "import numpy as np\n",
    "import matplotlib.pyplot as plt\n",
    "import sympy as sym"
   ]
  },
  {
   "cell_type": "code",
   "execution_count": 2,
   "metadata": {},
   "outputs": [],
   "source": [
    "x = sym.Symbol('x', real=True)\n",
    "h = sym.Symbol('h', real=True)\n",
    "\n",
    "X = [-2*h, -h, 0, h, 2*h]\n"
   ]
  },
  {
   "cell_type": "code",
   "execution_count": 3,
   "metadata": {},
   "outputs": [],
   "source": [
    "def Lagrange(x, xi, j):\n",
    "\n",
    "    prod = 1\n",
    "    n = len(xi)\n",
    "\n",
    "    for i in range(n):\n",
    "        if i != j:\n",
    "            prod *= (x - xi[i]) / (xi[j] - xi[i])\n",
    "\n",
    "    return prod"
   ]
  },
  {
   "cell_type": "code",
   "execution_count": 4,
   "metadata": {},
   "outputs": [],
   "source": [
    "def Interpolate(x, xi, yi):\n",
    "\n",
    "    Sum = 0.\n",
    "    n = len(xi)\n",
    "\n",
    "    for j in range(n):\n",
    "        Sum += yi[j] * Lagrange(x, xi, j)\n",
    "\n",
    "    return Sum"
   ]
  },
  {
   "cell_type": "code",
   "execution_count": 24,
   "metadata": {},
   "outputs": [],
   "source": [
    "def GetCoefficients(x, p, X):\n",
    "    Coefficients = []\n",
    "    for i in range(len(X)):\n",
    "        I = Lagrange(x, X, i)\n",
    "        dI = sym.diff(I, x,1)\n",
    "        C = dI.subs(x, X[p])\n",
    "        Coefficients.append(C)\n",
    "    return Coefficients"
   ]
  },
  {
   "cell_type": "code",
   "execution_count": 25,
   "metadata": {},
   "outputs": [
    {
     "name": "stdout",
     "output_type": "stream",
     "text": [
      "Coefficients of the polynomial:\n",
      "[1/(12*h), -2/(3*h), 0, 2/(3*h), -1/(12*h)]\n"
     ]
    }
   ],
   "source": [
    "print(\"Coefficients of the polynomial:\")\n",
    "print(GetCoefficients(x, 2, X))"
   ]
  },
  {
   "cell_type": "code",
   "execution_count": 9,
   "metadata": {},
   "outputs": [
    {
     "name": "stdout",
     "output_type": "stream",
     "text": [
      "[-2*h, -h, 0, h, 2*h]\n"
     ]
    }
   ],
   "source": [
    "print(X)"
   ]
  }
 ],
 "metadata": {
  "kernelspec": {
   "display_name": "base",
   "language": "python",
   "name": "python3"
  },
  "language_info": {
   "codemirror_mode": {
    "name": "ipython",
    "version": 3
   },
   "file_extension": ".py",
   "mimetype": "text/x-python",
   "name": "python",
   "nbconvert_exporter": "python",
   "pygments_lexer": "ipython3",
   "version": "3.9.12"
  },
  "orig_nbformat": 4,
  "vscode": {
   "interpreter": {
    "hash": "b3ff5c1b5424807e928bf8bee38bc8a3478b3941c229b42d5add67274bc7395e"
   }
  }
 },
 "nbformat": 4,
 "nbformat_minor": 2
}
