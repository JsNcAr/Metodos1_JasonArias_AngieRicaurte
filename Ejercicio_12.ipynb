{
  "cells": [
    {
      "cell_type": "markdown",
      "metadata": {
        "id": "view-in-github",
        "colab_type": "text"
      },
      "source": [
        "<a href=\"https://colab.research.google.com/github/JsNcAr/Metodos1_JasonArias_AngieRicaurte/blob/ramaALRR/Ejercicio_12.ipynb\" target=\"_parent\"><img src=\"https://colab.research.google.com/assets/colab-badge.svg\" alt=\"Open In Colab\"/></a>"
      ]
    },
    {
      "cell_type": "code",
      "execution_count": 8,
      "metadata": {
        "id": "LCTQTkT94KC3"
      },
      "outputs": [],
      "source": [
        "import numpy as np\n",
        "import matplotlib.pyplot as plt\n",
        "import sympy as sym"
      ]
    },
    {
      "cell_type": "code",
      "execution_count": 9,
      "metadata": {
        "id": "f1jgsqyE4RcL"
      },
      "outputs": [],
      "source": [
        "x=0.5\n",
        "y=0.5\n",
        "z=0.5\n",
        "h=0.01\n"
      ]
    },
    {
      "cell_type": "code",
      "execution_count": 10,
      "metadata": {
        "id": "KcZvC9g_Vr3b"
      },
      "outputs": [],
      "source": [
        "def f(x, y, z):\n",
        "    return 6 * x - 2 * (np.cos(y * z)) - 1\n",
        "\n",
        "\n",
        "def g(x, y, z):\n",
        "    return 9 * y + np.sqrt((x**2) + (np.sin(z)) + (1)) + 0.9\n",
        "\n",
        "\n",
        "def t(x, y, z):\n",
        "    return 60 * z + 3 * (np.exp(-x * y)) + 10 * (np.pi) - 3"
      ]
    },
    {
      "cell_type": "code",
      "execution_count": 11,
      "metadata": {
        "id": "WH0ofR4IVr3c"
      },
      "outputs": [],
      "source": [
        "#a)\n",
        "def central_derivative_x(f, x, y, z, h):\n",
        "    return (f(x - 2 * h, y, z) - 8 * f(x - h, y, z) + 8 * f(x + h, y, z) -\n",
        "            f(x + 2 * h, y, z)) / (12 * h)\n",
        "\n",
        "\n",
        "def central_derivative_y(f, x, y, z, h):\n",
        "    return (f(x, y - 2 * h, z) - 8 * f(x, y - h, z) + 8 * f(x, y + h, z) -\n",
        "            f(x, y + 2 * h, z)) / (12 * h)\n",
        "\n",
        "\n",
        "def central_derivative_z(f, x, y, z, h):\n",
        "    return (f(x, y, z - 2 * h) - 8 * f(x, y, z - h) + 8 * f(x, y, z + h) -\n",
        "            f(x, y, z + 2 * h)) / (12 * h)"
      ]
    },
    {
      "cell_type": "code",
      "execution_count": 12,
      "metadata": {
        "id": "cOS0BcBmVr3c"
      },
      "outputs": [],
      "source": [
        "def Jacobiano_4(f, g, t, x, y, z, h):\n",
        "    matriz = np.zeros((3, 3))\n",
        "    df_dx = central_derivative_x(f, x, y, z, h)\n",
        "    df_dy = central_derivative_y(f, x, y, z, h)\n",
        "    df_dz = central_derivative_z(f, x, y, z, h)\n",
        "\n",
        "    dg_dx = central_derivative_x(g, x, y, z, h)\n",
        "    dg_dy = central_derivative_y(g, x, y, z, h)\n",
        "    dg_dz = central_derivative_z(g, x, y, z, h)\n",
        "\n",
        "    dt_dx = central_derivative_x(t, x, y, z, h)\n",
        "    dt_dy = central_derivative_y(t, x, y, z, h)\n",
        "    dt_dz = central_derivative_z(t, x, y, z, h)\n",
        "\n",
        "    matriz[0, 0] = df_dx\n",
        "    matriz[0, 1] = df_dy\n",
        "    matriz[0, 2] = df_dz\n",
        "\n",
        "    matriz[1, 0] = dg_dx\n",
        "    matriz[1, 1] = dg_dy\n",
        "    matriz[1, 2] = dg_dz\n",
        "\n",
        "    matriz[2, 0] = dt_dx\n",
        "    matriz[2, 1] = dt_dy\n",
        "    matriz[2, 2] = dt_dz\n",
        "\n",
        "    return matriz"
      ]
    },
    {
      "cell_type": "code",
      "execution_count": 13,
      "metadata": {
        "colab": {
          "base_uri": "https://localhost:8080/"
        },
        "id": "uxeyQ2rFVr3d",
        "outputId": "2c851073-ca35-4e98-bc89-f475c00a4ae0"
      },
      "outputs": [
        {
          "output_type": "stream",
          "name": "stdout",
          "text": [
            "[[ 6.          0.24740396  0.24740396]\n",
            " [ 0.38020609  9.          0.33366224]\n",
            " [-1.16820117 -1.16820117 60.        ]]\n"
          ]
        }
      ],
      "source": [
        "#b)\n",
        "J = Jacobiano_4(f, g, t, x, y, z, h)\n",
        "print(J)"
      ]
    },
    {
      "cell_type": "code",
      "execution_count": 14,
      "metadata": {
        "id": "eraG7qF9U_lW"
      },
      "outputs": [],
      "source": [
        "#c)\n",
        "\n",
        "def CentralDerivative_x(f,x,y,z,h):\n",
        "    d = (f((x+h),y,z) - f((x-h),y,z))/(2*h)      \n",
        "    return d\n",
        "\n",
        "def CentralDerivative_y(f,x,y,z,h):\n",
        "    d = (f(x,(y+h),z) - f(x,(y-h),z))/(2*h)\n",
        "    return d\n",
        "\n",
        "def CentralDerivative_z(f,x,y,z,h):\n",
        "    d = (f(x,y,(z+h)) - f(x,y,(z-h)))/(2*h)\n",
        "    return d\n"
      ]
    },
    {
      "cell_type": "code",
      "execution_count": 15,
      "metadata": {
        "id": "uVQUgpPnVr3e"
      },
      "outputs": [],
      "source": [
        "def Jacobiano_2(f, g, t, x, y, z, h):\n",
        "\n",
        "    matriz = np.zeros((3, 3))\n",
        "    df_dx = CentralDerivative_x(f, x, y, z, h)\n",
        "    df_dy = CentralDerivative_y(f, x, y, z, h)\n",
        "    df_dz = CentralDerivative_z(f, x, y, z, h)\n",
        "\n",
        "    dg_dx = CentralDerivative_x(g, x, y, z, h)\n",
        "    dg_dy = CentralDerivative_y(g, x, y, z, h)\n",
        "    dg_dz = CentralDerivative_z(g, x, y, z, h)\n",
        "\n",
        "    dt_dx = CentralDerivative_x(t, x, y, z, h)\n",
        "    dt_dy = CentralDerivative_y(t, x, y, z, h)\n",
        "    dt_dz = CentralDerivative_z(t, x, y, z, h)\n",
        "\n",
        "    matriz[0, 0] = df_dx\n",
        "    matriz[0, 1] = df_dy\n",
        "    matriz[0, 2] = df_dz\n",
        "\n",
        "    matriz[1, 0] = dg_dx\n",
        "    matriz[1, 1] = dg_dy\n",
        "    matriz[1, 2] = dg_dz\n",
        "\n",
        "    matriz[2, 0] = dt_dx\n",
        "    matriz[2, 1] = dt_dy\n",
        "    matriz[2, 2] = dt_dz\n",
        "\n",
        "    return matriz\n"
      ]
    },
    {
      "cell_type": "code",
      "execution_count": 16,
      "metadata": {
        "colab": {
          "base_uri": "https://localhost:8080/"
        },
        "id": "oKx3tmdXVr3g",
        "outputId": "0c51fd55-a364-4073-b62c-f51c732e3600"
      },
      "outputs": [
        {
          "output_type": "stream",
          "name": "stdout",
          "text": [
            "[[ 6.          0.24740293  0.24740293]\n",
            " [ 0.38019669  9.          0.33366006]\n",
            " [-1.16820604 -1.16820604 60.        ]]\n"
          ]
        }
      ],
      "source": [
        "Resultado = Jacobiano_2(f, g, t, x, y, z, h)\n",
        "print(Resultado)"
      ]
    },
    {
      "cell_type": "code",
      "execution_count": 17,
      "metadata": {
        "colab": {
          "base_uri": "https://localhost:8080/"
        },
        "id": "qBFoVzRUVr3l",
        "outputId": "645785b6-4d70-436b-e23e-55983b8d419d"
      },
      "outputs": [
        {
          "output_type": "stream",
          "name": "stdout",
          "text": [
            "[[ 6.          0.24740396  0.24740396]\n",
            " [ 0.38020609  9.          0.33366224]\n",
            " [-1.16820117 -1.16820117 60.        ]]\n"
          ]
        }
      ],
      "source": [
        "print(J)"
      ]
    },
    {
      "cell_type": "code",
      "execution_count": 18,
      "metadata": {
        "colab": {
          "base_uri": "https://localhost:8080/"
        },
        "id": "UzswigyGVr3n",
        "outputId": "bd9c57ac-8df6-48f3-d3bd-c300b12031a0"
      },
      "outputs": [
        {
          "output_type": "stream",
          "name": "stdout",
          "text": [
            "El error es de \n",
            " [[0.00000000e+00 1.03084339e-06 1.03084339e-06]\n",
            " [9.40190904e-06 2.30926389e-14 2.17470794e-06]\n",
            " [4.86753517e-06 4.86753517e-06 2.41584530e-13]]\n"
          ]
        }
      ],
      "source": [
        "print(f\"El error es de \\n {np.abs(J-Resultado)}\")"
      ]
    }
  ],
  "metadata": {
    "colab": {
      "provenance": [],
      "include_colab_link": true
    },
    "kernelspec": {
      "display_name": "Python 3",
      "name": "python3"
    },
    "language_info": {
      "codemirror_mode": {
        "name": "ipython",
        "version": 3
      },
      "file_extension": ".py",
      "mimetype": "text/x-python",
      "name": "python",
      "nbconvert_exporter": "python",
      "pygments_lexer": "ipython3",
      "version": "3.10.9"
    }
  },
  "nbformat": 4,
  "nbformat_minor": 0
}