{
  "nbformat": 4,
  "nbformat_minor": 0,
  "metadata": {
    "colab": {
      "provenance": [],
      "authorship_tag": "ABX9TyPuVjBk2+Y0WzL3rtPPvwrX",
      "include_colab_link": true
    },
    "kernelspec": {
      "name": "python3",
      "display_name": "Python 3"
    },
    "language_info": {
      "name": "python"
    }
  },
  "cells": [
    {
      "cell_type": "markdown",
      "metadata": {
        "id": "view-in-github",
        "colab_type": "text"
      },
      "source": [
        "<a href=\"https://colab.research.google.com/github/JsNcAr/Metodos1_JasonArias_AngieRicaurte/blob/ramaALRR/Untitled40.ipynb\" target=\"_parent\"><img src=\"https://colab.research.google.com/assets/colab-badge.svg\" alt=\"Open In Colab\"/></a>"
      ]
    },
    {
      "cell_type": "code",
      "execution_count": 14,
      "metadata": {
        "id": "6uu-VfT0IEYk"
      },
      "outputs": [],
      "source": [
        "import numpy as np\n",
        "import pandas as pd\n",
        "import matplotlib.pyplot as plt\n",
        "from matplotlib import rc\n",
        "import pandas as pd\n"
      ]
    },
    {
      "cell_type": "code",
      "source": [
        "#primera parte\n",
        "#a)\n",
        "url = \"https://raw.githubusercontent.com/asegura4488/Database/main/MetodosComputacionalesReforma/DataRotacion.csv\"\n",
        "Data = pd.read_csv(url,sep=\",\",engine='python')\n",
        "#b)\n",
        "Data_lambda30 = Data[Data[\"angle\"]==30.]\n",
        "\n",
        "#segunda parte\n",
        "#b)\n",
        "#Gravedad=np.array(9.81 + np.random.normal(loc=0,scale=1))\n",
        "#print(Gravedad)"
      ],
      "metadata": {
        "id": "JCjHWpIFOc2V"
      },
      "execution_count": null,
      "outputs": []
    },
    {
      "cell_type": "code",
      "source": [
        "def coriolis_deviation(h0, lat, g, w):\n",
        "    return 2 * w * np.sin(lat) * h0 / g\n",
        "def chi_square(h, y, sigmay, angle, g):\n",
        "    return np.sum(((h - y) / sigmay) ** 2) / (len(h) - 2)\n",
        "Gravedad = 9.81 + np.random.normal(loc=0, scale=1)\n",
        "y = y + np.random.normal(loc=0, scale=sigmay[0], size=len(y))\n"
      ],
      "metadata": {
        "id": "7KieAUXEOMee"
      },
      "execution_count": null,
      "outputs": []
    }
  ]
}