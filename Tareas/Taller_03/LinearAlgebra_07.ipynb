{
 "cells": [
  {
   "attachments": {},
   "cell_type": "markdown",
   "metadata": {},
   "source": [
    "# LU Decomposition"
   ]
  },
  {
   "cell_type": "code",
   "execution_count": 1,
   "metadata": {},
   "outputs": [],
   "source": [
    "import numpy as np"
   ]
  },
  {
   "cell_type": "code",
   "execution_count": 2,
   "metadata": {},
   "outputs": [],
   "source": [
    "def LU(A):\n",
    "    n = len(A)\n",
    "    L = np.eye(n)\n",
    "    U = np.zeros((n,n))\n",
    "    for k in range(n):\n",
    "        U[k,k] = A[k,k] - np.dot(L[k,:k], U[:k,k])\n",
    "        for i in range(k+1, n):\n",
    "            L[i,k] = (A[i,k] - np.dot(L[i,:k], U[:k,k]))/U[k,k]\n",
    "        for j in range(k+1, n):\n",
    "            U[k,j] = A[k,j] - np.dot(L[k,:k], U[:k,j])\n",
    "    return L, U"
   ]
  },
  {
   "cell_type": "code",
   "execution_count": 3,
   "metadata": {},
   "outputs": [
    {
     "name": "stdout",
     "output_type": "stream",
     "text": [
      "L: \n",
      " [[ 1.  0.  0.]\n",
      " [ 5.  1.  0.]\n",
      " [-2.  3.  1.]]\n",
      "U: \n",
      " [[ 4. -2.  1.]\n",
      " [ 0.  3.  7.]\n",
      " [ 0.  0. -2.]]\n"
     ]
    }
   ],
   "source": [
    "A = np.array([[4, -2, 1], [20, -7, 12], [-8, 13, 17]])\n",
    "\n",
    "L, U = LU(A)\n",
    "\n",
    "print(\"L: \\n\", L)\n",
    "print(\"U: \\n\", U)"
   ]
  }
 ],
 "metadata": {
  "kernelspec": {
   "display_name": "Python 3",
   "language": "python",
   "name": "python3"
  },
  "language_info": {
   "codemirror_mode": {
    "name": "ipython",
    "version": 3
   },
   "file_extension": ".py",
   "mimetype": "text/x-python",
   "name": "python",
   "nbconvert_exporter": "python",
   "pygments_lexer": "ipython3",
   "version": "3.10.4"
  },
  "orig_nbformat": 4
 },
 "nbformat": 4,
 "nbformat_minor": 2
}
