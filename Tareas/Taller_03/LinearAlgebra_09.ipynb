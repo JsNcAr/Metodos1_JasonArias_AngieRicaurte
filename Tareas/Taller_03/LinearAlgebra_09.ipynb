{
 "cells": [
  {
   "attachments": {},
   "cell_type": "markdown",
   "metadata": {},
   "source": [
    "# Jacobi eigenvalue algorithm"
   ]
  },
  {
   "cell_type": "code",
   "execution_count": 1,
   "metadata": {},
   "outputs": [],
   "source": [
    "import numpy as np"
   ]
  },
  {
   "cell_type": "code",
   "execution_count": 2,
   "metadata": {},
   "outputs": [],
   "source": [
    "A = np.array([[4, 1, 1], [1, 3, 2], [1, 2, 5]])"
   ]
  },
  {
   "cell_type": "code",
   "execution_count": 3,
   "metadata": {},
   "outputs": [],
   "source": [
    "def jacobi_eigenvalues(A, epsilon=1e-10):\n",
    "    \"\"\"\n",
    "    Explanation of some used methods:\n",
    "    numpy.triu(): returns the upper triangle of a matrix.\n",
    "    numpy.unravel_index(): converts a flat index into a tuple of coordinates.\n",
    "    numpy.eye(): creates an identity matrix of a given size.\n",
    "    \"\"\"\n",
    "\n",
    "    n = A.shape[0]\n",
    "\n",
    "    S = A.copy()\n",
    "\n",
    "    eigenvalues = np.zeros(n)\n",
    "\n",
    "    delta = 1\n",
    "\n",
    "    while delta > epsilon:\n",
    "\n",
    "        # Get absolute value of the matrix without the diagonal\n",
    "\n",
    "        # Find the indices of the maximum element outside the diagonal\n",
    "        (i, j) = np.unravel_index(np.argmax(np.triu(np.abs(S), 1)), (n, n))\n",
    "\n",
    "        # Compute the rotation angle\n",
    "        theta = np.arctan2(S[i, j], S[j, j])\n",
    "\n",
    "        # Compute the cosine and sine of the rotation angle\n",
    "        c, s = np.cos(theta), np.sin(theta)\n",
    "\n",
    "        # Create a Givens rotation matrix for the selected indices\n",
    "        G = np.eye(n)\n",
    "        G[[j, i], [j, i]] = c\n",
    "        G[i, j], G[j, i] = s, -s\n",
    "\n",
    "        # Update the matrix with the Givens rotation\n",
    "        S = G.T @ S @ G\n",
    "\n",
    "        # Compute the maximum off-diagonal element\n",
    "        delta = np.max(np.abs(np.triu(S, 1)))\n",
    "\n",
    "    # Store the eigenvalues in the eigenvalues array\n",
    "    eigenvalues = np.diag(S)\n",
    "\n",
    "    # Sort the eigenvalues in ascending order\n",
    "\n",
    "    # Return the sorted eigenvalues\n",
    "    return eigenvalues\n"
   ]
  },
  {
   "cell_type": "code",
   "execution_count": 4,
   "metadata": {},
   "outputs": [
    {
     "name": "stdout",
     "output_type": "stream",
     "text": [
      "Eigenvalues calculated with Jacobi's method:  [1.70759841 3.39729507 6.89510652]\n",
      "Eigenvalues calculated with numpy:  [1.70759841 3.39729507 6.89510652]\n",
      "Error: [8.8817842e-16 4.4408921e-15 8.8817842e-16]\n"
     ]
    }
   ],
   "source": [
    "eig_calculated = jacobi_eigenvalues(A)\n",
    "eig_numpy = np.linalg.eigvals(A)\n",
    "eig_numpy.sort()\n",
    "\n",
    "print(\"Eigenvalues calculated with Jacobi's method: \", eig_calculated)\n",
    "print(\"Eigenvalues calculated with numpy: \", eig_numpy)\n",
    "print(f\"Error: {np.abs(eig_calculated - eig_numpy)}\")"
   ]
  }
 ],
 "metadata": {
  "kernelspec": {
   "display_name": "base",
   "language": "python",
   "name": "python3"
  },
  "language_info": {
   "codemirror_mode": {
    "name": "ipython",
    "version": 3
   },
   "file_extension": ".py",
   "mimetype": "text/x-python",
   "name": "python",
   "nbconvert_exporter": "python",
   "pygments_lexer": "ipython3",
   "version": "3.9.13"
  },
  "orig_nbformat": 4
 },
 "nbformat": 4,
 "nbformat_minor": 2
}
