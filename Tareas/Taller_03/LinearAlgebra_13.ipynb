{
 "cells": [
  {
   "attachments": {},
   "cell_type": "markdown",
   "metadata": {},
   "source": [
    "# Special Orthogonal DIM 3"
   ]
  },
  {
   "cell_type": "code",
   "execution_count": 1,
   "metadata": {},
   "outputs": [],
   "source": [
    "import numpy as np\n",
    "import sympy as sym\n",
    "from itertools import permutations"
   ]
  },
  {
   "cell_type": "code",
   "execution_count": 2,
   "metadata": {},
   "outputs": [],
   "source": [
    "#Generators:\n",
    "Jx = np.array([[0, 0, 0], [0, 0, -1], [0, 1, 0]])\n",
    "Jy = np.array([[0, 0, 1], [0, 0, 0], [-1, 0, 0]])\n",
    "Jz = np.array([[0, -1, 0], [1, 0, 0], [0, 0, 0]])\n",
    "\n",
    "J = [Jx, Jy, Jz]"
   ]
  },
  {
   "cell_type": "code",
   "execution_count": 3,
   "metadata": {},
   "outputs": [],
   "source": [
    "def conmutator(A, B):\n",
    "    return A @ B - B @ A"
   ]
  },
  {
   "cell_type": "code",
   "execution_count": 4,
   "metadata": {},
   "outputs": [],
   "source": [
    "def levicivita(i, j, k):\n",
    "    if i == j or j == k or k == i:\n",
    "        return 0\n",
    "    if i == 1 and j == 2 and k == 3:\n",
    "        return 1\n",
    "    if i == 2 and j == 3 and k == 1:\n",
    "        return 1\n",
    "    if i == 3 and j == 1 and k == 2:\n",
    "        return 1\n",
    "    if i == 3 and j == 2 and k == 1:\n",
    "        return -1\n",
    "    if i == 2 and j == 1 and k == 3:\n",
    "        return -1\n",
    "    if i == 1 and j == 3 and k == 2:\n",
    "        return -1\n",
    "    "
   ]
  },
  {
   "cell_type": "code",
   "execution_count": 5,
   "metadata": {},
   "outputs": [],
   "source": [
    "perm = np.array([1, 2, 3])\n",
    "perm = np.array([np.array(x) for x in permutations(perm, 3)])\n",
    "\n",
    "zeros = np.zeros((3, 3))"
   ]
  },
  {
   "cell_type": "code",
   "execution_count": 6,
   "metadata": {},
   "outputs": [
    {
     "name": "stdout",
     "output_type": "stream",
     "text": [
      "OK\n",
      "OK\n",
      "OK\n",
      "OK\n",
      "OK\n",
      "OK\n"
     ]
    }
   ],
   "source": [
    "# check if permutation [Ji, Jj] =  epsilon_ijk * Jk\n",
    "for p in perm:\n",
    "    i, j, k = p\n",
    "    if not ((conmutator(J[i-1], J[j-1]) - levicivita(i, j, k) * J[k-1]) == zeros).all:\n",
    "        print(\"Error\")\n",
    "        break\n",
    "    else:\n",
    "        print(\"OK\")\n",
    "    "
   ]
  },
  {
   "attachments": {},
   "cell_type": "markdown",
   "metadata": {},
   "source": [
    "All 6 possible conmutations are exactly equal to the proposed Lie algebra, which probes the algebra is correct for the group"
   ]
  }
 ],
 "metadata": {
  "kernelspec": {
   "display_name": "base",
   "language": "python",
   "name": "python3"
  },
  "language_info": {
   "codemirror_mode": {
    "name": "ipython",
    "version": 3
   },
   "file_extension": ".py",
   "mimetype": "text/x-python",
   "name": "python",
   "nbconvert_exporter": "python",
   "pygments_lexer": "ipython3",
   "version": "3.9.13"
  },
  "orig_nbformat": 4
 },
 "nbformat": 4,
 "nbformat_minor": 2
}
