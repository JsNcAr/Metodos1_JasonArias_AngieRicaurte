{
 "cells": [
  {
   "attachments": {},
   "cell_type": "markdown",
   "metadata": {},
   "source": [
    "# Logistic Regression"
   ]
  },
  {
   "cell_type": "code",
   "execution_count": 1,
   "metadata": {},
   "outputs": [],
   "source": [
    "import numpy as np\n",
    "import matplotlib.pyplot as plt\n",
    "from scipy.optimize import curve_fit\n",
    "import pandas as pd\n",
    "import sympy as sym\n",
    "from sympy import init_printing\n",
    "from scipy.interpolate import make_interp_spline\n",
    "from scipy.stats import chi2\n"
   ]
  },
  {
   "cell_type": "code",
   "execution_count": 2,
   "metadata": {},
   "outputs": [],
   "source": [
    "df = pd.read_csv('Sigmoid.csv')"
   ]
  },
  {
   "attachments": {},
   "cell_type": "markdown",
   "metadata": {},
   "source": [
    "## a)"
   ]
  },
  {
   "cell_type": "code",
   "execution_count": 3,
   "metadata": {},
   "outputs": [],
   "source": [
    "def fit_model(x, a, b, c):\n",
    "    return a / (b + np.exp(-c * x))\n",
    "\n",
    "\n",
    "def sym_fit(x, a, b, c):\n",
    "    return a / (b + sym.exp(-c * x))"
   ]
  },
  {
   "attachments": {},
   "cell_type": "markdown",
   "metadata": {},
   "source": [
    "## b)"
   ]
  },
  {
   "cell_type": "code",
   "execution_count": 4,
   "metadata": {},
   "outputs": [],
   "source": [
    "def cost_function(x, y, a, b, c):\n",
    "    return np.sum((y - fit_model(x, a, b, c))**2)\n",
    "\n",
    "\n",
    "def symbolic_cost_function(x, y, a, b, c):\n",
    "    return (y - sym_fit(x, a, b, c))**2"
   ]
  },
  {
   "attachments": {},
   "cell_type": "markdown",
   "metadata": {},
   "source": [
    "## c)"
   ]
  },
  {
   "cell_type": "code",
   "execution_count": 5,
   "metadata": {},
   "outputs": [],
   "source": [
    "def partial_symbolic_derivative_cost():\n",
    "    x = sym.symbols('x')\n",
    "    y = sym.symbols('y')\n",
    "    a = sym.symbols('theta_0')\n",
    "    b = sym.symbols('theta_1')\n",
    "    c = sym.symbols('theta_2')\n",
    "    sym_cost = symbolic_cost_function(x, y, a, b, c)\n",
    "    return sym.diff(sym_cost, a), sym.diff(sym_cost, b), sym.diff(sym_cost, c)\n",
    "\n",
    "def partial_symbolic_derivative_fit():\n",
    "    x = sym.symbols('x')\n",
    "    y = sym.symbols('y')\n",
    "    a = sym.symbols('theta_0')\n",
    "    b = sym.symbols('theta_1')\n",
    "    c = sym.symbols('theta_2')\n",
    "    s_fit = sym_fit(x, a, b, c)\n",
    "    return sym.diff(s_fit, a), sym.diff(s_fit, b), sym.diff(s_fit, c)\n",
    "\n",
    "def partial_symbolic_derivative():\n",
    "    x = sym.symbols('x')\n",
    "    sym.Sum(partial_symbolic_derivative_cost(), (x, 0, len(df['x'])))\n"
   ]
  },
  {
   "cell_type": "code",
   "execution_count": 6,
   "metadata": {},
   "outputs": [],
   "source": [
    "init_printing(use_latex=True)"
   ]
  },
  {
   "cell_type": "code",
   "execution_count": 7,
   "metadata": {},
   "outputs": [
    {
     "data": {
      "image/png": "[encoded data removed]",
      "text/latex": [
       "$\\displaystyle \\left( - \\frac{2 \\left(- \\frac{\\theta_{0}}{\\theta_{1} + e^{- \\theta_{2} x}} + y\\right)}{\\theta_{1} + e^{- \\theta_{2} x}}, \\  \\frac{2 \\theta_{0} \\left(- \\frac{\\theta_{0}}{\\theta_{1} + e^{- \\theta_{2} x}} + y\\right)}{\\left(\\theta_{1} + e^{- \\theta_{2} x}\\right)^{2}}, \\  - \\frac{2 \\theta_{0} x \\left(- \\frac{\\theta_{0}}{\\theta_{1} + e^{- \\theta_{2} x}} + y\\right) e^{- \\theta_{2} x}}{\\left(\\theta_{1} + e^{- \\theta_{2} x}\\right)^{2}}\\right)$"
      ],
      "text/plain": [
       "⎛   ⎛       θ₀        ⎞        ⎛       θ₀        ⎞          ⎛       θ₀        \n",
       "⎜-2⋅⎜- ─────────── + y⎟   2⋅θ₀⋅⎜- ─────────── + y⎟  -2⋅θ₀⋅x⋅⎜- ─────────── + y\n",
       "⎜   ⎜        -θ₂⋅x    ⎟        ⎜        -θ₂⋅x    ⎟          ⎜        -θ₂⋅x    \n",
       "⎜   ⎝  θ₁ + ℯ         ⎠        ⎝  θ₁ + ℯ         ⎠          ⎝  θ₁ + ℯ         \n",
       "⎜───────────────────────, ────────────────────────, ──────────────────────────\n",
       "⎜            -θ₂⋅x                          2                               2 \n",
       "⎜      θ₁ + ℯ                  ⎛      -θ₂⋅x⎞                   ⎛      -θ₂⋅x⎞  \n",
       "⎝                              ⎝θ₁ + ℯ     ⎠                   ⎝θ₁ + ℯ     ⎠  \n",
       "\n",
       "⎞  -θ₂⋅x ⎞\n",
       "⎟⋅ℯ      ⎟\n",
       "⎟        ⎟\n",
       "⎠        ⎟\n",
       "─────────⎟\n",
       "         ⎟\n",
       "         ⎟\n",
       "         ⎠"
      ]
     },
     "execution_count": 7,
     "metadata": {},
     "output_type": "execute_result"
    }
   ],
   "source": [
    "partial_symbolic_derivative_cost()"
   ]
  },
  {
   "cell_type": "code",
   "execution_count": 8,
   "metadata": {},
   "outputs": [
    {
     "data": {
      "image/png": "[encoded data removed]",
      "text/latex": [
       "$\\displaystyle \\left( \\frac{1}{\\theta_{1} + e^{- \\theta_{2} x}}, \\  - \\frac{\\theta_{0}}{\\left(\\theta_{1} + e^{- \\theta_{2} x}\\right)^{2}}, \\  \\frac{\\theta_{0} x e^{- \\theta_{2} x}}{\\left(\\theta_{1} + e^{- \\theta_{2} x}\\right)^{2}}\\right)$"
      ],
      "text/plain": [
       "⎛                                    -θ₂⋅x  ⎞\n",
       "⎜     1            -θ₀         θ₀⋅x⋅ℯ       ⎟\n",
       "⎜───────────, ──────────────, ──────────────⎟\n",
       "⎜      -θ₂⋅x               2               2⎟\n",
       "⎜θ₁ + ℯ       ⎛      -θ₂⋅x⎞   ⎛      -θ₂⋅x⎞ ⎟\n",
       "⎝             ⎝θ₁ + ℯ     ⎠   ⎝θ₁ + ℯ     ⎠ ⎠"
      ]
     },
     "execution_count": 8,
     "metadata": {},
     "output_type": "execute_result"
    }
   ],
   "source": [
    "partial_symbolic_derivative_fit()"
   ]
  },
  {
   "cell_type": "code",
   "execution_count": 9,
   "metadata": {},
   "outputs": [],
   "source": [
    "without_derivative = [partial_symbolic_derivative_cost()[0] / partial_symbolic_derivative_fit()[0], \n",
    "                      partial_symbolic_derivative_cost()[1] / partial_symbolic_derivative_fit()[1], \n",
    "                      partial_symbolic_derivative_cost()[2] / partial_symbolic_derivative_fit()[2]]"
   ]
  },
  {
   "cell_type": "code",
   "execution_count": 10,
   "metadata": {},
   "outputs": [
    {
     "data": {
      "image/png": "[encoded data removed]",
      "text/latex": [
       "$\\displaystyle \\left( \\left[ \\frac{2 \\theta_{0}}{\\theta_{1} + e^{- \\theta_{2} x}} - 2 y, \\  \\frac{2 \\theta_{0}}{\\theta_{1} + e^{- \\theta_{2} x}} - 2 y, \\  \\frac{2 \\theta_{0}}{\\theta_{1} + e^{- \\theta_{2} x}} - 2 y\\right], \\  \\left( \\frac{1}{\\theta_{1} + e^{- \\theta_{2} x}}, \\  - \\frac{\\theta_{0}}{\\left(\\theta_{1} + e^{- \\theta_{2} x}\\right)^{2}}, \\  \\frac{\\theta_{0} x e^{- \\theta_{2} x}}{\\left(\\theta_{1} + e^{- \\theta_{2} x}\\right)^{2}}\\right)\\right)$"
      ],
      "text/plain": [
       "⎛                                                           ⎛                 \n",
       "⎜⎡    2⋅θ₀               2⋅θ₀               2⋅θ₀         ⎤  ⎜     1           \n",
       "⎜⎢─────────── - 2⋅y, ─────────── - 2⋅y, ─────────── - 2⋅y⎥, ⎜───────────, ────\n",
       "⎜⎢      -θ₂⋅x              -θ₂⋅x              -θ₂⋅x      ⎥  ⎜      -θ₂⋅x      \n",
       "⎜⎣θ₁ + ℯ             θ₁ + ℯ             θ₁ + ℯ           ⎦  ⎜θ₁ + ℯ       ⎛   \n",
       "⎝                                                           ⎝             ⎝θ₁ \n",
       "\n",
       "                   -θ₂⋅x  ⎞⎞\n",
       " -θ₀         θ₀⋅x⋅ℯ       ⎟⎟\n",
       "──────────, ──────────────⎟⎟\n",
       "         2               2⎟⎟\n",
       "   -θ₂⋅x⎞   ⎛      -θ₂⋅x⎞ ⎟⎟\n",
       "+ ℯ     ⎠   ⎝θ₁ + ℯ     ⎠ ⎠⎠"
      ]
     },
     "execution_count": 10,
     "metadata": {},
     "output_type": "execute_result"
    }
   ],
   "source": [
    "without_derivative , partial_symbolic_derivative_fit()\n"
   ]
  },
  {
   "attachments": {},
   "cell_type": "markdown",
   "metadata": {},
   "source": [
    "## e)"
   ]
  },
  {
   "cell_type": "code",
   "execution_count": 11,
   "metadata": {},
   "outputs": [],
   "source": [
    "def partial_derivative(x, y, a, b, c):\n",
    "    partial_a = 0\n",
    "    partial_b = 0\n",
    "    partial_c = 0\n",
    "    for i in range(len(x)):\n",
    "        partial_a += 2 * \\\n",
    "            (a / (b + np.exp(-c * x[i])) - y[i]) / (b + np.exp(-c * x[i]))\n",
    "        partial_b += 2 * \\\n",
    "            (a / (b + np.exp(-c * x[i])) - y[i]) * a * \\\n",
    "            np.exp(-c * x[i]) / (b + np.exp(-c * x[i]))**2\n",
    "        partial_c += 2 * (a / (b + np.exp(-c * x[i])) - y[i]) * \\\n",
    "            a * x[i] * np.exp(-c * x[i]) / (b + np.exp(-c * x[i]))**2\n",
    "    return partial_a, partial_b, partial_c\n",
    "\n",
    "\n",
    "def gradient_descent(x, y, a, b, c, learning_rate, iterations, e):\n",
    "    for i in range(iterations):\n",
    "        partial_a, partial_b, partial_c = partial_derivative(x, y, a, b, c)\n",
    "        a = a - learning_rate * partial_a\n",
    "        b = b - learning_rate * partial_b\n",
    "        c = c - learning_rate * partial_c\n",
    "        if (abs(partial_a) < e) and (abs(partial_b) < e) and (abs(partial_c)\n",
    "                                                              < e):\n",
    "            break\n",
    "    return a, b, c, i"
   ]
  },
  {
   "cell_type": "code",
   "execution_count": 12,
   "metadata": {},
   "outputs": [],
   "source": [
    "model = gradient_descent(df['x'], df['y'], 1, 1, 1, 0.0005, 10000, 0.01)"
   ]
  },
  {
   "attachments": {},
   "cell_type": "markdown",
   "metadata": {},
   "source": [
    "## f)"
   ]
  },
  {
   "cell_type": "code",
   "execution_count": 13,
   "metadata": {},
   "outputs": [
    {
     "data": {
      "image/png": "[encoded data removed]",
      "text/plain": [
       "<Figure size 1000x800 with 1 Axes>"
      ]
     },
     "metadata": {},
     "output_type": "display_data"
    }
   ],
   "source": [
    "fig = plt.figure(figsize=(10, 8))\n",
    "ax = fig.add_subplot(111)\n",
    "y_model = np.sort(fit_model(df['x'], model[0], model[1], model[2]))\n",
    "\n",
    "x = np.linspace(df['x'].min(), df['x'].max(), 500)\n",
    "y_model = fit_model(x, model[0], model[1], model[2])\n",
    "\n",
    "ax.scatter(df['x'], df['y'], label='Datos')\n",
    "ax.plot(x, y_model, label='Modelo', color='red', linestyle='dashed')\n",
    "ax.set_xlabel('x')\n",
    "ax.set_ylabel('y')\n",
    "ax.legend()\n",
    "plt.show()\n"
   ]
  }
 ],
 "metadata": {
  "kernelspec": {
   "display_name": "base",
   "language": "python",
   "name": "python3"
  },
  "language_info": {
   "codemirror_mode": {
    "name": "ipython",
    "version": 3
   },
   "file_extension": ".py",
   "mimetype": "text/x-python",
   "name": "python",
   "nbconvert_exporter": "python",
   "pygments_lexer": "ipython3",
   "version": "3.10.9"
  },
  "orig_nbformat": 4,
  "vscode": {
   "interpreter": {
    "hash": "b3ff5c1b5424807e928bf8bee38bc8a3478b3941c229b42d5add67274bc7395e"
   }
  }
 },
 "nbformat": 4,
 "nbformat_minor": 2
}
