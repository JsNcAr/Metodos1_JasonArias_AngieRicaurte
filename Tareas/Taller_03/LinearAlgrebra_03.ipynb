{
  "cells": [
    {
      "cell_type": "markdown",
      "metadata": {
        "colab_type": "text",
        "id": "view-in-github"
      },
      "source": [
        "<a href=\"https://colab.research.google.com/github/JsNcAr/Metodos1_JasonArias_AngieRicaurte/blob/ramaALRR/Ejercicio3_Algebralineal_Multiplicaciondematrices.ipynb\" target=\"_parent\"><img src=\"https://colab.research.google.com/assets/colab-badge.svg\" alt=\"Open In Colab\"/></a>"
      ]
    },
    {
      "cell_type": "code",
      "execution_count": 1,
      "metadata": {
        "id": "F7Qq3rr6F8La"
      },
      "outputs": [],
      "source": [
        "import numpy as np"
      ]
    },
    {
      "cell_type": "code",
      "execution_count": 2,
      "metadata": {},
      "outputs": [],
      "source": [
        "A = np.array([[1, 0, 0], [5, 1, 0], [-2, 3, 1]])\n",
        "\n",
        "B = np.array([[4, -2, 1], [0, 3, 7], [0, 0, 2]])\n"
      ]
    },
    {
      "cell_type": "code",
      "execution_count": 3,
      "metadata": {
        "colab": {
          "base_uri": "https://localhost:8080/"
        },
        "id": "QfzE8jPRGrbb",
        "outputId": "899d087d-072d-4a96-e5e5-46321a2c0bf2"
      },
      "outputs": [],
      "source": [
        "def MatrixMultiplication(A, B):\n",
        "    if A.shape[1] != B.shape[0]:\n",
        "        print(\"Error: las dimensiones de las matrices no son compatibles para la multiplicación.\")\n",
        "        return None\n",
        "    else:\n",
        "        C = np.zeros((A.shape[0], B.shape[1]))\n",
        "        for i in range(A.shape[0]):\n",
        "            for j in range(B.shape[1]):\n",
        "                for k in range(A.shape[1]):\n",
        "                    C[i, j] += A[i, k] * B[k, j]\n",
        "        \n",
        "        return C"
      ]
    },
    {
      "cell_type": "code",
      "execution_count": 4,
      "metadata": {},
      "outputs": [
        {
          "name": "stdout",
          "output_type": "stream",
          "text": [
            "La multiplicación de A y B es: \n",
            " [[ 4. -2.  1.]\n",
            " [20. -7. 12.]\n",
            " [-8. 13. 21.]]\n"
          ]
        }
      ],
      "source": [
        "print(f'La multiplicación de A y B es: \\n {MatrixMultiplication(A, B)}')"
      ]
    }
  ],
  "metadata": {
    "colab": {
      "authorship_tag": "ABX9TyPp1Sc3X8oKRB0VA3nhW4i+",
      "include_colab_link": true,
      "provenance": []
    },
    "kernelspec": {
      "display_name": "Python 3",
      "name": "python3"
    },
    "language_info": {
      "codemirror_mode": {
        "name": "ipython",
        "version": 3
      },
      "file_extension": ".py",
      "mimetype": "text/x-python",
      "name": "python",
      "nbconvert_exporter": "python",
      "pygments_lexer": "ipython3",
      "version": "3.10.4"
    }
  },
  "nbformat": 4,
  "nbformat_minor": 0
}
