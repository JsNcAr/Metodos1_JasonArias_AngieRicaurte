{
 "cells": [
  {
   "cell_type": "code",
   "execution_count": 1,
   "metadata": {},
   "outputs": [],
   "source": [
    "import numpy as np"
   ]
  },
  {
   "cell_type": "code",
   "execution_count": null,
   "metadata": {},
   "outputs": [],
   "source": [
    "# succesive over-relaxation\n",
    "def sor(A, b, x0, w, tol, maxiter):\n",
    "    n = len(b)\n",
    "    x = x0\n",
    "    for k in range(maxiter):\n",
    "        x_old = x\n",
    "        for i in range(n):\n",
    "            sigma = 0\n",
    "            for j in range(n):\n",
    "                if j != i:\n",
    "                    sigma += A[i, j] * x[j]\n",
    "            x[i] = (1 - w) * x[i] + w / A[i, i] * (b[i] - sigma)\n",
    "        if np.linalg.norm(x - x_old, np.inf) < tol:\n",
    "            break\n",
    "    return x, k\n"
   ]
  }
 ],
 "metadata": {
  "kernelspec": {
   "display_name": "Python 3",
   "language": "python",
   "name": "python3"
  },
  "language_info": {
   "codemirror_mode": {
    "name": "ipython",
    "version": 3
   },
   "file_extension": ".py",
   "mimetype": "text/x-python",
   "name": "python",
   "nbconvert_exporter": "python",
   "pygments_lexer": "ipython3",
   "version": "3.10.4"
  },
  "orig_nbformat": 4
 },
 "nbformat": 4,
 "nbformat_minor": 2
}
