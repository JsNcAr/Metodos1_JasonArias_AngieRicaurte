{
  "cells": [
    {
      "cell_type": "markdown",
      "metadata": {
        "colab_type": "text",
        "id": "view-in-github"
      },
      "source": [
        "<a href=\"https://colab.research.google.com/github/JsNcAr/Metodos1_JasonArias_AngieRicaurte/blob/ramaALRR/raices_de_un_polinomio.ipynb\" target=\"_parent\"><img src=\"https://colab.research.google.com/assets/colab-badge.svg\" alt=\"Open In Colab\"/></a>"
      ]
    },
    {
      "cell_type": "code",
      "execution_count": 1,
      "metadata": {
        "id": "QT0UbVUXnCr7"
      },
      "outputs": [],
      "source": [
        "import numpy as np\n",
        "import matplotlib.pyplot as plt\n",
        "from matplotlib import rc\n"
      ]
    },
    {
      "cell_type": "code",
      "execution_count": 2,
      "metadata": {},
      "outputs": [],
      "source": [
        "def Function(x):\n",
        "    return 3 * x**5 + 5 * x**4 - 1 * x**3\n"
      ]
    },
    {
      "cell_type": "code",
      "execution_count": 3,
      "metadata": {
        "colab": {
          "base_uri": "https://localhost:8080/",
          "height": 293
        },
        "id": "euj1-mOunPCz",
        "outputId": "6f5c485a-1bec-4478-aad2-bb57d0049759"
      },
      "outputs": [],
      "source": [
        "x = np.linspace(-2,1.3,100)\n",
        "y = Function(x)\n"
      ]
    },
    {
      "cell_type": "code",
      "execution_count": 4,
      "metadata": {},
      "outputs": [
        {
          "data": {
            "image/png": "[encoded data removed]",
            "text/plain": [
              "<Figure size 640x480 with 1 Axes>"
            ]
          },
          "metadata": {},
          "output_type": "display_data"
        }
      ],
      "source": [
        "plt.plot(x, y, label='Polynomial', linewidth=2, alpha=0.5, color='blue', linestyle='--')\n",
        "plt.axhline(y=0, color='r', linestyle='-', linewidth=2, alpha=0.5, label='y=0', zorder=0)\n",
        "plt.legend(loc='upper left')\n",
        "plt.grid()\n",
        "plt.title('Polynomial')\n",
        "plt.xlabel('x')\n",
        "plt.ylabel('y')\n",
        "plt.show()\n"
      ]
    },
    {
      "cell_type": "code",
      "execution_count": 5,
      "metadata": {
        "id": "_fdMYeOHwCsJ"
      },
      "outputs": [],
      "source": [
        "def Derivative(f,x,h=1e-4):\n",
        "    return (f(x+h)-f(x-h))/(2*h)"
      ]
    },
    {
      "cell_type": "code",
      "execution_count": 6,
      "metadata": {
        "id": "9mv452LpwgpM"
      },
      "outputs": [],
      "source": [
        "def GetNewtonRaphson(f,df,xn,itmax = 10000000, precision=1e-5):\n",
        "    \n",
        "    error = 1\n",
        "    it = 0\n",
        "    \n",
        "    while error > precision and it <= itmax:\n",
        "        \n",
        "        try:\n",
        "            \n",
        "            xn1 = xn - f(xn)/df(f,xn)\n",
        "            \n",
        "            error = np.abs(f(xn)/df(f,xn))\n",
        "            \n",
        "            #print(error)\n",
        "            \n",
        "        except ZeroDivisionError:\n",
        "            \n",
        "            print('Division por cero')\n",
        "            \n",
        "        it += 1\n",
        "        xn = xn1\n",
        "    \n",
        "    if it == itmax:\n",
        "        False\n",
        "    else:\n",
        "        return xn"
      ]
    },
    {
      "cell_type": "code",
      "execution_count": 7,
      "metadata": {
        "id": "ha_BlyxBo1Ur"
      },
      "outputs": [],
      "source": [
        "def GetAllRoots(x,tolerancia=4):\n",
        "    \n",
        "    Roots = np.array([])\n",
        "    \n",
        "    for i in x:\n",
        "        \n",
        "        root = GetNewtonRaphson(Function,Derivative,i)\n",
        "        \n",
        "        if root != False:\n",
        "            \n",
        "            croot = np.round(root, tolerancia)\n",
        "            \n",
        "            if croot not in Roots:\n",
        "                Roots = np.append(Roots,croot)\n",
        "                \n",
        "    Roots.sort()\n",
        "        \n",
        "    return Roots"
      ]
    },
    {
      "cell_type": "code",
      "execution_count": 8,
      "metadata": {
        "id": "dwUUvgr_o47r"
      },
      "outputs": [],
      "source": [
        "x = np.linspace(-4,4,100)\n",
        "Roots = GetAllRoots(x)"
      ]
    },
    {
      "cell_type": "code",
      "execution_count": 9,
      "metadata": {
        "colab": {
          "base_uri": "https://localhost:8080/"
        },
        "id": "obObDsP0o7jJ",
        "outputId": "f0d0fe45-cff1-446b-df1e-bc88ee08407a"
      },
      "outputs": [
        {
          "name": "stdout",
          "output_type": "stream",
          "text": [
            "Raices del polinomio:  [-1.85 -0.    0.18]\n"
          ]
        }
      ],
      "source": [
        "print('Raices del polinomio: ', np.around(Roots,2))"
      ]
    }
  ],
  "metadata": {
    "colab": {
      "authorship_tag": "ABX9TyMGVpPKL7PqfdGgc+Kp1AOD",
      "include_colab_link": true,
      "provenance": []
    },
    "kernelspec": {
      "display_name": "Python 3",
      "language": "python",
      "name": "python3"
    },
    "language_info": {
      "codemirror_mode": {
        "name": "ipython",
        "version": 3
      },
      "file_extension": ".py",
      "mimetype": "text/x-python",
      "name": "python",
      "nbconvert_exporter": "python",
      "pygments_lexer": "ipython3",
      "version": "3.10.4"
    },
    "vscode": {
      "interpreter": {
        "hash": "3ad933181bd8a04b432d3370b9dc3b0662ad032c4dfaa4e4f1596c548f763858"
      }
    }
  },
  "nbformat": 4,
  "nbformat_minor": 0
}
