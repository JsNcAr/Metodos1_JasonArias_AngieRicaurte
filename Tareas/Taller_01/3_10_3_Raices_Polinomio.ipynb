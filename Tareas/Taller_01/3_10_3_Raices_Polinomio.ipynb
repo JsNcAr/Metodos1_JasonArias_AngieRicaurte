{
  "nbformat": 4,
  "nbformat_minor": 0,
  "metadata": {
    "colab": {
      "provenance": [],
      "authorship_tag": "ABX9TyMGVpPKL7PqfdGgc+Kp1AOD",
      "include_colab_link": true
    },
    "kernelspec": {
      "name": "python3",
      "display_name": "Python 3"
    },
    "language_info": {
      "name": "python"
    }
  },
  "cells": [
    {
      "cell_type": "markdown",
      "metadata": {
        "id": "view-in-github",
        "colab_type": "text"
      },
      "source": [
        "<a href=\"https://colab.research.google.com/github/JsNcAr/Metodos1_JasonArias_AngieRicaurte/blob/ramaALRR/raices_de_un_polinomio.ipynb\" target=\"_parent\"><img src=\"https://colab.research.google.com/assets/colab-badge.svg\" alt=\"Open In Colab\"/></a>"
      ]
    },
    {
      "cell_type": "code",
      "execution_count": 102,
      "metadata": {
        "id": "QT0UbVUXnCr7"
      },
      "outputs": [],
      "source": [
        "import numpy as np\n",
        "import matplotlib.pyplot as plt\n",
        "from matplotlib import rc\n"
      ]
    },
    {
      "cell_type": "code",
      "source": [
        "def Function(x):\n",
        "    return 3*x**5 + 5*x**4 -1*x**3 +0*x**2 +0*x +0\n",
        "x = np.linspace(-75,75,100)\n",
        "y = Function(x)\n",
        "plt.plot(x,y)\n",
        "plt.axhline(y=0,color='r')\n"
      ],
      "metadata": {
        "colab": {
          "base_uri": "https://localhost:8080/",
          "height": 293
        },
        "id": "euj1-mOunPCz",
        "outputId": "6f5c485a-1bec-4478-aad2-bb57d0049759"
      },
      "execution_count": 103,
      "outputs": [
        {
          "output_type": "execute_result",
          "data": {
            "text/plain": [
              "<matplotlib.lines.Line2D at 0x7fb2a4d3e3d0>"
            ]
          },
          "metadata": {},
          "execution_count": 103
        },
        {
          "output_type": "display_data",
          "data": {
            "text/plain": [
              "<Figure size 432x288 with 1 Axes>"
            ],
            "image/png": "[encoded data removed]"
          },
          "metadata": {
            "needs_background": "light"
          }
        }
      ]
    },
    {
      "cell_type": "code",
      "source": [
        "def Derivative(f,x,h=1e-4):\n",
        "    return (f(x+h)-f(x-h))/(2*h)"
      ],
      "metadata": {
        "id": "_fdMYeOHwCsJ"
      },
      "execution_count": 104,
      "outputs": []
    },
    {
      "cell_type": "code",
      "source": [
        "def GetNewtonRaphson(f,df,xn,itmax = 10000000, precision=1e-5):\n",
        "    \n",
        "    error = 1\n",
        "    it = 0\n",
        "    \n",
        "    while error > precision and it <= itmax:\n",
        "        \n",
        "        try:\n",
        "            \n",
        "            xn1 = xn - f(xn)/df(f,xn)\n",
        "            \n",
        "            error = np.abs(f(xn)/df(f,xn))\n",
        "            \n",
        "            #print(error)\n",
        "            \n",
        "        except ZeroDivisionError:\n",
        "            \n",
        "            print('Division por cero')\n",
        "            \n",
        "        it += 1\n",
        "        xn = xn1\n",
        "    \n",
        "    if it == itmax:\n",
        "        False\n",
        "    else:\n",
        "        return xn"
      ],
      "metadata": {
        "id": "9mv452LpwgpM"
      },
      "execution_count": 105,
      "outputs": []
    },
    {
      "cell_type": "code",
      "source": [
        "x = GetNewtonRaphson(Function,Derivative,1)\n",
        "x"
      ],
      "metadata": {
        "colab": {
          "base_uri": "https://localhost:8080/"
        },
        "id": "t0iOG937oyss",
        "outputId": "e6609784-fc29-4466-8f31-7395adc8ca0f"
      },
      "execution_count": 106,
      "outputs": [
        {
          "output_type": "execute_result",
          "data": {
            "text/plain": [
              "0.18046042171640997"
            ]
          },
          "metadata": {},
          "execution_count": 106
        }
      ]
    },
    {
      "cell_type": "code",
      "source": [
        "def GetAllRoots(x,tolerancia=4):\n",
        "    \n",
        "    Roots = np.array([])\n",
        "    \n",
        "    for i in x:\n",
        "        \n",
        "        root = GetNewtonRaphson(Function,Derivative,i)\n",
        "        \n",
        "        if root != False:\n",
        "            \n",
        "            croot = np.round(root, tolerancia)\n",
        "            \n",
        "            if croot not in Roots:\n",
        "                Roots = np.append(Roots,croot)\n",
        "                \n",
        "    Roots.sort()\n",
        "        \n",
        "    return Roots"
      ],
      "metadata": {
        "id": "ha_BlyxBo1Ur"
      },
      "execution_count": 113,
      "outputs": []
    },
    {
      "cell_type": "code",
      "source": [
        "x = np.linspace(-75,75,100)\n",
        "Roots = GetAllRoots(x)"
      ],
      "metadata": {
        "id": "dwUUvgr_o47r"
      },
      "execution_count": 114,
      "outputs": []
    },
    {
      "cell_type": "code",
      "source": [
        "Roots"
      ],
      "metadata": {
        "colab": {
          "base_uri": "https://localhost:8080/"
        },
        "id": "obObDsP0o7jJ",
        "outputId": "f0d0fe45-cff1-446b-df1e-bc88ee08407a"
      },
      "execution_count": 115,
      "outputs": [
        {
          "output_type": "execute_result",
          "data": {
            "text/plain": [
              "array([-1.8471, -0.    ,  0.1805])"
            ]
          },
          "metadata": {},
          "execution_count": 115
        }
      ]
    }
  ]
}