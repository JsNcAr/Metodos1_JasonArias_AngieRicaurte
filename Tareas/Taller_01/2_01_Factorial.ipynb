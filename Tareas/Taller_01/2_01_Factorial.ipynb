{
  "cells": [
    {
      "cell_type": "markdown",
      "metadata": {
        "colab_type": "text",
        "id": "view-in-github"
      },
      "source": [
        "<a href=\"https://colab.research.google.com/github/JsNcAr/Metodos1_JasonArias_AngieRicaurte/blob/ramaALRR/Reto1_factorial.ipynb\" target=\"_parent\"><img src=\"https://colab.research.google.com/assets/colab-badge.svg\" alt=\"Open In Colab\"/></a>"
      ]
    },
    {
      "cell_type": "code",
      "execution_count": 1,
      "metadata": {
        "colab": {
          "base_uri": "https://localhost:8080/"
        },
        "id": "3rx1kRAcjlYG",
        "outputId": "69ec1b77-4c28-4abf-d125-9388f7919cc2"
      },
      "outputs": [],
      "source": [
        "mult_inicial=0"
      ]
    },
    {
      "cell_type": "code",
      "execution_count": 2,
      "metadata": {},
      "outputs": [],
      "source": [
        "def cal_factorial(n):\n",
        "    contador = (n - 1)\n",
        "    factorial = 1\n",
        "    mult_inicial = n\n",
        "    if n == 2:\n",
        "        factorial = 2\n",
        "    else:\n",
        "        while contador > 1 and mult_inicial > 1:\n",
        "            factorial *= (mult_inicial) * (mult_inicial - 1)\n",
        "            mult_inicial -= 2\n",
        "            contador -= 1\n",
        "    return factorial"
      ]
    },
    {
      "cell_type": "code",
      "execution_count": 3,
      "metadata": {},
      "outputs": [
        {
          "name": "stdout",
          "output_type": "stream",
          "text": [
            "El factorial de 1 es 1\n",
            "El factorial de 2 es 2\n",
            "El factorial de 3 es 6\n",
            "El factorial de 4 es 24\n",
            "El factorial de 5 es 120\n",
            "El factorial de 6 es 720\n",
            "El factorial de 7 es 5040\n",
            "El factorial de 8 es 40320\n",
            "El factorial de 9 es 362880\n",
            "El factorial de 10 es 3628800\n",
            "El factorial de 11 es 39916800\n",
            "El factorial de 12 es 479001600\n",
            "El factorial de 13 es 6227020800\n",
            "El factorial de 14 es 87178291200\n",
            "El factorial de 15 es 1307674368000\n",
            "El factorial de 16 es 20922789888000\n",
            "El factorial de 17 es 355687428096000\n",
            "El factorial de 18 es 6402373705728000\n",
            "El factorial de 19 es 121645100408832000\n",
            "El factorial de 20 es 2432902008176640000\n"
          ]
        }
      ],
      "source": [
        "factorials = [cal_factorial(i) for i in range(1, 21)]\n",
        "for i in range(1, 21):\n",
        "    print(f'El factorial de {i} es {factorials[i-1]}')"
      ]
    }
  ],
  "metadata": {
    "colab": {
      "authorship_tag": "ABX9TyNlN/bWWkq+rhOlR5p2PPp/",
      "include_colab_link": true,
      "provenance": []
    },
    "kernelspec": {
      "display_name": "Python 3",
      "language": "python",
      "name": "python3"
    },
    "language_info": {
      "codemirror_mode": {
        "name": "ipython",
        "version": 3
      },
      "file_extension": ".py",
      "mimetype": "text/x-python",
      "name": "python",
      "nbconvert_exporter": "python",
      "pygments_lexer": "ipython3",
      "version": "3.10.4"
    },
    "vscode": {
      "interpreter": {
        "hash": "3ad933181bd8a04b432d3370b9dc3b0662ad032c4dfaa4e4f1596c548f763858"
      }
    }
  },
  "nbformat": 4,
  "nbformat_minor": 0
}
