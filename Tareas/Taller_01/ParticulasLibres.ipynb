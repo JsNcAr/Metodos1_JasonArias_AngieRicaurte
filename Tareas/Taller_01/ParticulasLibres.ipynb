{
 "cells": [
  {
   "cell_type": "code",
   "execution_count": 1,
   "id": "a982a0a3",
   "metadata": {},
   "outputs": [],
   "source": [
    "import numpy as np\n",
    "import matplotlib.pyplot as plt\n",
    "import matplotlib.animation as anim\n",
    "from tqdm import tqdm\n",
    "from time import sleep"
   ]
  },
  {
   "cell_type": "code",
   "execution_count": 2,
   "id": "014375fb",
   "metadata": {},
   "outputs": [],
   "source": [
    "class Particle:\n",
    "\n",
    "    def __init__(self,r0,v0,a0,f0 ,t,m=1,radius=2,Id=0):\n",
    "\n",
    "        self.dt = t[1] - t[0]\n",
    "\n",
    "        self.r = r0\n",
    "        self.v = v0\n",
    "        self.a = a0\n",
    "        self.f = f0\n",
    "        self.m = m\n",
    "        self.Id = Id\n",
    "\n",
    "\n",
    "        self.R = np.zeros((len(t),len(r0)))\n",
    "        self.V = np.zeros_like(self.R)\n",
    "        self.A = np.zeros_like(self.R)\n",
    "        self.F = np.zeros_like(self.R)\n",
    "\n",
    "        self.radius = radius\n",
    "\n",
    "    def Contact_Force(self, other):\n",
    "        R1 = self.radius\n",
    "        R2 = other.radius\n",
    "        r1 = self.r\n",
    "        r2 = other.r\n",
    "        m = self.m\n",
    "        K = 1 / pow(m, 3)\n",
    "        n = r1 - r2\n",
    "        norm = np.linalg.norm(n)\n",
    "\n",
    "        if norm < R1 + R2:\n",
    "            return -K*pow(norm, 3) * n / norm\n",
    "        else:\n",
    "            return 0\n",
    "    \n",
    "    def Colition(self, other):\n",
    "        force = self.Contact_Force(other)\n",
    "        if np.isscalar(force) == False:\n",
    "            self.f = force\n",
    "            self.a = self.f/self.m\n",
    "        \n",
    "    def Evolution(self, i, other=None):\n",
    "\n",
    "        self.SetPosition(i)\n",
    "        self.SetVelocity(i)\n",
    "        self.SetAcceleration(i)\n",
    "        self.SetForce(i)\n",
    "\n",
    "        self.r += self.v*self.dt\n",
    "        self.v += self.a*self.dt\n",
    "        self.a = 0\n",
    "        self.f = 0\n",
    "\n",
    "    def SetPosition(self,i):\n",
    "        self.R[i] = self.r\n",
    "\n",
    "    def GetPosition(self,scale=1):\n",
    "        return self.R[::scale]\n",
    "\n",
    "    def SetVelocity(self,i):\n",
    "        self.V[i] = self.v\n",
    "\n",
    "    def GetVelocity(self,scale=1):\n",
    "        return self.V[::scale]\n",
    "\n",
    "    def SetAcceleration(self,i):\n",
    "        self.A[i] = self.a\n",
    "\n",
    "    def GetAcceleration(self,scale=1):\n",
    "        return self.A[::scale]\n",
    "\n",
    "    def SetForce(self,i):\n",
    "        self.F[i] = self.f\n",
    "\n",
    "    def GetForce(self,scale=1):\n",
    "        return self.F[::scale]\n",
    "\n",
    "    def CheckLimits(self,Limits):\n",
    "\n",
    "        for i in range(2):\n",
    "\n",
    "            if self.r[i] + self.radius > Limits[i][1] and self.v[i] > 0.:\n",
    "                self.v[i] = -1.0*self.v[i]\n",
    "            if self.r[i] - self.radius < Limits[i][0] and self.v[i] < 0.:\n",
    "                self.v[i] = -1.0*self.v[i]"
   ]
  },
  {
   "cell_type": "code",
   "execution_count": 3,
   "id": "68d8bb01",
   "metadata": {},
   "outputs": [],
   "source": [
    "def RunSimulation1(t,Wall):\n",
    "    \n",
    "    r0_1 = np.array([-15.,1.])\n",
    "    v0_1 = np.array([10.,0.])\n",
    "    a0_1 = np.array([0.,0.])\n",
    "    f0_1 = np.array([0.,0.])\n",
    "\n",
    "    r0_2 = np.array([0.,-1.5])\n",
    "    v0_2 = np.array([0.,0.])\n",
    "    a0_2 = np.array([0.,0.])\n",
    "    f0_2 = np.array([0.,0.])\n",
    "    \n",
    "    \n",
    "    p1 = Particle(r0_1, v0_1, a0_1, f0_1, t)\n",
    "    p2 = Particle(r0_2, v0_2, a0_2, f0_2, t)\n",
    "    \n",
    "    Wall_ = Wall.copy()\n",
    "    \n",
    "    \n",
    "    for it in tqdm(range(len(t)), desc='Running simulation', unit=' Steps'):\n",
    "        sleep(0.0001)\n",
    "        p1.Evolution(it, p2)\n",
    "        p2.Evolution(it, p1)\n",
    "        p1.CheckLimits(Wall_)\n",
    "        p2.CheckLimits(Wall_)\n",
    "        p1.Colition(p2)\n",
    "        p2.Colition(p1)\n",
    "    \n",
    "    return np.array([p1, p2])"
   ]
  },
  {
   "cell_type": "code",
   "execution_count": 4,
   "id": "8f519cb4",
   "metadata": {},
   "outputs": [
    {
     "data": {
      "text/plain": [
       "array([[-16.,  16.],\n",
       "       [-16.,  16.]])"
      ]
     },
     "execution_count": 4,
     "metadata": {},
     "output_type": "execute_result"
    }
   ],
   "source": [
    "# Region\n",
    "Limits = np.array([[-16.,16.],[-16.,16.]])\n",
    "Limits"
   ]
  },
  {
   "cell_type": "code",
   "execution_count": 5,
   "id": "319ab621",
   "metadata": {},
   "outputs": [
    {
     "name": "stderr",
     "output_type": "stream",
     "text": [
      "Running simulation: 100%|██████████| 200/200 [00:00<00:00, 4700.84 Steps/s]\n"
     ]
    }
   ],
   "source": [
    "dt = 0.05\n",
    "tmax = 10\n",
    "t = np.arange(0.,tmax,dt)\n",
    "Particles = RunSimulation1(t,Limits)"
   ]
  },
  {
   "cell_type": "code",
   "execution_count": 6,
   "id": "139f7cfe",
   "metadata": {},
   "outputs": [
    {
     "data": {
      "image/png": "[encoded data removed]",
      "text/plain": [
       "<Figure size 500x500 with 1 Axes>"
      ]
     },
     "metadata": {},
     "output_type": "display_data"
    }
   ],
   "source": [
    "scale = 1\n",
    "\n",
    "t = t[::scale]\n",
    "\n",
    "fig = plt.figure(figsize=(5, 5))\n",
    "ax = fig.add_subplot(111)\n",
    "\n",
    "\n",
    "def init():\n",
    "    ax.set_xlim(Limits[0][0], Limits[0][1])\n",
    "    ax.set_ylim(Limits[1][0], Limits[1][1])\n",
    "\n",
    "\n",
    "def Update(i):\n",
    "\n",
    "    ax.clear()\n",
    "    init()\n",
    "    ax.set_title(r'$ t=%.2f \\ s$' % (t[i]))\n",
    "\n",
    "    x1, x2 = Particles[0].GetPosition(scale)[i, 0], Particles[1].GetPosition(scale)[i, 0]\n",
    "    y1, y2 = Particles[0].GetPosition(scale)[i, 1], Particles[1].GetPosition(scale)[i, 1]\n",
    "    vx1, vx2 = Particles[0].GetVelocity(scale)[i, 0], Particles[1].GetVelocity(scale)[i, 0]\n",
    "    vy1, vy2 = Particles[0].GetVelocity(scale)[i, 1], Particles[1].GetVelocity(scale)[i, 1]\n",
    "    p1_radius, p2_radius = Particles[0].radius, Particles[1].radius\n",
    "\n",
    "    circle = plt.Circle((x1, y1), p1_radius, fill=True, color='k')\n",
    "    circle2 = plt.Circle((x2, y2), p2_radius, fill=True, color='k')\n",
    "    ax.add_patch(circle)\n",
    "    ax.add_patch(circle2)\n",
    "\n",
    "    ax.arrow(x1,\n",
    "             y1,\n",
    "             vx1,\n",
    "             vy1,\n",
    "             color='r',\n",
    "             head_width=0.2,\n",
    "             length_includes_head=True)\n",
    "    ax.arrow(x2,\n",
    "                y2,\n",
    "                vx2,\n",
    "                vy2,\n",
    "                color='r',\n",
    "                head_width=0.2,\n",
    "                length_includes_head=True)\n",
    "\n",
    "\n",
    "Animation = anim.FuncAnimation(fig, Update, frames=len(t), init_func=init)\n",
    "plt.show()\n"
   ]
  },
  {
   "cell_type": "code",
   "execution_count": 7,
   "id": "9890a629",
   "metadata": {},
   "outputs": [],
   "source": [
    "Writer = anim.writers['ffmpeg']\n",
    "fps = (1. / dt) / scale\n",
    "writer_ = Writer(fps=fps, metadata=dict(artist='Me'))\n",
    "Animation.save('Particula.mp4', writer=writer_)\n"
   ]
  }
 ],
 "metadata": {
  "kernelspec": {
   "display_name": "Python 3",
   "language": "python",
   "name": "python3"
  },
  "language_info": {
   "codemirror_mode": {
    "name": "ipython",
    "version": 3
   },
   "file_extension": ".py",
   "mimetype": "text/x-python",
   "name": "python",
   "nbconvert_exporter": "python",
   "pygments_lexer": "ipython3",
   "version": "3.10.4"
  },
  "vscode": {
   "interpreter": {
    "hash": "3ad933181bd8a04b432d3370b9dc3b0662ad032c4dfaa4e4f1596c548f763858"
   }
  }
 },
 "nbformat": 4,
 "nbformat_minor": 5
}
