{
 "cells": [
  {
   "cell_type": "code",
   "execution_count": 1,
   "id": "a982a0a3",
   "metadata": {},
   "outputs": [],
   "source": [
    "import numpy as np\n",
    "import matplotlib.pyplot as plt\n",
    "import matplotlib.animation as anim\n",
    "from tqdm import tqdm\n",
    "from time import sleep"
   ]
  },
  {
   "cell_type": "code",
   "execution_count": 2,
   "id": "014375fb",
   "metadata": {},
   "outputs": [],
   "source": [
    "class Particle:\n",
    "\n",
    "    def __init__(self,r0,v0,a0,t,m=1,radius=0.3,Id=0):\n",
    "\n",
    "        self.dt = t[1] - t[0]\n",
    "\n",
    "        self.r = r0\n",
    "        self.v = v0\n",
    "        self.a = a0\n",
    "\n",
    "        self.R = np.zeros((len(t),len(r0)))\n",
    "        self.V = np.zeros_like(self.R)\n",
    "        self.A = np.zeros_like(self.R)\n",
    "\n",
    "        self.radius = radius\n",
    "\n",
    "    def Contact_Force(self, other):\n",
    "        R1 = self.radius\n",
    "        R2 = other.radius\n",
    "        r1 = self.r\n",
    "        r2 = other.r\n",
    "        m = self.mass\n",
    "        K = 100 / pow(m, 3)\n",
    "        r_p = np.linalg.norm(r1 - r2)**3\n",
    "\n",
    "        if r_p < R1 + R2:\n",
    "            return K*r_p\n",
    "        else:\n",
    "            return 0\n",
    "\n",
    "    def Evolution(self, i, other=None):\n",
    "\n",
    "        self.SetPosition(i)\n",
    "        self.SetVelocity(i)\n",
    "        self.SetAcceleration(i)\n",
    "\n",
    "        if other != None and self.Contact_Force(self, other) != 0:\n",
    "            self.v += self.dt * self.Contact_Force(self, other)/self.mass\n",
    "            self.r += self.dt * self.v\n",
    "        else:\n",
    "            self.v += self.dt * self.a\n",
    "            self.r += self.dt * self.v\n",
    "\n",
    "    def SetPosition(self,i):\n",
    "        self.R[i] = self.r\n",
    "\n",
    "    def GetPosition(self,scale=1):\n",
    "        return self.R[::scale]\n",
    "\n",
    "    def SetVelocity(self,i):\n",
    "        self.V[i] = self.v\n",
    "\n",
    "    def GetVelocity(self,scale=1):\n",
    "        return self.V[::scale]\n",
    "\n",
    "    def SetAcceleration(self,i):\n",
    "        self.A[i] = self.a\n",
    "\n",
    "    def GetAcceleration(self,scale=1):\n",
    "        return self.A[::scale]\n",
    "\n",
    "    def CheckLimits(self,Limits):\n",
    "\n",
    "        for i in range(2):\n",
    "\n",
    "            if self.r[i] + self.radius > Limits[i][1] and self.v[i] > 0.:\n",
    "                self.v[i] = -1.0*self.v[i]\n",
    "            if self.r[i] - self.radius < Limits[i][0] and self.v[i] < 0.:\n",
    "                self.v[i] = -1.0*self.v[i]"
   ]
  },
  {
   "cell_type": "code",
   "execution_count": 3,
   "id": "68d8bb01",
   "metadata": {},
   "outputs": [],
   "source": [
    "def RunSimulation1(t,Wall):\n",
    "    \n",
    "    r0 = np.array([-15.,1.])\n",
    "    v0 = np.array([10.,0.])\n",
    "    a0 = np.array([0.,0.])\n",
    "    \n",
    "    \n",
    "    p1 = Particle(r0,v0,a0,t)\n",
    "    p2 = Particle(r0,v0,a0,t)\n",
    "    \n",
    "    Wall_ = Wall.copy()\n",
    "    \n",
    "    \n",
    "    for it in tqdm(range(len(t)), desc='Running simulation', unit=' Steps'):\n",
    "        sleep(0.0001)\n",
    "        p1.Evolution(it, p2)\n",
    "        p2.Evolution(it, p1)\n",
    "        p1.CheckLimits(Wall_)\n",
    "        p2.CheckLimits(Wall_)\n",
    "    \n",
    "    return p1"
   ]
  },
  {
   "cell_type": "code",
   "execution_count": 4,
   "id": "8f519cb4",
   "metadata": {},
   "outputs": [
    {
     "data": {
      "text/plain": [
       "array([[-5.,  5.],\n",
       "       [-5.,  5.]])"
      ]
     },
     "execution_count": 4,
     "metadata": {},
     "output_type": "execute_result"
    }
   ],
   "source": [
    "# Region\n",
    "Limits = np.array([[-5.,5.],[-5.,5.]])\n",
    "Limits"
   ]
  },
  {
   "cell_type": "code",
   "execution_count": 5,
   "id": "319ab621",
   "metadata": {},
   "outputs": [
    {
     "name": "stderr",
     "output_type": "stream",
     "text": [
      "Running simulation: 100%|██████████| 200/200 [00:00<00:00, 5095.86 Steps/s]\n"
     ]
    }
   ],
   "source": [
    "dt = 0.05\n",
    "tmax = 10\n",
    "t = np.arange(0.,tmax,dt)\n",
    "Particles = RunSimulation1(t,Limits)"
   ]
  }
 ],
 "metadata": {
  "kernelspec": {
   "display_name": "Python 3",
   "language": "python",
   "name": "python3"
  },
  "language_info": {
   "codemirror_mode": {
    "name": "ipython",
    "version": 3
   },
   "file_extension": ".py",
   "mimetype": "text/x-python",
   "name": "python",
   "nbconvert_exporter": "python",
   "pygments_lexer": "ipython3",
   "version": "3.10.4"
  },
  "vscode": {
   "interpreter": {
    "hash": "3ad933181bd8a04b432d3370b9dc3b0662ad032c4dfaa4e4f1596c548f763858"
   }
  }
 },
 "nbformat": 4,
 "nbformat_minor": 5
}
