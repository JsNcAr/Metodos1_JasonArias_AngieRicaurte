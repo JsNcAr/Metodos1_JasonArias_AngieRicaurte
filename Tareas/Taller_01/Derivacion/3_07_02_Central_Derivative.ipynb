{
 "cells": [
  {
   "cell_type": "code",
   "execution_count": 1,
   "metadata": {},
   "outputs": [],
   "source": [
    "import numpy as np\n",
    "import matplotlib.pyplot as plt"
   ]
  },
  {
   "cell_type": "code",
   "execution_count": 15,
   "metadata": {},
   "outputs": [],
   "source": [
    "def central_derivative(f, x, h):\n",
    "    return (f(x+h) - f(x-h))/(2*h)"
   ]
  },
  {
   "cell_type": "code",
   "execution_count": 18,
   "metadata": {},
   "outputs": [
    {
     "ename": "TypeError",
     "evalue": "'int' object is not iterable",
     "output_type": "error",
     "traceback": [
      "\u001b[0;31m---------------------------------------------------------------------------\u001b[0m",
      "\u001b[0;31mTypeError\u001b[0m                                 Traceback (most recent call last)",
      "Cell \u001b[0;32mIn[18], line 9\u001b[0m\n\u001b[1;32m      5\u001b[0m     \u001b[39mfor\u001b[39;00m var \u001b[39min\u001b[39;00m \u001b[39mlen\u001b[39m(x):\n\u001b[1;32m      6\u001b[0m         \u001b[39mreturn\u001b[39;00m Y[var]\n\u001b[0;32m----> 9\u001b[0m d_fx \u001b[39m=\u001b[39m central_derivative(f, X, \u001b[39m0.1\u001b[39;49m)\n\u001b[1;32m     10\u001b[0m \u001b[39mprint\u001b[39m(d_fx)\n",
      "Cell \u001b[0;32mIn[15], line 2\u001b[0m, in \u001b[0;36mcentral_derivative\u001b[0;34m(f, x, h)\u001b[0m\n\u001b[1;32m      1\u001b[0m \u001b[39mdef\u001b[39;00m \u001b[39mcentral_derivative\u001b[39m(f, x, h):\n\u001b[0;32m----> 2\u001b[0m     \u001b[39mreturn\u001b[39;00m (f(x\u001b[39m+\u001b[39;49mh) \u001b[39m-\u001b[39m f(x\u001b[39m-\u001b[39mh))\u001b[39m/\u001b[39m(\u001b[39m2\u001b[39m\u001b[39m*\u001b[39mh)\n",
      "Cell \u001b[0;32mIn[18], line 5\u001b[0m, in \u001b[0;36mf\u001b[0;34m(x)\u001b[0m\n\u001b[1;32m      4\u001b[0m \u001b[39mdef\u001b[39;00m \u001b[39mf\u001b[39m(x):\n\u001b[0;32m----> 5\u001b[0m     \u001b[39mfor\u001b[39;00m var \u001b[39min\u001b[39;00m \u001b[39mlen\u001b[39m(x):\n\u001b[1;32m      6\u001b[0m         \u001b[39mreturn\u001b[39;00m Y[var]\n",
      "\u001b[0;31mTypeError\u001b[0m: 'int' object is not iterable"
     ]
    }
   ],
   "source": [
    "Y = np.linspace(0, 2*np.pi, 100)\n",
    "X = np.linspace(0, 200, 100)\n",
    "\n",
    "def f(x):\n",
    "    for var in len(x):\n",
    "        return Y[var]\n",
    "\n",
    "\n",
    "d_fx = central_derivative(f, X, 0.1)\n",
    "print(d_fx)"
   ]
  },
  {
   "cell_type": "code",
   "execution_count": 13,
   "metadata": {},
   "outputs": [
    {
     "ename": "AttributeError",
     "evalue": "'numpy.ndarray' object has no attribute 'index'",
     "output_type": "error",
     "traceback": [
      "\u001b[0;31m---------------------------------------------------------------------------\u001b[0m",
      "\u001b[0;31mAttributeError\u001b[0m                            Traceback (most recent call last)",
      "Cell \u001b[0;32mIn[13], line 1\u001b[0m\n\u001b[0;32m----> 1\u001b[0m d_fx \u001b[39m=\u001b[39m central_derivative(f, X, \u001b[39m0.1\u001b[39;49m)\n\u001b[1;32m      2\u001b[0m \u001b[39mprint\u001b[39m(d_fx)\n",
      "Cell \u001b[0;32mIn[2], line 2\u001b[0m, in \u001b[0;36mcentral_derivative\u001b[0;34m(f, x, h)\u001b[0m\n\u001b[1;32m      1\u001b[0m \u001b[39mdef\u001b[39;00m \u001b[39mcentral_derivative\u001b[39m(f, x, h):\n\u001b[0;32m----> 2\u001b[0m     \u001b[39mreturn\u001b[39;00m (f(x\u001b[39m+\u001b[39;49mh) \u001b[39m-\u001b[39m f(x\u001b[39m-\u001b[39mh))\u001b[39m/\u001b[39m(\u001b[39m2\u001b[39m\u001b[39m*\u001b[39mh)\n",
      "Cell \u001b[0;32mIn[12], line 4\u001b[0m, in \u001b[0;36m<lambda>\u001b[0;34m(x)\u001b[0m\n\u001b[1;32m      1\u001b[0m Y \u001b[39m=\u001b[39m np\u001b[39m.\u001b[39mlinspace(\u001b[39m0\u001b[39m, \u001b[39m2\u001b[39m\u001b[39m*\u001b[39mnp\u001b[39m.\u001b[39mpi, \u001b[39m100\u001b[39m)\n\u001b[1;32m      2\u001b[0m X \u001b[39m=\u001b[39m np\u001b[39m.\u001b[39mlinspace(\u001b[39m0\u001b[39m, \u001b[39m200\u001b[39m, \u001b[39m100\u001b[39m)\n\u001b[0;32m----> 4\u001b[0m f \u001b[39m=\u001b[39m \u001b[39mlambda\u001b[39;00m x: X\u001b[39m.\u001b[39;49mindex(x)\n",
      "\u001b[0;31mAttributeError\u001b[0m: 'numpy.ndarray' object has no attribute 'index'"
     ]
    }
   ],
   "source": [
    "d_fx = central_derivative(f, X, 0.1)\n",
    "print(d_fx)"
   ]
  },
  {
   "cell_type": "code",
   "execution_count": 10,
   "metadata": {},
   "outputs": [
    {
     "name": "stdout",
     "output_type": "stream",
     "text": [
      "[ 0.84147098 -0.36556051 -0.52384985  0.82071302 -0.18923538 -0.65629385\n",
      "  0.75946327 -0.00357389 -0.75635806  0.66074363  0.18226394 -0.81910558\n",
      "  0.52942466  0.35910934 -0.84144063  0.37198529  0.51823725 -0.82226124\n",
      "  0.19619317  0.65179672 -0.76251368  0.0107214   0.75319828 -0.66514573\n",
      " -0.17527934  0.81743905 -0.53496126 -0.35263226  0.84134956 -0.37838324\n",
      " -0.51258725  0.82375013 -0.2031368  -0.64725256  0.76550907 -0.01786814\n",
      " -0.74998415  0.66949984  0.1682821  -0.81571352  0.54045927  0.34612974\n",
      " -0.84119778  0.38475389  0.50690027 -0.82517958  0.21006578  0.64266169\n",
      " -0.76844922  0.02501359  0.7467159  -0.67380564 -0.16127271  0.81392915\n",
      " -0.54591828 -0.33960225  0.8409853  -0.39109677 -0.50117671  0.82654949\n",
      " -0.2169796  -0.63802446  0.77133393 -0.03215723 -0.74339378  0.67806282\n",
      "  0.15425169 -0.81208604  0.5513379   0.33305025 -0.84071215  0.39741144\n",
      "  0.49541699 -0.82785976  0.22387776  0.63334119 -0.77416299  0.03929855\n",
      "  0.74001802 -0.68227108 -0.14721954  0.81018434 -0.55671774 -0.32647422\n",
      "  0.84037833 -0.40369743 -0.48962153  0.8291103  -0.23075977 -0.62861222\n",
      "  0.77693618 -0.04643704 -0.73658886  0.68643011  0.14017677 -0.80822418\n",
      "  0.5620574   0.31987463 -0.83998388  0.40995429]\n"
     ]
    }
   ],
   "source": [
    "A = np.linspace(0, 200, 100)\n",
    "B = lambda x: np.sin(x)\n",
    "\n",
    "der = central_derivative(B, A, 1)\n",
    "print(der)"
   ]
  }
 ],
 "metadata": {
  "kernelspec": {
   "display_name": "Python 3",
   "language": "python",
   "name": "python3"
  },
  "language_info": {
   "codemirror_mode": {
    "name": "ipython",
    "version": 3
   },
   "file_extension": ".py",
   "mimetype": "text/x-python",
   "name": "python",
   "nbconvert_exporter": "python",
   "pygments_lexer": "ipython3",
   "version": "3.10.4"
  },
  "orig_nbformat": 4,
  "vscode": {
   "interpreter": {
    "hash": "3ad933181bd8a04b432d3370b9dc3b0662ad032c4dfaa4e4f1596c548f763858"
   }
  }
 },
 "nbformat": 4,
 "nbformat_minor": 2
}
