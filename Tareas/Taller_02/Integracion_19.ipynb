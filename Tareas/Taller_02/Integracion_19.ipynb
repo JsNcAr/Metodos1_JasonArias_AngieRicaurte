{
 "cells": [
  {
   "cell_type": "code",
   "execution_count": 12,
   "metadata": {},
   "outputs": [],
   "source": [
    "import numpy as np\n",
    "import matplotlib.pyplot as plt\n",
    "from scipy.constants import Boltzmann as kB"
   ]
  },
  {
   "cell_type": "code",
   "execution_count": 13,
   "metadata": {},
   "outputs": [],
   "source": [
    "def ecuacion_banda_prohibida(x,T,Td=300):\n",
    "    sqr = np.sqrt(pow(x, 2) + pow(dT, 2))\n",
    "    num = np.tanh(sqr*Td/(2*T))\n",
    "    return num/sqr"
   ]
  },
  {
   "cell_type": "code",
   "execution_count": 14,
   "metadata": {},
   "outputs": [],
   "source": [
    "X = np.array([-np.sqrt(1 / 3), np.sqrt(1 / 3)])\n",
    "W = np.array([1, 1])\n",
    "\n",
    "\n",
    "def gauss_legendre_integrate(f, X, W, T):\n",
    "    sum = 0\n",
    "    for i in range(len(X)):\n",
    "        sum += W[i] * f(X[i], T)\n",
    "    return sum\n",
    "\n"
   ]
  },
  {
   "cell_type": "code",
   "execution_count": 19,
   "metadata": {},
   "outputs": [],
   "source": [
    "def search_temperature(f, X, W, Td=300):\n",
    "    T = np.arange(1, 20, 1e-4)\n",
    "    for T_ in T:\n",
    "        dT = 300*kB*T_\n",
    "        I = gauss_legendre_integrate(f, X, W, T_)/2\n",
    "        if abs(I - 1 / 0.3) < 1e-3:\n",
    "            print(\"entered\")\n",
    "            return T_\n",
    "    return None"
   ]
  },
  {
   "cell_type": "code",
   "execution_count": 16,
   "metadata": {},
   "outputs": [],
   "source": [
    "def list_temperatures(f, X, W, Td=300):\n",
    "    T = np.arange(1, 20, 1e-4)\n",
    "    I = []\n",
    "    for T_ in T:\n",
    "        I.append(gauss_legendre_integrate(f, X, W, T_)/2)\n",
    "    return I"
   ]
  },
  {
   "cell_type": "code",
   "execution_count": 22,
   "metadata": {},
   "outputs": [
    {
     "name": "stdout",
     "output_type": "stream",
     "text": [
      "1.731450469331234 1.7320508075688774\n"
     ]
    }
   ],
   "source": [
    "I = list_temperatures(ecuacion_banda_prohibida, X, W)\n",
    "print(min(I), max(I))"
   ]
  }
 ],
 "metadata": {
  "kernelspec": {
   "display_name": "base",
   "language": "python",
   "name": "python3"
  },
  "language_info": {
   "codemirror_mode": {
    "name": "ipython",
    "version": 3
   },
   "file_extension": ".py",
   "mimetype": "text/x-python",
   "name": "python",
   "nbconvert_exporter": "python",
   "pygments_lexer": "ipython3",
   "version": "3.9.13"
  },
  "orig_nbformat": 4,
  "vscode": {
   "interpreter": {
    "hash": "b3ff5c1b5424807e928bf8bee38bc8a3478b3941c229b42d5add67274bc7395e"
   }
  }
 },
 "nbformat": 4,
 "nbformat_minor": 2
}
