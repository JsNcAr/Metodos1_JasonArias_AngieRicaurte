{
  "nbformat": 4,
  "nbformat_minor": 0,
  "metadata": {
    "colab": {
      "provenance": [],
      "authorship_tag": "ABX9TyM0/TzEqifTKj0VqXGcV5Im",
      "include_colab_link": true
    },
    "kernelspec": {
      "name": "python3",
      "display_name": "Python 3"
    },
    "language_info": {
      "name": "python"
    }
  },
  "cells": [
    {
      "cell_type": "markdown",
      "metadata": {
        "id": "view-in-github",
        "colab_type": "text"
      },
      "source": [
        "<a href=\"https://colab.research.google.com/github/JsNcAr/Metodos1_JasonArias_AngieRicaurte/blob/ramaALRR/Integracion_Ejercicio18.ipynb\" target=\"_parent\"><img src=\"https://colab.research.google.com/assets/colab-badge.svg\" alt=\"Open In Colab\"/></a>"
      ]
    },
    {
      "cell_type": "code",
      "execution_count": 94,
      "metadata": {
        "colab": {
          "base_uri": "https://localhost:8080/"
        },
        "id": "wWjgsI0mCOaw",
        "outputId": "e50ddbee-4d4d-47ca-c4d5-71ec62bb25f9"
      },
      "outputs": [
        {
          "output_type": "stream",
          "name": "stdout",
          "text": [
            "[array([], dtype=float64), array([0.70710678]), array([1.22474487]), array([1.65068012]), array([2.02018287]), array([2.35060497]), array([2.65196136]), array([2.93063742]), array([3.1909932]), array([3.43615912]), array([3.66847085]), array([3.8897249]), array([4.1013376]), array([4.30444857]), array([4.49999071]), array([4.68873894]), array([4.87134519]), array([5.04836401]), array([5.22027169]), array([5.38748089])]\n",
            "<function pesos at 0x7f909d6fee50>\n",
            "(0.008418146349617187, 5.679220571118395e-09)\n"
          ]
        }
      ],
      "source": [
        "import numpy as np\n",
        "import sympy as sym\n",
        "from scipy import integrate\n",
        "x=sym.Symbol('x')\n",
        "def Function(x, n):\n",
        "  return ((-1)**n)*sym.exp(x**2)*(sym.diff(sym.exp(-x**2),x,n))\n",
        "\n",
        "def GetNewtonRaphson(f,df,xn,n,itmax = 100, precision=1e-5):\n",
        "    \n",
        "    error = 1\n",
        "    it = 0\n",
        "    \n",
        "    while error > precision and it <= itmax:\n",
        "        \n",
        "        try:\n",
        "            \n",
        "            xn1 = xn - f(xn)/df(xn)\n",
        "            \n",
        "            error = np.abs(f(xn)/df(xn))\n",
        "            \n",
        "            #print(error)\n",
        "            \n",
        "        except ZeroDivisionError:\n",
        "            \n",
        "            print('Division por cero')\n",
        "            \n",
        "        it += 1\n",
        "        xn = xn1\n",
        "    \n",
        "    if it == itmax:\n",
        "        False\n",
        "    else:\n",
        "        return xn\n",
        "def GetAllRoots(x, x_n,f,tolerancia=8):\n",
        "    \n",
        "    Roots = np.array([])\n",
        "    function = sym.lambdify([x],f)\n",
        "    dfunc = sym.diff(f,x,1)\n",
        "    derivative = sym.lambdify([x],dfunc)\n",
        "    \n",
        "    for i in x_n:\n",
        "        \n",
        "        root = GetNewtonRaphson(function,derivative,n,i)\n",
        "        \n",
        "        if root != False:\n",
        "            \n",
        "            croot = np.round(root, tolerancia)\n",
        "            \n",
        "            if croot not in Roots:\n",
        "                Roots = np.append(Roots,croot)\n",
        "                \n",
        "    Roots.sort()\n",
        "        \n",
        "    return Roots\n",
        "def pesos(f,n,x):\n",
        "  H=Function(x, n-1)\n",
        "  peso=((2**(n-1))*(np.math.factorial(n))*((np.pi)**(1/2)))/(n**2 *H*(x**2))\n",
        "  return peso\n",
        "numeros = np.arange(1, 21, 1)\n",
        "\n",
        "ceros=[]\n",
        "W=[]\n",
        "for n in numeros:\n",
        "  n=int(n)\n",
        "  x=sym.Symbol('x')\n",
        "  x_n= np.linspace(-1,1,100)\n",
        "  y = Function(x, n)\n",
        "  Roots = GetAllRoots(x, x_n,y)\n",
        "  ceros.append(Roots)\n",
        "  p=pesos(y,n,x)\n",
        "  W.append(p)\n",
        "print(ceros)\n",
        "print(pesos)\n",
        "#Parte b\n",
        "x=np.linspace(-1,1,100)\n",
        "def formula(x,n=1):\n",
        "  return 1/(2**n *(np.sqrt(np.math.factorial(n))))*((1/(np.pi))**1/4)*(np.exp((-x**2)/2))*(2*x)\n",
        "def funcion_integral(x):\n",
        "  f=formula(x)\n",
        "  return ((np.abs(f))**2)*(x**2)\n",
        "x_ini=-(np.inf)\n",
        "x_fin=np.inf\n",
        "integral=integrate.quad(funcion_integral,x_ini,x_fin)\n",
        "print(integral)"
      ]
    }
  ]
}