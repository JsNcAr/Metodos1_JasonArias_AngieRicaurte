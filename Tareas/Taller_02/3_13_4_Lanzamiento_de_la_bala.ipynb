{
  "cells": [
    {
      "cell_type": "markdown",
      "metadata": {
        "colab_type": "text",
        "id": "view-in-github"
      },
      "source": [
        "<a href=\"https://colab.research.google.com/github/JsNcAr/Metodos1_JasonArias_AngieRicaurte/blob/ramaALRR/Lanzamiento_de_la_bala_Ejercicio_4_interpolacion_Lagrange.ipynb\" target=\"_parent\"><img src=\"https://colab.research.google.com/assets/colab-badge.svg\" alt=\"Open In Colab\"/></a>"
      ]
    },
    {
      "cell_type": "code",
      "execution_count": 1,
      "metadata": {
        "id": "uDDiBlP2vycv"
      },
      "outputs": [],
      "source": [
        "import numpy as np\n",
        "import matplotlib.pyplot as plt\n",
        "from matplotlib import rc\n",
        "import urllib.request\n",
        "from operator import length_hint\n",
        "import sympy as sym"
      ]
    },
    {
      "cell_type": "code",
      "execution_count": 2,
      "metadata": {
        "colab": {
          "base_uri": "https://localhost:8080/",
          "height": 287
        },
        "id": "6uLv0VjWxXt7",
        "outputId": "af94b07c-da96-4b5f-d9a4-a2b58e35d2aa"
      },
      "outputs": [],
      "source": [
        "url = \"https://raw.githubusercontent.com/asegura4488/Database/main/MetodosComputacionalesReforma/Parabolico.csv\"\n",
        "filename = \"Posiciones.csv\"\n",
        "urllib.request.urlretrieve(url, filename)\n",
        "data = np.loadtxt(filename, dtype=float, skiprows=1, delimiter=\",\")\n"
      ]
    },
    {
      "cell_type": "code",
      "execution_count": 3,
      "metadata": {},
      "outputs": [],
      "source": [
        "X = data[:, 0]\n",
        "Y = data[:, 1]\n"
      ]
    },
    {
      "cell_type": "code",
      "execution_count": 4,
      "metadata": {},
      "outputs": [],
      "source": [
        "def Lagrange(x, xi, j):\n",
        "\n",
        "    prod = 1.0\n",
        "    n = len(xi)\n",
        "\n",
        "    for i in range(n):\n",
        "        if i != j:\n",
        "            prod *= (x - xi[i]) / (xi[j] - xi[i])\n",
        "\n",
        "    return prod\n",
        "\n",
        "\n",
        "def Interpolate(x, xi, yi):\n",
        "\n",
        "    Sum = 0.\n",
        "    n = len(xi)\n",
        "\n",
        "    for j in range(n):\n",
        "        Sum += yi[j] * Lagrange(x, xi, j)\n",
        "\n",
        "    return Sum"
      ]
    },
    {
      "cell_type": "code",
      "execution_count": 5,
      "metadata": {},
      "outputs": [
        {
          "data": {
            "image/png": "[encoded data removed]",
            "text/plain": [
              "<Figure size 640x480 with 1 Axes>"
            ]
          },
          "metadata": {},
          "output_type": "display_data"
        }
      ],
      "source": [
        "x = np.linspace(X[0] - 1, X[-1] + 1, 100)\n",
        "y = Interpolate(x, X, Y)\n",
        "\n",
        "for i in range(len(X)):\n",
        "    plt.scatter(X[i], Y[i], c=\"red\")\n",
        "plt.plot(x, y)\n",
        "plt.xlabel(\"x\")\n",
        "plt.ylabel(\"y\")\n",
        "plt.title(\"Lanzamiento de la bala\")\n",
        "plt.show()"
      ]
    },
    {
      "cell_type": "code",
      "execution_count": 6,
      "metadata": {},
      "outputs": [
        {
          "data": {
            "text/latex": [
              "$\\displaystyle x \\left(0.363970234266202 - 0.0554912422401579 x\\right)$"
            ],
            "text/plain": [
              "x*(0.363970234266202 - 0.0554912422401579*x)"
            ]
          },
          "execution_count": 6,
          "metadata": {},
          "output_type": "execute_result"
        }
      ],
      "source": [
        "x_inicial = x[0]\n",
        "y_inicial = y[0]\n",
        "\n",
        "x = sym.Symbol('x', real=True)\n",
        "\n",
        "f = Interpolate(x, X, Y)\n",
        "f = sym.simplify(f)\n",
        "f\n"
      ]
    },
    {
      "attachments": {},
      "cell_type": "markdown",
      "metadata": {
        "id": "hwM8VmxfF1w_"
      },
      "source": [
        "Si ahora comparamos la función resultante de la interpolación con la ecuación de trayectoria de la bala, nos podemos dar cuenta de ciertas similitudes en los coeficientes:\n",
        "\n",
        "$$ y = \\tan(θ)x-\\frac{gx^2}{2v^2cos(θ)^2}$$\n",
        "\n",
        "Así, vemos que tan(θ) es 0.364, lo cual coincide con el resultado de tan(20°), por tanto, θ es 20. Luego,a partir de esa relación podemos obtener la velocidad de la siguiente manera:\n",
        "\n",
        "$$ −0.0555x^2 = -\\frac{gx^2}{2v^2cos(θ)^2} $$\n",
        "\n",
        "$$ v= \\sqrt{\\frac{g}{(0.0555*2*cos(θ)^2)}} $$\n",
        "\n"
      ]
    },
    {
      "cell_type": "code",
      "execution_count": 7,
      "metadata": {
        "colab": {
          "base_uri": "https://localhost:8080/"
        },
        "id": "erVeUSuv9xaI",
        "outputId": "2c984ec9-d89a-4cec-8e0d-4e178b924ed7"
      },
      "outputs": [
        {
          "name": "stdout",
          "output_type": "stream",
          "text": [
            "La velocidad inicial es: 9.999 m/s\n"
          ]
        }
      ],
      "source": [
        "velocidad = np.sqrt(9.8 / (0.0555 * 2 * (np.cos(np.pi / 9)**2)))\n",
        "print(f'La velocidad inicial es: {round(velocidad,3)} m/s')"
      ]
    }
  ],
  "metadata": {
    "colab": {
      "authorship_tag": "ABX9TyNJyPr0JbjT4pOsedwUVvDN",
      "include_colab_link": true,
      "provenance": []
    },
    "kernelspec": {
      "display_name": "base",
      "language": "python",
      "name": "python3"
    },
    "language_info": {
      "codemirror_mode": {
        "name": "ipython",
        "version": 3
      },
      "file_extension": ".py",
      "mimetype": "text/x-python",
      "name": "python",
      "nbconvert_exporter": "python",
      "pygments_lexer": "ipython3",
      "version": "3.9.13"
    },
    "vscode": {
      "interpreter": {
        "hash": "b3ff5c1b5424807e928bf8bee38bc8a3478b3941c229b42d5add67274bc7395e"
      }
    }
  },
  "nbformat": 4,
  "nbformat_minor": 0
}
