{
  "cells": [
    {
      "cell_type": "markdown",
      "metadata": {
        "colab_type": "text",
        "id": "view-in-github"
      },
      "source": [
        "<a href=\"https://colab.research.google.com/github/JsNcAr/Metodos1_JasonArias_AngieRicaurte/blob/main/(Correcion)Raices_de_polinomios__Ejercicio_5.ipynb\" target=\"_parent\"><img src=\"https://colab.research.google.com/assets/colab-badge.svg\" alt=\"Open In Colab\"/></a>"
      ]
    },
    {
      "cell_type": "code",
      "execution_count": 1,
      "metadata": {
        "id": "F_BdrogQpSku"
      },
      "outputs": [],
      "source": [
        "import numpy as np\n",
        "import sympy as sym"
      ]
    },
    {
      "cell_type": "code",
      "execution_count": 2,
      "metadata": {
        "colab": {
          "base_uri": "https://localhost:8080/"
        },
        "id": "oMN0fASPpbZw",
        "outputId": "3f8d145d-34b2-443b-8ac5-03458aaf1dd5"
      },
      "outputs": [],
      "source": [
        "numeros = np.linspace(1, 20, 20)\n",
        "x = sym.Symbol('x')\n",
        "raices_finales = []"
      ]
    },
    {
      "cell_type": "code",
      "execution_count": 3,
      "metadata": {},
      "outputs": [],
      "source": [
        "def function(x, n):\n",
        "    d = sym.diff((sym.exp(-x) * x**n), x, n)\n",
        "    factorial = np.math.factorial(n)\n",
        "    formula = (sym.exp(x) * d) / factorial\n",
        "    return formula"
      ]
    },
    {
      "cell_type": "code",
      "execution_count": 4,
      "metadata": {},
      "outputs": [
        {
          "name": "stdout",
          "output_type": "stream",
          "text": [
            "L_1: [1.00000000000000] \n",
            "\n",
            "L_2: [0.586, 3.414] \n",
            "\n",
            "L_3: [0.416, 2.294, 6.290] \n",
            "\n",
            "L_4: [0.323, 1.746, 4.537, 9.395] \n",
            "\n",
            "L_5: [0.264, 1.413, 3.596, 7.086, 12.641] \n",
            "\n",
            "L_6: [0.223, 1.189, 2.993, 5.775, 9.837, 15.983] \n",
            "\n",
            "L_7: [0.193, 1.027, 2.568, 4.900, 8.182, 12.734, 19.396] \n",
            "\n",
            "L_8: [0.170, 0.904, 2.251, 4.267, 7.046, 10.759, 15.741, 22.863] \n",
            "\n",
            "L_9: [0.152, 0.807, 2.005, 3.783, 6.205, 9.373, 13.466, 18.834, 26.374] \n",
            "\n",
            "L_10: [0.138, 0.729, 1.808, 3.401, 5.552, 8.330, 11.844, 16.279, 21.997, 29.921] \n",
            "\n",
            "L_11: [0.126, 0.665, 1.647, 3.091, 5.029, 7.510, 10.606, 14.432, 19.179, 25.218, 33.497] \n",
            "\n",
            "L_12: [0.116, 0.612, 1.513, 2.834, 4.599, 6.845, 9.621, 13.006, 17.117, 22.151, 28.488, 37.099] \n",
            "\n",
            "L_13: [0.107, 0.566, 1.399, 2.617, 4.239, 6.292, 8.815, 11.861, 15.511, 19.885, 25.185, 31.800, 40.723] \n",
            "\n",
            "L_14: [0.10, 0.527, 1.301, 2.431, 3.932, 5.826, 8.140, 10.916, 14.211, 18.105, 22.723, 28.273, 35.149, 44.366] \n",
            "\n",
            "L_15: [0.093, 0.493, 1.216, 2.270, 3.668, 5.425, 7.566, 10.120, 13.130, 16.654, 20.776, 25.624, 31.408, 38.531, 48.026] \n",
            "\n",
            "L_16: [0.088, 0.463, 1.141, 2.129, 3.437, 5.078, 7.070, 9.438, 12.214, 15.442, 19.180, 23.516, 28.579, 34.583, 41.940, 51.701] \n",
            "\n",
            "L_17: [0.083, 0.436, 1.075, 2.005, 3.234, 4.774, 6.638, 8.847, 11.426, 14.408, 17.838, 21.778, 26.315, 31.582, 37.796, 45.376, 55.390] \n",
            "\n",
            "L_18: [0.078, 0.412, 1.017, 1.895, 3.054, 4.504, 6.257, 8.328, 10.738, 13.514, 16.689, 20.311, 24.441, 29.168, 34.628, 41.042, 48.834, 59.091] \n",
            "\n",
            "L_19: [0.074, 0.391, 0.964, 1.796, 2.894, 4.264, 5.918, 7.869, 10.132, 12.731, 15.691, 19.049, 22.851, 27.161, 32.069, 37.713, 44.317, 52.313, 62.802] \n",
            "\n",
            "L_20: [0.071, 0.372, 0.917, 1.707, 2.749, 4.049, 5.615, 7.459, 9.594, 12.039, 14.814, 17.949, 21.479, 25.452, 29.933, 35.013, 40.833, 47.620, 55.811, 66.524] \n",
            "\n"
          ]
        }
      ],
      "source": [
        "for i in numeros:\n",
        "    n = int(i)\n",
        "    polinomio = function(x, n)\n",
        "    raices = sym.real_roots(polinomio)\n",
        "    raices_decimales = [round(raiz.evalf(),3) for raiz in raices]\n",
        "    print(f'L_{n}: {raices_decimales} \\n')\n",
        "    raices_finales.append(raices_decimales)\n",
        "\n",
        "resultado = raices_finales"
      ]
    }
  ],
  "metadata": {
    "colab": {
      "authorship_tag": "ABX9TyNTc+xGXBFzgGTVk4HlT4ob",
      "include_colab_link": true,
      "provenance": []
    },
    "kernelspec": {
      "display_name": "base",
      "language": "python",
      "name": "python3"
    },
    "language_info": {
      "codemirror_mode": {
        "name": "ipython",
        "version": 3
      },
      "file_extension": ".py",
      "mimetype": "text/x-python",
      "name": "python",
      "nbconvert_exporter": "python",
      "pygments_lexer": "ipython3",
      "version": "3.9.13"
    },
    "vscode": {
      "interpreter": {
        "hash": "b3ff5c1b5424807e928bf8bee38bc8a3478b3941c229b42d5add67274bc7395e"
      }
    }
  },
  "nbformat": 4,
  "nbformat_minor": 0
}
