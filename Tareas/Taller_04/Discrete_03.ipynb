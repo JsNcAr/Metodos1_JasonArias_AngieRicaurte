{
  "cells": [
    {
      "attachments": {},
      "cell_type": "markdown",
      "metadata": {
        "colab_type": "text",
        "id": "view-in-github"
      },
      "source": [
        "<a href=\"https://colab.research.google.com/github/JsNcAr/Metodos1_JasonArias_AngieRicaurte/blob/ramaALRR/Ejercicio_3_Discretizacion.ipynb\" target=\"_parent\"><img src=\"https://colab.research.google.com/assets/colab-badge.svg\" alt=\"Open In Colab\"/></a>"
      ]
    },
    {
      "attachments": {},
      "cell_type": "markdown",
      "metadata": {},
      "source": [
        "Un embarque de 10 microchips similares que se envía a distribución tiene 3 aparatos defectuosos. Si una empresa realiza una compra aleatoria de 2 de estos microchips:\n",
        "\n",
        "a) Muestre la distribución de probabilidad del número de microchips defectuosos\n",
        "$$ f(x) = \\frac{{\\binom{7}{2-x} \\cdot \\binom{3}{x}}}{{\\binom{10}{2}}} $$\n",
        "\n",
        "| x | P(X = x)  |\n",
        "|---|----------|\n",
        "| 0 | 7/15     |\n",
        "| 1 | 7/15     |\n",
        "| 2 | 1/15     |\n",
        "\n",
        "Tabla 6.3: Distribución de probabilidad del número de microchips defectuosos.\n",
        "\n",
        "b) ¿Cuál es el valor esperado de microchips defectuosos? Respuesta: ˆμ = 3/5 = 0.6"
      ]
    },
    {
      "cell_type": "markdown",
      "metadata": {},
      "source": [
        "## Solucion"
      ]
    },
    {
      "cell_type": "code",
      "execution_count": 1,
      "metadata": {},
      "outputs": [],
      "source": [
        "import numpy as np\n",
        "from scipy import integrate"
      ]
    },
    {
      "attachments": {},
      "cell_type": "markdown",
      "metadata": {
        "id": "yfurU4zGTAqK"
      },
      "source": [
        "a) Basandonos en la distribución binomial podemos escribir la distribución de probabilidad como una función en términos de x, donde tenemos la cantidad de microchips en buen estado por la cantidad de microchips defectuosos y ya normalizada queda asi:\n",
        "$$ f(x) = \\frac{{\\binom{7}{2-x} \\cdot \\binom{3}{x}}}{{\\binom{10}{2}}} $$"
      ]
    },
    {
      "cell_type": "markdown",
      "metadata": {},
      "source": [
        "b)"
      ]
    },
    {
      "cell_type": "code",
      "execution_count": 2,
      "metadata": {
        "colab": {
          "base_uri": "https://localhost:8080/"
        },
        "id": "wIzmp3F4pm8-",
        "outputId": "de2bfbeb-1bb9-49c6-bf33-709a5cc319dd"
      },
      "outputs": [],
      "source": [
        "def microchips_defectuosos():\n",
        "    resultado=(0)*(7/15) + (1)*(7/15) + (2)*(1/15)\n",
        "    return resultado\n"
      ]
    },
    {
      "cell_type": "code",
      "execution_count": 3,
      "metadata": {},
      "outputs": [
        {
          "name": "stdout",
          "output_type": "stream",
          "text": [
            "El valor esperado de microchips defectuosos es: 0.6\n"
          ]
        }
      ],
      "source": [
        "print(f\"El valor esperado de microchips defectuosos es: {microchips_defectuosos()}\")"
      ]
    }
  ],
  "metadata": {
    "colab": {
      "authorship_tag": "ABX9TyN18NQUgq2wr/D7OVH11E0M",
      "include_colab_link": true,
      "provenance": []
    },
    "kernelspec": {
      "display_name": "Python 3",
      "name": "python3"
    },
    "language_info": {
      "codemirror_mode": {
        "name": "ipython",
        "version": 3
      },
      "file_extension": ".py",
      "mimetype": "text/x-python",
      "name": "python",
      "nbconvert_exporter": "python",
      "pygments_lexer": "ipython3",
      "version": "3.10.9"
    }
  },
  "nbformat": 4,
  "nbformat_minor": 0
}
