{
  "nbformat": 4,
  "nbformat_minor": 0,
  "metadata": {
    "colab": {
      "provenance": [],
      "authorship_tag": "ABX9TyN18NQUgq2wr/D7OVH11E0M",
      "include_colab_link": true
    },
    "kernelspec": {
      "name": "python3",
      "display_name": "Python 3"
    },
    "language_info": {
      "name": "python"
    }
  },
  "cells": [
    {
      "cell_type": "markdown",
      "metadata": {
        "id": "view-in-github",
        "colab_type": "text"
      },
      "source": [
        "<a href=\"https://colab.research.google.com/github/JsNcAr/Metodos1_JasonArias_AngieRicaurte/blob/ramaALRR/Ejercicio_3_Discretizacion.ipynb\" target=\"_parent\"><img src=\"https://colab.research.google.com/assets/colab-badge.svg\" alt=\"Open In Colab\"/></a>"
      ]
    },
    {
      "cell_type": "markdown",
      "source": [
        "a) Basandonos en la distribución binomial podemos escribir la distribución de probabilidad como una función en términos de x, donde tenemos la cantidad de microchips en buen estado por la cantidad de microchips defectuosos y ya normalizada queda asi:\n",
        "$$ f(x) = \\frac{{(7,2-x) \\cdot (3,x)}}{{(10,2)}} $$"
      ],
      "metadata": {
        "id": "yfurU4zGTAqK"
      }
    },
    {
      "cell_type": "code",
      "source": [
        "import numpy as np\n",
        "from scipy import integrate\n",
        "def microchips_defectuosos():\n",
        "    resultado=(0)*(7/15) + (1)*(7/15) + (2)*(1/15)\n",
        "    return resultado\n",
        "\n",
        "print(microchips_defectuosos())\n",
        "\n",
        "\n",
        "\n"
      ],
      "metadata": {
        "colab": {
          "base_uri": "https://localhost:8080/"
        },
        "id": "wIzmp3F4pm8-",
        "outputId": "de2bfbeb-1bb9-49c6-bf33-709a5cc319dd"
      },
      "execution_count": 14,
      "outputs": [
        {
          "output_type": "stream",
          "name": "stdout",
          "text": [
            "0.6\n"
          ]
        }
      ]
    }
  ]
}