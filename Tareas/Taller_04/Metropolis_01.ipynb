{
 "cells": [
  {
   "cell_type": "code",
   "execution_count": 1,
   "metadata": {},
   "outputs": [],
   "source": [
    "import numpy as np\n",
    "import scipy.stats as stats"
   ]
  },
  {
   "cell_type": "code",
   "execution_count": 2,
   "metadata": {},
   "outputs": [],
   "source": [
    "# Observed data\n",
    "n = 10  # Number of coin tosses\n",
    "r = 7  # Number of times it lands heads\n",
    "\n",
    "# Prior distribution\n",
    "prior = stats.uniform(loc=0, scale=1)\n"
   ]
  },
  {
   "cell_type": "code",
   "execution_count": 3,
   "metadata": {},
   "outputs": [],
   "source": [
    "# Likelihood function\n",
    "def likelihood(p):\n",
    "    return stats.binom.pmf(r, n, p)\n",
    "\n",
    "\n",
    "# Posterior distribution\n",
    "def posterior(p):\n",
    "    return likelihood(p) * prior.pdf(p)\n",
    "\n",
    "\n",
    "# Metropolis algorithm\n",
    "def metropolis(n_iterations, initial_value):\n",
    "    samples = [initial_value]\n",
    "    current_value = initial_value\n",
    "\n",
    "    for _ in range(n_iterations):\n",
    "        # Propose a new value based on a normal distribution\n",
    "        proposed_value = np.random.normal(current_value, 0.1)\n",
    "\n",
    "        # Accept or reject the proposed value\n",
    "        acceptance_ratio = posterior(proposed_value) / posterior(current_value)\n",
    "        acceptance_prob = min(1, acceptance_ratio)\n",
    "        if np.random.uniform() < acceptance_prob:\n",
    "            current_value = proposed_value\n",
    "\n",
    "        samples.append(current_value)\n",
    "\n",
    "    return samples\n",
    "\n"
   ]
  },
  {
   "cell_type": "code",
   "execution_count": 4,
   "metadata": {},
   "outputs": [
    {
     "name": "stdout",
     "output_type": "stream",
     "text": [
      "Posterior max: 3112\n"
     ]
    }
   ],
   "source": [
    "n_iterations = 10000\n",
    "initial_value = 0.5\n",
    "samples = metropolis(n_iterations, initial_value)\n",
    "\n",
    "# Extract posterior distribution statistics\n",
    "maximum_a_posteriori = np.argmax(samples)\n",
    "\n",
    "\n",
    "# Print the results\n",
    "print(\"Posterior max:\", round(maximum_a_posteriori, 5))\n"
   ]
  },
  {
   "cell_type": "code",
   "execution_count": 5,
   "metadata": {},
   "outputs": [
    {
     "name": "stdout",
     "output_type": "stream",
     "text": [
      "Posterior standard deviation: 1.35144\n",
      "68% Confidence interval: [0.65569138 2.94670171]\n"
     ]
    }
   ],
   "source": [
    "posterior_std = np.std(samples)\n",
    "quantiles = np.percentile(samples, [16, 84])  # 68% confidence interval\n",
    "\n",
    "print(\"Posterior standard deviation:\", round(posterior_std,5))\n",
    "print(\"68% Confidence interval:\", quantiles)\n"
   ]
  },
  {
   "cell_type": "code",
   "execution_count": 6,
   "metadata": {},
   "outputs": [
    {
     "name": "stdout",
     "output_type": "stream",
     "text": [
      "The coin is biased.\n"
     ]
    }
   ],
   "source": [
    "# Check if the posterior mean is significantly different from 0.5\n",
    "posterior_mean = np.mean(samples)\n",
    "is_biased = np.abs(posterior_mean - 0.5) > 0.1\n",
    "\n",
    "if is_biased:\n",
    "    print(\"The coin is biased.\")\n",
    "else:\n",
    "    print(\"The coin is not biased.\")"
   ]
  }
 ],
 "metadata": {
  "kernelspec": {
   "display_name": "base",
   "language": "python",
   "name": "python3"
  },
  "language_info": {
   "codemirror_mode": {
    "name": "ipython",
    "version": 3
   },
   "file_extension": ".py",
   "mimetype": "text/x-python",
   "name": "python",
   "nbconvert_exporter": "python",
   "pygments_lexer": "ipython3",
   "version": "3.10.9"
  },
  "orig_nbformat": 4
 },
 "nbformat": 4,
 "nbformat_minor": 2
}
