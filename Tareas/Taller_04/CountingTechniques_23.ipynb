{
  "nbformat": 4,
  "nbformat_minor": 0,
  "metadata": {
    "colab": {
      "provenance": [],
      "authorship_tag": "ABX9TyNY2bnxzyIHXYd2kw9wO/tA",
      "include_colab_link": true
    },
    "kernelspec": {
      "name": "python3",
      "display_name": "Python 3"
    },
    "language_info": {
      "name": "python"
    }
  },
  "cells": [
    {
      "cell_type": "markdown",
      "metadata": {
        "id": "view-in-github",
        "colab_type": "text"
      },
      "source": [
        "<a href=\"https://colab.research.google.com/github/JsNcAr/Metodos1_JasonArias_AngieRicaurte/blob/ramaALRR/Ejercicio_23_Tecnicas_de_conteo.ipynb\" target=\"_parent\"><img src=\"https://colab.research.google.com/assets/colab-badge.svg\" alt=\"Open In Colab\"/></a>"
      ]
    },
    {
      "cell_type": "code",
      "execution_count": 1,
      "metadata": {
        "id": "zKjYvsjnOfn1"
      },
      "outputs": [],
      "source": [
        "import numpy as np"
      ]
    },
    {
      "cell_type": "code",
      "source": [
        "str =\"Aplicando el principio multiplicativo al caso de las llaves, tenemos un evento A que consiste en extraer 4 llaves \\\n",
        "y otro evento B que indica que hay 3 posibilidades de colores para las llaves. Entonces, por medio de un conteo simple obtenemos:\"\n",
        "print(str)\n",
        "n=4\n",
        "m=3\n",
        "resultado=n*m\n",
        "print(resultado)"
      ],
      "metadata": {
        "colab": {
          "base_uri": "https://localhost:8080/"
        },
        "id": "Au1q8f8DU64y",
        "outputId": "047b8dfb-2083-4ffb-8cd3-66990d8192fb"
      },
      "execution_count": 2,
      "outputs": [
        {
          "output_type": "stream",
          "name": "stdout",
          "text": [
            "Aplicando el principio multiplicativo al caso de las llaves, tenemos un evento A que consiste en extraer 4 llaves y otro evento B que indica que hay 3 posibilidades de colores para las llaves. Entonces, por medio de un conteo simple obtenemos:\n",
            "12\n"
          ]
        }
      ]
    }
  ]
}