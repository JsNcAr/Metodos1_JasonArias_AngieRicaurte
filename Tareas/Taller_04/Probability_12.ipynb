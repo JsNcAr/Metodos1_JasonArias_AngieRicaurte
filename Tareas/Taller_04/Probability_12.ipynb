{
 "cells": [
  {
   "cell_type": "markdown",
   "metadata": {},
   "source": [
    "# Ejercicio 12: ensamble microcanonico\n",
    "\n",
    "Hay un sistema constituido por $N$ partículas, cada una puede estar en dos niveles de energía distintos (no degenerados) de valor $\\epsilon_0$ y $\\epsilon_1$ ($\\epsilon_1 > \\epsilon_0$). Si llamamos $n_0$ al número de partículas en el estado $\\epsilon_0$ y a $n_1$ al número de partículas en el estado $\\epsilon_1$, se tienen las siguientes restricciones para la energía total y el número total de partículas:\n",
    "\n",
    "$ E = n_0\\epsilon_0 + n_1\\epsilon_1 $\n",
    "\n",
    "$ N = n_0 + n_1 \\quad (6.36) $\n",
    "\n",
    "**(a) Muestre que el número de configuraciones posibles (microestados) está dado por:**\n",
    "\n",
    "$ \\Omega(N, n_0) = \\frac{N!}{n_0!n_1!} \\quad (6.37) $\n",
    "\n",
    "**(b) Usando la ecuación de entropía $S(N, n_0) = k_B \\ln(\\Omega)$ y la fórmula de Stirling $\\ln(N!) \\approx N \\ln(N) - N$, muestre que la entropía es aproximadamente igual a:**\n",
    "\n",
    "$ S(N, n_0, n_1) = k_B \\left[ N \\ln(N) - \\sum_{i=0}^{1} n_i \\ln(n_i) \\right] \\quad (6.38) $\n",
    "\n",
    "**(c) Si definimos la fracción $x = \\frac{n_1}{N}$ de partículas que se encuentran en el nivel de energía $\\epsilon_1$, muestre que la entropía toma la forma:**\n",
    "\n",
    "$ S(N, x) = -k_B N \\left[ x \\ln(x) + (1 - x) \\ln(1 - x) \\right] \\quad (6.39) $\n",
    "\n",
    "donde $x = \\frac{1}{N (\\epsilon_1 - \\epsilon_0)} (E - N \\epsilon_0)$.\n",
    "\n",
    "**(d) Dibuje la entropía $\\frac{S(N, x)}{k_B N}$ como función de $x$.**\n",
    "\n",
    "**(e) De la primera ley de la termodinámica tenemos:**\n",
    "\n",
    "$ \\frac{1}{T} = \\left( \\frac{\\partial S}{\\partial E} \\right)_N = \\left( \\frac{\\partial S}{\\partial x} \\right)_N \\left( \\frac{\\partial x}{\\partial E} \\right)_N \\quad (6.40) $\n",
    "\n",
    "muestre que la proporción de partículas como función de la temperatura está dada por:\n",
    "\n",
    "$ x(T) = \\frac{1}{1 + e^{-\\Delta E/k_B T}}, \\quad \\Delta E = \\epsilon_1 - \\epsilon_0 \\quad (6.41) $\n",
    "\n",
    "**(f) Para bajas y altas temperaturas, $T \\rightarrow 0$ y $T \\rightarrow \\infty$, encuentre $x(T)$. Muestre que la entropía a altas temperaturas vale:**\n",
    "\n",
    "$ \\lim_{{T \\rightarrow \\infty}} S(T) = k_B N \\ln(2) \\quad (6.42) $\n",
    "\n",
    "**(g) Un gas ideal conformado por $N$ partículas realiza una expansión isotérmica de un volumen $V_1 = V$ a un volumen $V_2 = 2V$. Calcule el cambio de entropía y compare con el resultado anterior. ¿Cómo se relacionan?**\n"
   ]
  },
  {
   "cell_type": "markdown",
   "metadata": {},
   "source": [
    "# Solucion"
   ]
  },
  {
   "cell_type": "code",
   "execution_count": 6,
   "metadata": {},
   "outputs": [],
   "source": [
    "import math\n",
    "import numpy as np\n",
    "import matplotlib.pyplot as plt"
   ]
  },
  {
   "cell_type": "code",
   "execution_count": 7,
   "metadata": {},
   "outputs": [],
   "source": [
    "import warnings\n",
    "\n",
    "warnings.filterwarnings('ignore')"
   ]
  },
  {
   "attachments": {},
   "cell_type": "markdown",
   "metadata": {},
   "source": [
    "## a)"
   ]
  },
  {
   "attachments": {},
   "cell_type": "markdown",
   "metadata": {},
   "source": [
    "Número de configuraciones posibles (microestados):\n",
    "El número de configuraciones posibles (microestados) está dado por el coeficiente binomial:\n",
    "$\n",
    "\\Omega(N, n0) = \\frac{N!}{n0!(N - n0)!}\n",
    "$\n",
    "donde $N$ es el número total de partículas y $n0$ es el número de partículas en el estado $e0$.\n",
    "\n",
    "Y dado que N = n0 + n1, entonces:\n",
    "$\n",
    "\\Omega(N, n0) = \\frac{N!}{n0!n1!}\n",
    "$"
   ]
  },
  {
   "attachments": {},
   "cell_type": "markdown",
   "metadata": {},
   "source": [
    "## b)"
   ]
  },
  {
   "attachments": {},
   "cell_type": "markdown",
   "metadata": {},
   "source": [
    "Utilizando la definición de entropía $S(N, n_0) = k_B \\ln(\\Omega)$, podemos sustituir $\\Omega(N, n_0)$ de la ecuación (a) para obtener:\n",
    "\n",
    "$\n",
    "S(N, n_0) = k_B \\ln(N!) - \\ln(n_0!) - \\ln((N - n_0)!)\n",
    "$\n",
    "\n",
    "Ahora, podemos utilizar la fórmula de Stirling $\\ln(N!) \\approx N \\ln(N) - N$ y aplicarla a la ecuación anterior:\n",
    "\n",
    "$\n",
    "S(N, n_0) = k_B (N \\ln(N) - N - n_0 \\ln(n_0) + n_0 - (N - n_0) \\ln(N - n_0) + (N - n_0))\n",
    "$\n",
    "\n",
    "Simplificando aún más:\n",
    "\n",
    "$\n",
    "S(N, n_0) = k_B (N \\ln(N) - n_0 \\ln(n_0) - (N - n_0) \\ln(N - n_0))\n",
    "$\n",
    "\n",
    "$\n",
    "S(N, n_0) = k_B (N \\ln(N) - \\Sigma_{i=0}^{1} n_i \\ln(n_i))\n",
    "$"
   ]
  },
  {
   "attachments": {},
   "cell_type": "markdown",
   "metadata": {},
   "source": [
    "## c)"
   ]
  },
  {
   "attachments": {},
   "cell_type": "markdown",
   "metadata": {},
   "source": [
    "Para expresar la entropía en función de la fracción $x = \\frac{{n_1}}{{N}}$, sustituimos $n_0 = N - n_1$ en la ecuación de entropía derivada en (b):\n",
    "\n",
    "$\n",
    "S(N, x) = k_B (N \\ln(N) - (N - Nx) \\ln(N - Nx) - (Nx) \\ln(Nx))\n",
    "$\n",
    "\n",
    "Simplificando aún más:\n",
    "\n",
    "$\n",
    "S(N, x) = -k_B N [x \\ln(x) + (1 - x) \\ln(1 - x)]\n",
    "$\n",
    "\n",
    "donde $x = \\frac{{n_1}}{{N}}$."
   ]
  },
  {
   "attachments": {},
   "cell_type": "markdown",
   "metadata": {},
   "source": [
    "## d)"
   ]
  },
  {
   "cell_type": "code",
   "execution_count": null,
   "metadata": {},
   "outputs": [],
   "source": [
    "def calculate_entropy_x(N, x):\n",
    "    kb = 1.38e-23\n",
    "    entropy = -N * kb * (x * np.log(x) + (1 - x) * np.log(1 - x))\n",
    "    return entropy"
   ]
  },
  {
   "cell_type": "code",
   "execution_count": 9,
   "metadata": {},
   "outputs": [],
   "source": [
    "def plot_entropy(N):\n",
    "    x = np.linspace(0, 1, 100)\n",
    "    entropy = [calculate_entropy_x(N, xi) for xi in x]\n",
    "    normalized_entropy = entropy / (N * np.log(2))\n",
    "    plt.plot(x, normalized_entropy)\n",
    "    plt.xlabel('x')\n",
    "    plt.ylabel('S(N, x) / (kB N)')\n",
    "    plt.title('Entropy as a Function of x')\n",
    "    plt.show()\n",
    "\n"
   ]
  },
  {
   "cell_type": "code",
   "execution_count": 11,
   "metadata": {},
   "outputs": [
    {
     "data": {
      "image/png": "[encoded data removed]",
      "text/plain": [
       "<Figure size 640x480 with 1 Axes>"
      ]
     },
     "metadata": {},
     "output_type": "display_data"
    }
   ],
   "source": [
    "N = 100\n",
    "\n",
    "plot_entropy(N)\n"
   ]
  },
  {
   "attachments": {},
   "cell_type": "markdown",
   "metadata": {},
   "source": [
    "## e)"
   ]
  },
  {
   "attachments": {},
   "cell_type": "markdown",
   "metadata": {},
   "source": [
    "La proporción de partículas en función de la temperatura se puede derivar a partir de la definición de temperatura como la derivada de la entropía con respecto a la energía $\\left(\\frac{\\partial S}{\\partial E}\\right)_N$. Utilizando la regla de la cadena, tenemos:\n",
    "\n",
    "$\\frac{1}{T} = \\left(\\frac{\\partial S}{\\partial E}\\right)_N = \\left(\\frac{\\partial S}{\\partial x}\\right)_N \\cdot \\left(\\frac{\\partial x}{\\partial E}\\right)_N$\n",
    "\n",
    "Para calcular $\\left(\\frac{\\partial S}{\\partial x}\\right)_N$, diferenciamos la ecuación de entropía de la parte (c) con respecto a $x$:\n",
    "\n",
    "$\\left(\\frac{\\partial S}{\\partial x}\\right)_N = -k_B N \\left[\\ln(x) - \\ln(1 - x)\\right]$\n",
    "\n",
    "Para calcular $\\left(\\frac{\\partial x}{\\partial E}\\right)_N$, expresamos $x$ como una función de $E$:\n",
    "\n",
    "$x = \\frac{1}{N(e_1 - e_0)(E - N e_0)}$\n",
    "\n",
    "Tomando la derivada de $x$ con respecto a $E$, tenemos:\n",
    "\n",
    "$\\left(\\frac{\\partial x}{\\partial E}\\right)_N = -\\frac{1}{N(e_1 - e_0)(E - N e_0)^2}$\n",
    "\n",
    "Multiplicando $\\left(\\frac{\\partial S}{\\partial x}\\right)_N$ y $\\left(\\frac{\\partial x}{\\partial E}\\right)_N$ juntos, podemos simplificar la expresión para $x(T)$:\n",
    "\n",
    "$\\frac{1}{T} = \\frac{-k_B N \\left[\\ln(x) - \\ln(1 - x)\\right]}{N(e_1 - e_0)(E - N e_0)^2}$\n",
    "\n",
    "Ahora, vamos a simplificar esta ecuación paso a paso:\n",
    "\n",
    "Reorganizar la ecuación multiplicando ambos lados por $T$ para aislar los términos logarítmicos:\n",
    "\n",
    "$-k_B N \\left(\\ln(x) - \\ln(1 - x)\\right) = \\frac{-T}{N(e_1 - e_0)(E - N e_0)^2}$\n",
    "\n",
    "Combinar los términos logarítmicos en el lado izquierdo utilizando la propiedad $\\ln(a) - \\ln(b) = \\ln\\left(\\frac{a}{b}\\right)$:\n",
    "\n",
    "$\\ln\\left(\\frac{x}{1 - x}\\right) = \\frac{e_1 - e_0}{k_B T}$\n",
    "\n",
    "Exponenciar ambos lados de la ecuación utilizando $e^{\\ln(a)} = a$:\n",
    "\n",
    "$\\frac{x}{1 - x} = e^{\\frac{e_1 - e_0}{k_B T}}$\n",
    "\n",
    "Multiplicar ambos lados por $(1 - x)$:\n",
    "\n",
    "$x = (1 - x) \\cdot e^{\\frac{e_1 - e_0}{k_B T}}$\n",
    "\n",
    "Simplificar el lado derecho:\n",
    "\n",
    "$x = e^{\\frac{e_1 - e_0}{k_B T}} - x \\cdot e^{\\frac{e_1 - e_0}{k_B T}}$\n",
    "\n",
    "Reorganizar la ecuación aislando $x$ en un lado:\n",
    "\n",
    "$x(1 + e^{\\frac{e_1 - e_0}{k_B T}}) = e^{\\frac{e_1 - e_0}{k_B T}}$\n",
    "\n",
    "Dividir ambos lados por $(1 + e^{\\frac{e_1 - e_0}{k_B T}})$:\n",
    "\n",
    "$x = \\frac{e^{\\frac{e_1 - e_0}{k_B T}}}{1 + e^{\\frac{e_1 - e_0}{k_B T}}}$\n",
    "\n",
    "Finalmente, tenemos la expresión simplificada para $x(T)$:\n",
    "\n",
    "$x(T) = \\frac{1}{1 + e^{-\\frac{\\Delta E}{k_B T}}}$\n",
    "\n",
    "donde $\\Delta E = e_1 - e_0$ y $k_B$ es la constante de Boltzmann."
   ]
  },
  {
   "attachments": {},
   "cell_type": "markdown",
   "metadata": {},
   "source": [
    "## f)"
   ]
  },
  {
   "attachments": {},
   "cell_type": "markdown",
   "metadata": {},
   "source": [
    "En temperaturas altas, a medida que $T$ se acerca a $\\infty$, podemos reescribir la expresión para $x(T)$ de la siguiente manera:\n",
    "\n",
    "$$\n",
    "x(T) = \\frac{1}{1 + e^{-\\frac{\\Delta E}{k_B T}}} \\approx \\frac{1}{1 + e^{0}} = \\frac{1}{1 + 1} = \\frac{1}{2}\n",
    "$$\n",
    "\n",
    "Por lo tanto, en temperaturas altas, $x(T)$ tiende a $\\frac{1}{2}$.\n",
    "\n",
    "Ahora evaluemos la entropía en temperaturas altas:\n",
    "\n",
    "$$\n",
    "\\lim_{{T \\to \\infty}} S(N, x) = -k_B N \\left[x \\ln(x) + (1 - x) \\ln(1 - x)\\right] = -k_B N \\left[\\frac{1}{2} \\ln\\left(\\frac{1}{2}\\right) + \\left(1 - \\frac{1}{2}\\right) \\ln\\left(1 - \\frac{1}{2}\\right)\\right] = -k_B N \\ln(2)\n",
    "$$\n",
    "\n",
    "Por lo tanto, la entropía en temperaturas altas tiende a $-k_B N \\ln(2)$.\n"
   ]
  }
 ],
 "metadata": {
  "kernelspec": {
   "display_name": "base",
   "language": "python",
   "name": "python3"
  },
  "language_info": {
   "codemirror_mode": {
    "name": "ipython",
    "version": 3
   },
   "file_extension": ".py",
   "mimetype": "text/x-python",
   "name": "python",
   "nbconvert_exporter": "python",
   "pygments_lexer": "ipython3",
   "version": "3.10.9"
  },
  "orig_nbformat": 4
 },
 "nbformat": 4,
 "nbformat_minor": 2
}
