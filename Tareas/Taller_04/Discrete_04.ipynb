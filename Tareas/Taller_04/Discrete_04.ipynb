{
 "cells": [
  {
   "cell_type": "markdown",
   "metadata": {},
   "source": [
    "# Ejercicio 4: caja cuantica"
   ]
  },
  {
   "cell_type": "markdown",
   "metadata": {},
   "source": [
    "Una caja cuantica tiene 3 electrones, 2 protones y 3 neutrones. Se selecciona una muestra\n",
    "aleatoria de 4 particulas. Si x es el numero de electrones e y es el numero de protones:\n",
    "\n",
    "a) Muestre que la distribuci´on de probabilidad conjunta f (x, y) es:\n",
    "$$\n",
    "f(x, y) = \\frac{{\\binom{3}{x} \\binom{2}{y} \\binom{3}{4-x-y}}}{{\\binom{8}{4}}} \\quad (6.61)\n",
    "$$\n",
    "\n",
    "b) Hallar las distribuciones marginales g(x) y h(y).\n",
    "\n",
    "c) Hallar el valor esperado de electrones: E(x) = 105/70.\n",
    "\n",
    "d) Hallar el valor esperado de protones: E(y) = 1.\n",
    "\n",
    "e) Calcular la covarianza usando: σxy = E(xy) - E(x)E(y) = -3/14.\n",
    "\n",
    "f) Calcular la covarianza usando: σxy = E((x - ˆμx)(y - ˆμy)) = -3/14.\n",
    "\n",
    "g) Son las variables x e y independientes?\n"
   ]
  },
  {
   "cell_type": "markdown",
   "metadata": {},
   "source": [
    "# Solucion"
   ]
  },
  {
   "cell_type": "code",
   "execution_count": 1,
   "metadata": {},
   "outputs": [],
   "source": [
    "import numpy as np\n",
    "from scipy.special import comb"
   ]
  },
  {
   "attachments": {},
   "cell_type": "markdown",
   "metadata": {},
   "source": [
    "## a)"
   ]
  },
  {
   "attachments": {},
   "cell_type": "markdown",
   "metadata": {},
   "source": [
    "Para encontrar la distribución conjunta de probabilidad $f(x, y)$, necesitamos considerar todas las combinaciones posibles de $x$ electrones e $y$ protones al seleccionar 4 partículas de la caja dada.\n",
    "\n",
    "En este caso, tenemos 3 electrones, 2 protones y 3 neutrones en la caja. Queremos seleccionar $x$ electrones e $y$ protones de las partículas disponibles. Las partículas restantes $(4 - x - y)$ serán neutrones.\n",
    "\n",
    "El número total de formas de seleccionar $x$ electrones entre 3 se calcula mediante el coeficiente binomial $\\binom{3}{x}$. De manera similar, el número total de formas de seleccionar $y$ protones entre 2 es $\\binom{2}{y}$. Por último, el número total de formas de seleccionar $(4 - x - y)$ neutrones entre 3 es $\\binom{3}{4-x-y}$.\n",
    "\n",
    "Para calcular la distribución conjunta de probabilidad, necesitamos normalizar estas combinaciones dividiéndolas por el número total de formas de seleccionar 4 partículas de las 8 partículas disponibles en la caja, que es $\\binom{8}{4}$.\n",
    "\n",
    "Por lo tanto, la distribución conjunta de probabilidad $f(x, y)$ se puede expresar como:\n",
    "\n",
    "$$\n",
    "f(x, y) = \\frac{{\\binom{3}{x} \\binom{2}{y} \\binom{3}{4-x-y}}}{{\\binom{8}{4}}} \\quad (6.61)\n",
    "$$\n",
    "\n",
    "Esta fórmula nos proporciona la probabilidad de observar una combinación específica de $x$ electrones e $y$ protones al seleccionar aleatoriamente 4 partículas de la caja dada.\n",
    "\n",
    "Ten en cuenta que el rango de valores para $x$ es de 0 a 3, y el rango de valores para $y$ es de 0 a 2, ya que no podemos seleccionar más partículas de las que están disponibles en la caja.\n"
   ]
  },
  {
   "attachments": {},
   "cell_type": "markdown",
   "metadata": {},
   "source": [
    "## b)"
   ]
  },
  {
   "attachments": {},
   "cell_type": "markdown",
   "metadata": {},
   "source": [
    "Para encontrar las distribuciones marginales g(x) y h(y), debemos calcular las probabilidades de cada valor de x e y de forma independiente, sin considerar la otra variable.\n",
    "\n",
    "Para $g(x)$, sumamos las probabilidades conjuntas $f(x, y)$ para todos los valores posibles de $y$:\n",
    "\n",
    "$$\n",
    "g(x) = \\sum_{y=0}^{2} f(x, y)\n",
    "$$\n",
    "\n",
    "Sustituyendo la expresión de $f(x, y)$ de la ecuación (6.61), tenemos:\n",
    "\n",
    "$$\n",
    "g(x) = \\sum_{y=0}^{2} \\frac{{\\binom{3}{x} \\binom{2}{y} \\binom{3}{4-x-y}}}{{\\binom{8}{4}}}\n",
    "$$\n",
    "\n",
    "Podemos simplificar esta expresión expandiendo los coeficientes binomiales:\n",
    "\n",
    "$$\n",
    "g(x) = \\frac{{\\binom{3}{x} \\binom{2}{0} \\binom{3}{4-x}}}{{\\binom{8}{4}}} + \\frac{{\\binom{3}{x} \\binom{2}{1} \\binom{3}{4-x-1}}}{{\\binom{8}{4}}} + \\frac{{\\binom{3}{x} \\binom{2}{2} \\binom{3}{4-x-2}}}{{\\binom{8}{4}}}\n",
    "$$\n",
    "\n",
    "Simplificando aún más:\n",
    "\n",
    "$$\n",
    "g(x) = \\frac{{\\binom{3}{x} \\binom{2}{0} \\binom{3}{4-x}}}{{\\binom{8}{4}}} + \\frac{{\\binom{3}{x} \\binom{2}{1} \\binom{3}{3-x}}}{{\\binom{8}{4}}} + \\frac{{\\binom{3}{x} \\binom{2}{2} \\binom{3}{2-x}}}{{\\binom{8}{4}}}\n",
    "$$\n",
    "\n",
    "Usando los valores de los coeficientes binomiales, podemos calcular $g(x)$ para cada valor de $x$ (0 a 3).\n",
    "\n",
    "De manera similar, para $h(y)$, sumamos las probabilidades conjuntas $f(x, y)$ para todos los valores posibles de $x$:\n",
    "\n",
    "$$\n",
    "h(y) = \\sum_{x=0}^{3} f(x, y)\n",
    "$$\n",
    "\n",
    "Sustituyendo la expresión de $f(x, y)$ de la ecuación (6.61), tenemos:\n",
    "\n",
    "$$\n",
    "h(y) = \\sum_{x=0}^{3} \\frac{{\\binom{3}{x} \\binom{2}{y} \\binom{3}{4-x-y}}}{{\\binom{8}{4}}}\n",
    "$$\n",
    "\n",
    "Podemos simplificar esta expresión expandiendo los coeficientes binomiales y calcular $h(y)$ para cada valor de $y$ (0 a 2).\n",
    "\n",
    "Al calcular las distribuciones marginales $g(x)$ y $h(y)$, obtenemos las probabilidades de tener un número específico de electrones ($x$) y protones ($y$) de forma independiente, sin considerar la otra variable.\n"
   ]
  },
  {
   "attachments": {},
   "cell_type": "markdown",
   "metadata": {},
   "source": [
    "## c)"
   ]
  },
  {
   "cell_type": "code",
   "execution_count": 2,
   "metadata": {},
   "outputs": [],
   "source": [
    "# Function to calculate the joint probability of two discrete random variables x and y\n",
    "def joint_probability(x, y):\n",
    "    numerator = comb(3, x) * comb(2, y) * comb(3, 4 - x - y)\n",
    "    denominator = comb(8, 4)\n",
    "    return numerator / denominator\n",
    "\n",
    "# Function to calculate the marginal distribution of random variable x\n",
    "def marginal_distribution_x(x):\n",
    "    probabilities = np.array([joint_probability(x, y) for y in range(0, 3)])\n",
    "    return np.sum(probabilities)\n",
    "\n",
    "# Function to calculate the marginal distribution of random variable y\n",
    "def marginal_distribution_y(y):\n",
    "    probabilities = np.array([joint_probability(x, y) for x in range(0, 4)])\n",
    "    return np.sum(probabilities)\n",
    "\n",
    "# Function to calculate the expected value of random variable x\n",
    "def expected_value_x():\n",
    "    probabilities = np.array([marginal_distribution_x(x) for x in range(0, 4)])\n",
    "    return np.sum(probabilities * np.arange(0, 4))\n",
    "\n",
    "# Function to calculate the expected value of random variable y\n",
    "def expected_value_y():\n",
    "    probabilities = np.array([marginal_distribution_y(y) for y in range(0, 3)])\n",
    "    return np.sum(probabilities * np.arange(0, 3))\n",
    "\n",
    "# Function to calculate the covariance between random variables x and y\n",
    "def calculate_covariance():\n",
    "    expected_value_x = sum(x * marginal_distribution_x(x) for x in range(0, 4))\n",
    "    expected_value_y = sum(y * marginal_distribution_y(y) for y in range(0, 3))\n",
    "    covariance = sum(\n",
    "        (x - expected_value_x) * (y - expected_value_y) * joint_probability(x, y)\n",
    "        for x in range(0, 4) for y in range(0, 3)\n",
    "    )\n",
    "    return covariance\n",
    "\n",
    "# Function to calculate the covariance between random variables x and y (alternative method)\n",
    "def calculate_covariance_alt():\n",
    "    expected_value_x = sum(x * marginal_distribution_x(x) for x in range(0, 4))\n",
    "    expected_value_y = sum(y * marginal_distribution_y(y) for y in range(0, 3))\n",
    "    covariance = expected_value_x * expected_value_y - sum(\n",
    "        x * y * joint_probability(x, y) for x in range(0, 4) for y in range(0, 3)\n",
    "    )\n",
    "    return covariance\n",
    "\n",
    "# Function to test if two random variables x and y are independent\n",
    "def independence():\n",
    "    return calculate_covariance() == 0\n"
   ]
  },
  {
   "cell_type": "code",
   "execution_count": 3,
   "metadata": {},
   "outputs": [],
   "source": [
    "# Calculate the expected electron value\n",
    "expected_electron_value = round(expected_value_x(), 5)\n",
    "theoretical_electron_value = 1.5\n",
    "\n",
    "# Calculate the expected proton value\n",
    "expected_proton_value = round(expected_value_y(), 5)\n",
    "theoretical_proton_value = 1\n",
    "\n",
    "# Calculate the covariance using the regular method and the theoretical value\n",
    "calculated_covariance = round(calculate_covariance(), 5)\n",
    "theoretical_covariance = round(-3 / 14, 5)\n",
    "\n",
    "# Calculate the covariance using the alternative method and the theoretical value\n",
    "calculated_covariance_alt = round(calculate_covariance_alt(), 5)\n",
    "\n",
    "# Check if the variables x and y are independent\n",
    "is_independent = independence()\n",
    "\n"
   ]
  },
  {
   "cell_type": "code",
   "execution_count": 4,
   "metadata": {},
   "outputs": [
    {
     "name": "stdout",
     "output_type": "stream",
     "text": [
      "Expected electron value: 1.5 (Theoretical value: 1.5)\n",
      "Expected proton value: 1.0 (Theoretical value: 1)\n",
      "Calculated covariance: -0.21429 (Theoretical value: -0.21429)\n",
      "Calculated covariance (alternative): 0.21429 (Theoretical value: -0.21429)\n",
      "Independence: False\n"
     ]
    }
   ],
   "source": [
    "# Print the results\n",
    "print(f'Expected electron value: {expected_electron_value} (Theoretical value: {theoretical_electron_value})')\n",
    "print(f'Expected proton value: {expected_proton_value} (Theoretical value: {theoretical_proton_value})')\n",
    "print(f'Calculated covariance: {calculated_covariance} (Theoretical value: {theoretical_covariance})')\n",
    "print(f'Calculated covariance (alternative): {calculated_covariance_alt} (Theoretical value: {theoretical_covariance})')\n",
    "print(f'Independence: {is_independent}')"
   ]
  }
 ],
 "metadata": {
  "kernelspec": {
   "display_name": "base",
   "language": "python",
   "name": "python3"
  },
  "language_info": {
   "codemirror_mode": {
    "name": "ipython",
    "version": 3
   },
   "file_extension": ".py",
   "mimetype": "text/x-python",
   "name": "python",
   "nbconvert_exporter": "python",
   "pygments_lexer": "ipython3",
   "version": "3.10.9"
  },
  "orig_nbformat": 4
 },
 "nbformat": 4,
 "nbformat_minor": 2
}
