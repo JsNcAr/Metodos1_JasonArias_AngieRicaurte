{
  "cells": [
    {
      "cell_type": "markdown",
      "metadata": {
        "colab_type": "text",
        "id": "view-in-github"
      },
      "source": [
        "<a href=\"https://colab.research.google.com/github/JsNcAr/Metodos1_JasonArias_AngieRicaurte/blob/ramaALRR/Ejercicio_5_Parametros.ipynb\" target=\"_parent\"><img src=\"https://colab.research.google.com/assets/colab-badge.svg\" alt=\"Open In Colab\"/></a>"
      ]
    },
    {
      "cell_type": "markdown",
      "metadata": {},
      "source": [
        "# Ejercicio 5: Varianza de estimadores"
      ]
    },
    {
      "cell_type": "markdown",
      "metadata": {},
      "source": [
        "En general, la varianza de estimadores es no calculable:\n",
        "\n",
        "$V(\\hat{\\theta}) = E(\\hat{\\theta}^2) - E(\\hat{\\theta})^2 \\quad (8.58)$\n",
        "\n",
        "En el caso de la distribución exponencial, tenemos un valor analítico dado por:\n",
        "\n",
        "$V(\\hat{\\theta}) = \\int_{0}^{\\infty} ... \\int_{0}^{\\infty} \\left( \\frac{1}{n} \\sum_{i=1}^{n} x_i \\right)^2 \\frac{1}{\\theta} e^{-x_1/\\theta} ... \\frac{1}{\\theta} e^{-x_n/\\theta} \\, dx_1 ... dx_n - \\left[ \\int_{0}^{\\infty} ... \\int_{0}^{\\infty} \\left( \\frac{1}{n} \\sum_{i=1}^{n} x_i \\right) \\frac{1}{\\theta} e^{-x_1/\\theta} ... \\frac{1}{\\theta} e^{-x_n/\\theta} \\, dx_1 ... dx_n \\right]^2 = \\frac{\\theta^2}{n} \\quad (8.59)$\n",
        "\n",
        "**a) Intente encontrar este resultado analíticamente.**\n",
        "\n",
        "**b) Con el método de Monte Carlo, compruebe este resultado para un conjunto de $n=20$ variables aleatorias $x_i, ..., x_n \\sim Exp(\\theta = 2)$. Genere varias muestras de distribuciones exponenciales para tener un buen promedio en el ensamble, por ejemplo: $N = 10^6$ (Se obtiene algo como $Var(\\hat{\\theta}) = 0.199$.**"
      ]
    },
    {
      "cell_type": "code",
      "execution_count": 1,
      "metadata": {
        "id": "hUcyCq3DGVna"
      },
      "outputs": [],
      "source": [
        "import numpy as np"
      ]
    },
    {
      "cell_type": "code",
      "execution_count": 2,
      "metadata": {
        "colab": {
          "base_uri": "https://localhost:8080/"
        },
        "id": "k_joTvrmNok1",
        "outputId": "10e5ac45-eaf1-4877-8f7e-8bcd274adb73"
      },
      "outputs": [],
      "source": [
        "def distribuciones_exponenciales(n,N,theta):\n",
        "  muestras=np.random.exponential(scale = theta, size = (N, n))\n",
        "  mean = np.mean(np.mean(muestras, axis = 0))\n",
        "  return mean"
      ]
    },
    {
      "cell_type": "code",
      "execution_count": 3,
      "metadata": {},
      "outputs": [
        {
          "name": "stdout",
          "output_type": "stream",
          "text": [
            "La varianza de la distribución exponencial es: 1.9997\n"
          ]
        }
      ],
      "source": [
        "varianza=round(distribuciones_exponenciales(20,int(1e6),2), 4)\n",
        "\n",
        "print(f'La varianza de la distribución exponencial es: {varianza}')"
      ]
    }
  ],
  "metadata": {
    "colab": {
      "authorship_tag": "ABX9TyNIlctwINasergqd/B3trFy",
      "include_colab_link": true,
      "provenance": []
    },
    "kernelspec": {
      "display_name": "Python 3",
      "name": "python3"
    },
    "language_info": {
      "codemirror_mode": {
        "name": "ipython",
        "version": 3
      },
      "file_extension": ".py",
      "mimetype": "text/x-python",
      "name": "python",
      "nbconvert_exporter": "python",
      "pygments_lexer": "ipython3",
      "version": "3.10.9"
    }
  },
  "nbformat": 4,
  "nbformat_minor": 0
}
