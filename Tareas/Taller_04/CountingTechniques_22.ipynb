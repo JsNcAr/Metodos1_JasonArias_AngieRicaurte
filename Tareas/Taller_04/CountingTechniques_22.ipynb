{
  "cells": [
    {
      "attachments": {},
      "cell_type": "markdown",
      "metadata": {
        "colab_type": "text",
        "id": "view-in-github"
      },
      "source": [
        "<a href=\"https://colab.research.google.com/github/JsNcAr/Metodos1_JasonArias_AngieRicaurte/blob/ramaALRR/Ejercicio_22_T%C3%A9cnicas_de_conteo.ipynb\" target=\"_parent\"><img src=\"https://colab.research.google.com/assets/colab-badge.svg\" alt=\"Open In Colab\"/></a>"
      ]
    },
    {
      "attachments": {},
      "cell_type": "markdown",
      "metadata": {},
      "source": [
        "# Combinacion con repeticion"
      ]
    },
    {
      "cell_type": "code",
      "execution_count": 6,
      "metadata": {
        "id": "xYqEc9uHC2GN"
      },
      "outputs": [],
      "source": [
        "import numpy as np"
      ]
    },
    {
      "attachments": {},
      "cell_type": "markdown",
      "metadata": {},
      "source": [
        "## Cuantas sumas de 3 enteros no negativos dan 10\n",
        "Formula a usar:\n",
        "$$\n",
        "\\binom{n+r-1}{r} = \\frac{(n+r-1)!}{r!(n-1)!}\n",
        "$$"
      ]
    },
    {
      "cell_type": "code",
      "execution_count": 7,
      "metadata": {
        "id": "sBolTQi_G1zy"
      },
      "outputs": [],
      "source": [
        "def calcular_enteros(n,r):\n",
        "  C=(np.math.factorial(n+r-1))/(np.math.factorial(r)*np.math.factorial(n-1))\n",
        "  return C"
      ]
    },
    {
      "cell_type": "code",
      "execution_count": 8,
      "metadata": {
        "colab": {
          "base_uri": "https://localhost:8080/"
        },
        "id": "UpOWy3z0Id1M",
        "outputId": "4151ea6d-c440-4afc-bd14-98eda14658ac"
      },
      "outputs": [
        {
          "name": "stdout",
          "output_type": "stream",
          "text": [
            "66.0\n"
          ]
        }
      ],
      "source": [
        "resultado=calcular_enteros(3,10)\n",
        "print(resultado)"
      ]
    }
  ],
  "metadata": {
    "colab": {
      "authorship_tag": "ABX9TyOW6r05q+Nl73NaNT+3gP4T",
      "include_colab_link": true,
      "provenance": []
    },
    "kernelspec": {
      "display_name": "Python 3",
      "name": "python3"
    },
    "language_info": {
      "name": "python"
    }
  },
  "nbformat": 4,
  "nbformat_minor": 0
}
