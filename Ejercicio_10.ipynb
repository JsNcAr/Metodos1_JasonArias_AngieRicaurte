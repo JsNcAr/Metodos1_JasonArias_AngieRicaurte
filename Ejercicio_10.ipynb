{
  "nbformat": 4,
  "nbformat_minor": 0,
  "metadata": {
    "colab": {
      "provenance": [],
      "authorship_tag": "ABX9TyOPzC/+CnR22yjR1Q4ASJCg",
      "include_colab_link": true
    },
    "kernelspec": {
      "name": "python3",
      "display_name": "Python 3"
    },
    "language_info": {
      "name": "python"
    }
  },
  "cells": [
    {
      "cell_type": "markdown",
      "metadata": {
        "id": "view-in-github",
        "colab_type": "text"
      },
      "source": [
        "<a href=\"https://colab.research.google.com/github/JsNcAr/Metodos1_JasonArias_AngieRicaurte/blob/ramaALRR/Ejercicio_10.ipynb\" target=\"_parent\"><img src=\"https://colab.research.google.com/assets/colab-badge.svg\" alt=\"Open In Colab\"/></a>"
      ]
    },
    {
      "cell_type": "code",
      "execution_count": 22,
      "metadata": {
        "id": "hXCDPbtpnahv"
      },
      "outputs": [],
      "source": [
        "import numpy as np"
      ]
    },
    {
      "cell_type": "code",
      "source": [
        "H=np.array([[1,2,-1],[1,0,1],[4,-4,5]])\n",
        "H_inversa=np.linalg.inv(H)"
      ],
      "metadata": {
        "id": "rEXGEsznnhjl"
      },
      "execution_count": 24,
      "outputs": []
    },
    {
      "cell_type": "code",
      "source": [
        "np.linalg.eig(H)"
      ],
      "metadata": {
        "colab": {
          "base_uri": "https://localhost:8080/"
        },
        "id": "qD0DA35AyX89",
        "outputId": "5c3492cd-8623-4a43-9657-e541aec3d9f6"
      },
      "execution_count": 25,
      "outputs": [
        {
          "output_type": "execute_result",
          "data": {
            "text/plain": [
              "(array([3., 2., 1.]),\n",
              " array([[-0.23570226,  0.43643578,  0.40824829],\n",
              "        [ 0.23570226, -0.21821789, -0.40824829],\n",
              "        [ 0.94280904, -0.87287156, -0.81649658]]))"
            ]
          },
          "metadata": {},
          "execution_count": 25
        }
      ]
    },
    {
      "cell_type": "code",
      "source": [
        "def EigValue(A, c=0, itmax=1000, tol=1e-14):\n",
        "    n = A.shape[0]\n",
        "    \n",
        "    v0 = np.zeros(n)\n",
        "\n",
        "    v0[c] = 1.\n",
        "\n",
        "    lambda1 = 0.\n",
        "\n",
        "    for k in range(itmax):\n",
        "        v1 = A.dot(v0)\n",
        "        v1 = v1/np.linalg.norm(v1)\n",
        "\n",
        "        v2 = A.dot(v1)\n",
        "        v2 = v2/np.linalg.norm(v1)\n",
        "\n",
        "        lambda0 = lambda1\n",
        "        lambda1 = v2[0]/v1[0]\n",
        "        \n",
        "        v0 = v2\n",
        "\n",
        "        if np.abs(lambda1 - lambda0) <= tol:\n",
        "            break\n",
        "    return lambda1, v1"
      ],
      "metadata": {
        "id": "yElEmDWpydG9"
      },
      "execution_count": 26,
      "outputs": []
    },
    {
      "cell_type": "code",
      "source": [
        "value1, vector1 = EigValue(H_inversa, c=0)\n",
        "print(value1, vector1)"
      ],
      "metadata": {
        "colab": {
          "base_uri": "https://localhost:8080/"
        },
        "id": "LwysPG2Jygcr",
        "outputId": "838320e5-c366-4f10-8e12-7f668177f964"
      },
      "execution_count": 27,
      "outputs": [
        {
          "output_type": "stream",
          "name": "stdout",
          "text": [
            "0.9999999999999988 [ 0.40824829 -0.40824829 -0.81649658]\n"
          ]
        }
      ]
    }
  ]
}