{
  "nbformat": 4,
  "nbformat_minor": 0,
  "metadata": {
    "colab": {
      "provenance": [],
      "authorship_tag": "ABX9TyN0vHAugeaLfxUqiKgouwKf",
      "include_colab_link": true
    },
    "kernelspec": {
      "name": "python3",
      "display_name": "Python 3"
    },
    "language_info": {
      "name": "python"
    }
  },
  "cells": [
    {
      "cell_type": "markdown",
      "metadata": {
        "id": "view-in-github",
        "colab_type": "text"
      },
      "source": [
        "<a href=\"https://colab.research.google.com/github/JsNcAr/Metodos1_JasonArias_AngieRicaurte/blob/main/Intento_Newton_generalizado.ipynb\" target=\"_parent\"><img src=\"https://colab.research.google.com/assets/colab-badge.svg\" alt=\"Open In Colab\"/></a>"
      ]
    },
    {
      "cell_type": "code",
      "execution_count": 6,
      "metadata": {
        "id": "LJyiGV08Dl-s"
      },
      "outputs": [],
      "source": [
        "import numpy as np\n",
        "import sympy as sym"
      ]
    },
    {
      "cell_type": "code",
      "source": [
        "x=sym.Symbol('x')\n",
        "y=sym.Symbol('y')\n",
        "\n",
        "def Jacobi(F,x,y,X):\n",
        "  matriz=np.zeros((2,2))\n",
        "  df_dx=sym.diff(f,x)\n",
        "  df_dy=sym.diff(f,y)\n",
        "\n",
        "  dg_dx=sym.diff(g,x)\n",
        "  dg_dy=sym.diff(g,y)\n",
        "\n",
        "  matriz[0,0]=sym.lamdify(X,F[0])\n",
        "  matriz[1,0]=sym.lamdify(X,F[1])\n",
        "  matriz[0,1]=sym.lamdify(X,F[0])\n",
        "  matriz[1,1]=sym.lamdify(X,F[1])\n",
        "  return Jacobi\n",
        "\n",
        "def F_evaluada(F,X):\n",
        "  F1=sym.lambdify(F[0])\n",
        "  F1_eval=sym.lamdify(X,F1)\n",
        "  \n",
        "  F2=sym.lambdify(F[1])\n",
        "  F2_eval=sym.lamdify(X,F2)\n",
        "\n",
        "  F[0]=F1_eval\n",
        "  F[1]=F2_eval\n",
        "  return F\n",
        "\n",
        "def sol_sistema(X,F):\n",
        "  J_inverso=np.linalg.inv(Jacobi(F[0],F[1],x,y,X))\n",
        "  F=F_evaluada(F,X)\n",
        "  sol=X-(J_inverso*F)\n",
        "  return sol\n",
        "\n",
        "\n"
      ],
      "metadata": {
        "id": "ae2Tv0LAGFKV"
      },
      "execution_count": 14,
      "outputs": []
    }
  ]
}