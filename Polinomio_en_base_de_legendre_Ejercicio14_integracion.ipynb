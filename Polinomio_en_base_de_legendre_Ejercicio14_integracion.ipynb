{
  "cells": [
    {
      "cell_type": "markdown",
      "metadata": {
        "colab_type": "text",
        "id": "view-in-github"
      },
      "source": [
        "<a href=\"https://colab.research.google.com/github/JsNcAr/Metodos1_JasonArias_AngieRicaurte/blob/main/Polinomio_en_base_de_legendre_Ejercicio14_integracion.ipynb\" target=\"_parent\"><img src=\"https://colab.research.google.com/assets/colab-badge.svg\" alt=\"Open In Colab\"/></a>"
      ]
    },
    {
      "cell_type": "code",
      "execution_count": 6,
      "metadata": {
        "id": "1FeH9cQX0P-x"
      },
      "outputs": [],
      "source": [
        "import numpy as np\n",
        "import matplotlib.pyplot as plt\n",
        "from scipy import integrate\n",
        "import sympy as sym\n",
        "from sympy.solvers import solve"
      ]
    },
    {
      "cell_type": "code",
      "execution_count": 13,
      "metadata": {
        "colab": {
          "base_uri": "https://localhost:8080/"
        },
        "id": "xfJs3yR72MHX",
        "outputId": "f820757c-84a6-4982-fb6e-4e2e7b3f5913"
      },
      "outputs": [
        {
          "name": "stdout",
          "output_type": "stream",
          "text": [
            "{b: 5, a: 10/3, c: 2/3}\n"
          ]
        }
      ],
      "source": [
        "x = sym.Symbol('x')\n",
        "a, b, c = sym.symbols('a b c')\n",
        "ecuacion = a + b*x + (c/2)*(3*x**2 - 1) - 3 - 5*x - x**2\n",
        "resultado = sym.solve(ecuacion, [a, b, c])\n",
        "print(resultado)\n"
      ]
    },
    {
      "cell_type": "markdown",
      "metadata": {
        "id": "hwM8VmxfF1w_"
      },
      "source": [
        "Así podemos reemplazar los coeficientes en la ecuación que tenemos:\n",
        "\n",
        "$$ 3+5x+ x^2=\\frac{10}{3} + 5x + \\frac{2}{3}(\\frac{3x^2 - 1}{2})$$\n",
        "\n",
        "Y lo anterior puede verse como:\n",
        "\n",
        "$$ p(x)=\\frac{10}{3}p_0(x) + 5p_1(x) +\\frac{2}{3}p_2(x) $$\n",
        "\n",
        "en la base de Legendre\n",
        "$$ p_0(x)=1 $$\n",
        "$$ p_1(x)=x $$\n",
        "$$ p_2(x)=\\frac{3x^2 - 1}{2} $$\n",
        "\n",
        "\n"
      ]
    }
  ],
  "metadata": {
    "colab": {
      "authorship_tag": "ABX9TyOAC1Syx5ixZkXQqJ5+J8ZP",
      "include_colab_link": true,
      "provenance": []
    },
    "kernelspec": {
      "display_name": "Python 3",
      "language": "python",
      "name": "python3"
    },
    "language_info": {
      "name": "python",
      "version": "3.8.10"
    },
    "vscode": {
      "interpreter": {
        "hash": "916dbcbb3f70747c44a77c7bcd40155683ae19c65e1c03b4aa3499c5328201f1"
      }
    }
  },
  "nbformat": 4,
  "nbformat_minor": 0
}
