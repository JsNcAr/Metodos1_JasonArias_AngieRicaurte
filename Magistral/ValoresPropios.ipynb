{
 "cells": [
  {
   "cell_type": "code",
   "execution_count": 1,
   "metadata": {},
   "outputs": [],
   "source": [
    "import numpy as np"
   ]
  },
  {
   "cell_type": "code",
   "execution_count": 2,
   "metadata": {},
   "outputs": [],
   "source": [
    "A = np.array([[1, 2, -1], [1, 0, 1], [4, -4, 5]])"
   ]
  },
  {
   "cell_type": "code",
   "execution_count": 3,
   "metadata": {},
   "outputs": [
    {
     "data": {
      "text/plain": [
       "(array([3., 2., 1.]),\n",
       " array([[-0.23570226,  0.43643578,  0.40824829],\n",
       "        [ 0.23570226, -0.21821789, -0.40824829],\n",
       "        [ 0.94280904, -0.87287156, -0.81649658]]))"
      ]
     },
     "execution_count": 3,
     "metadata": {},
     "output_type": "execute_result"
    }
   ],
   "source": [
    "np.linalg.eig(A)"
   ]
  },
  {
   "cell_type": "code",
   "execution_count": 4,
   "metadata": {},
   "outputs": [],
   "source": [
    "def EigValue(A, c=0, itmax=1000, tol=1e-14):\n",
    "    n = A.shape[0]\n",
    "    \n",
    "    v0 = np.zeros(n)\n",
    "\n",
    "    v0[c] = 1.\n",
    "\n",
    "    lambda1 = 0.\n",
    "\n",
    "    for k in range(itmax):\n",
    "        v1 = A.dot(v0)\n",
    "        v1 = v1/np.linalg.norm(v1)\n",
    "\n",
    "        v2 = A.dot(v1)\n",
    "        v2 = v2/np.linalg.norm(v1)\n",
    "\n",
    "        lambda0 = lambda1\n",
    "        lambda1 = v2[0]/v1[0]\n",
    "        \n",
    "        v0 = v2\n",
    "\n",
    "        if np.abs(lambda1 - lambda0) <= tol:\n",
    "            break\n",
    "    return lambda1, v1\n"
   ]
  },
  {
   "cell_type": "code",
   "execution_count": 5,
   "metadata": {},
   "outputs": [
    {
     "name": "stdout",
     "output_type": "stream",
     "text": [
      "3.0000000000000058 [-0.23570226  0.23570226  0.94280904]\n"
     ]
    }
   ],
   "source": [
    "value1, vector1 = EigValue(A, c=0)\n",
    "print(value1, vector1)"
   ]
  },
  {
   "cell_type": "code",
   "execution_count": 6,
   "metadata": {},
   "outputs": [],
   "source": [
    "def Tensor(v):\n",
    "    n = v.shape[0]\n",
    "    T = np.zeros((n, n))\n",
    "    for i in range(n):\n",
    "        for j in range(n):\n",
    "            T[i, j] = v[i]*v[j]\n",
    "    return T"
   ]
  },
  {
   "cell_type": "code",
   "execution_count": 8,
   "metadata": {},
   "outputs": [
    {
     "name": "stdout",
     "output_type": "stream",
     "text": [
      "[[1. 0.]\n",
      " [0. 0.]]\n"
     ]
    }
   ],
   "source": [
    "B = A -"
   ]
  }
 ],
 "metadata": {
  "kernelspec": {
   "display_name": "base",
   "language": "python",
   "name": "python3"
  },
  "language_info": {
   "codemirror_mode": {
    "name": "ipython",
    "version": 3
   },
   "file_extension": ".py",
   "mimetype": "text/x-python",
   "name": "python",
   "nbconvert_exporter": "python",
   "pygments_lexer": "ipython3",
   "version": "3.10.4"
  },
  "orig_nbformat": 4
 },
 "nbformat": 4,
 "nbformat_minor": 2
}
