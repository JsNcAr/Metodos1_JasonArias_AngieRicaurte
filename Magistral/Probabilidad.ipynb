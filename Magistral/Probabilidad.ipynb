{
 "cells": [
  {
   "cell_type": "code",
   "execution_count": 1,
   "metadata": {},
   "outputs": [],
   "source": [
    "import numpy as np\n",
    "import matplotlib.pyplot as plt"
   ]
  },
  {
   "cell_type": "code",
   "execution_count": 2,
   "metadata": {},
   "outputs": [],
   "source": [
    "def GetSample(N=int(1e4), ncoins=3, weights=None):\n",
    "    \n",
    "    Sample = np.zeros((N, ncoins))\n",
    "\n",
    "    Events = [0, 1]\n",
    "\n",
    "    for i in range(N):\n",
    "        if weights is None:\n",
    "            Exp = np.random.choice(Events, ncoins)\n",
    "        else:\n",
    "            Exp = np.random.choice(Events, ncoins, p=weights)\n",
    "        Sample[i] = Exp\n",
    "\n",
    "    return Sample"
   ]
  },
  {
   "cell_type": "code",
   "execution_count": 3,
   "metadata": {},
   "outputs": [],
   "source": [
    "N = 10000\n",
    "Sample = GetSample(N, ncoins=10, weights=[0.5, 0.5])"
   ]
  },
  {
   "cell_type": "code",
   "execution_count": 4,
   "metadata": {},
   "outputs": [],
   "source": [
    "count = 0\n",
    "Frecuencias = np.array([], dtype=np.int64)\n",
    "for i in range(Sample.shape[0]):\n",
    "    for j in range(Sample.shape[1]):\n",
    "        if Sample[i, j] == 0:\n",
    "            count += 1\n",
    "    Frecuencias = np.append(Frecuencias, count)\n",
    "    count = 0\n"
   ]
  },
  {
   "cell_type": "code",
   "execution_count": 5,
   "metadata": {},
   "outputs": [
    {
     "data": {
      "image/png": "[encoded data removed]",
      "text/plain": [
       "<Figure size 640x480 with 1 Axes>"
      ]
     },
     "metadata": {},
     "output_type": "display_data"
    }
   ],
   "source": [
    "plt.hist(Frecuencias, bins=10, density=True)\n",
    "plt.show()"
   ]
  },
  {
   "cell_type": "code",
   "execution_count": 6,
   "metadata": {},
   "outputs": [],
   "source": [
    "bins = np.arange(0, 11+1, 1)\n",
    "H, bines = np.histogram(Frecuencias, bins=bins, density=True)"
   ]
  },
  {
   "cell_type": "code",
   "execution_count": 7,
   "metadata": {},
   "outputs": [
    {
     "name": "stdout",
     "output_type": "stream",
     "text": [
      "E[X] =  4.977\n"
     ]
    }
   ],
   "source": [
    "E = round(np.sum(H * ( bines[:-1])),3)\n",
    "print(\"E[X] = \", E)"
   ]
  },
  {
   "cell_type": "code",
   "execution_count": 8,
   "metadata": {},
   "outputs": [
    {
     "name": "stdout",
     "output_type": "stream",
     "text": [
      "Var[X] =  2.491\n"
     ]
    }
   ],
   "source": [
    "variance = round(np.sum(H * ( bines[:-1] - E)**2),3)\n",
    "print(\"Var[X] = \", variance)"
   ]
  },
  {
   "cell_type": "code",
   "execution_count": 18,
   "metadata": {},
   "outputs": [
    {
     "name": "stdout",
     "output_type": "stream",
     "text": [
      "Curtosis =  0\n"
     ]
    }
   ],
   "source": [
    "curtosis = round(np.sum(H * ( bines[:-1] - E)**4 / variance**4))\n",
    "print(\"Curtosis = \", curtosis)"
   ]
  },
  {
   "cell_type": "code",
   "execution_count": 9,
   "metadata": {},
   "outputs": [
    {
     "name": "stdout",
     "output_type": "stream",
     "text": [
      "La probabilidad calculada es 0.0449\n"
     ]
    }
   ],
   "source": [
    "p = np.where(Frecuencias == 2)[0].shape[0]/N\n",
    "print(f'La probabilidad calculada es {p}')\n"
   ]
  }
 ],
 "metadata": {
  "kernelspec": {
   "display_name": "Python 3",
   "language": "python",
   "name": "python3"
  },
  "language_info": {
   "codemirror_mode": {
    "name": "ipython",
    "version": 3
   },
   "file_extension": ".py",
   "mimetype": "text/x-python",
   "name": "python",
   "nbconvert_exporter": "python",
   "pygments_lexer": "ipython3",
   "version": "3.10.4"
  },
  "orig_nbformat": 4
 },
 "nbformat": 4,
 "nbformat_minor": 2
}
