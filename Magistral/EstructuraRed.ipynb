{
 "cells": [
  {
   "cell_type": "code",
   "execution_count": 1,
   "metadata": {},
   "outputs": [],
   "source": [
    "import numpy as np\n",
    "import matplotlib.pyplot as plt\n",
    "from matplotlib import cm\n",
    "from mpl_toolkits.mplot3d import Axes3D"
   ]
  },
  {
   "cell_type": "code",
   "execution_count": 2,
   "metadata": {},
   "outputs": [],
   "source": [
    "sigm = lambda x: 1/(1+np.exp(-x))"
   ]
  },
  {
   "cell_type": "code",
   "execution_count": 3,
   "metadata": {},
   "outputs": [],
   "source": [
    "class layer:\n",
    "    def __init__(self, n_in, n_out, activation ):\n",
    "        self.n_in = n_in\n",
    "        self.n_out = n_out\n",
    "        self.activation = activation\n",
    "\n",
    "        self.W = np.random.uniform(-10,10,size=(self.n_in, self.n_out))\n",
    "        self.b = np.random.uniform(-10,10,size=(1, self.n_out))\n",
    "    def Activate(self, X):\n",
    "        z =  np.dot(X, self.W) + self.b\n",
    "        return self.activation(z)[0]\n",
    "    def Mutate(self, rate=0.05):\n",
    "        self.W += np.random.normal(loc = 0, scale = rate, size=(self.n_in, self.n_out))\n",
    "        self.b += np.random.normal(loc = 0, scale = rate, size=(1, self.n_out))\n"
   ]
  },
  {
   "cell_type": "code",
   "execution_count": 4,
   "metadata": {},
   "outputs": [],
   "source": [
    "L0 = layer(2, 4, sigm)\n",
    "L1 = layer(4, 10, sigm)\n",
    "L2 = layer(10, 5, sigm)\n",
    "L3 = layer(5, 2, sigm)"
   ]
  },
  {
   "cell_type": "code",
   "execution_count": 5,
   "metadata": {},
   "outputs": [],
   "source": [
    "layers = [L0, L1, L2, L3]"
   ]
  },
  {
   "cell_type": "code",
   "execution_count": 6,
   "metadata": {},
   "outputs": [],
   "source": [
    "def Brain(Layers, X):\n",
    "    for layer in Layers:\n",
    "        X = layer.Activate(X)\n",
    "    return X"
   ]
  },
  {
   "cell_type": "code",
   "execution_count": 7,
   "metadata": {},
   "outputs": [
    {
     "name": "stdout",
     "output_type": "stream",
     "text": [
      "[1.84304051e-06 1.96684380e-04]\n"
     ]
    }
   ],
   "source": [
    "x = np.array([1,1.2])\n",
    "print(Brain(layers, x))"
   ]
  },
  {
   "cell_type": "code",
   "execution_count": 8,
   "metadata": {},
   "outputs": [],
   "source": [
    "x = np.linspace(-1,1,10)\n",
    "y = x.copy()\n",
    "\n",
    "X, Y = np.meshgrid(x,y)\n",
    "\n",
    "N1 = np.zeros_like(X)\n",
    "N2 = np.zeros_like(X)\n",
    "\n",
    "for i, _x in enumerate(x):\n",
    "    for j, _y in enumerate(y):\n",
    "        N1[i,j], N2[i,j] = Brain(layers, np.array([_x,_y]))[0] , Brain(layers, np.array([_x,_y]))[1]\n"
   ]
  },
  {
   "cell_type": "code",
   "execution_count": 11,
   "metadata": {},
   "outputs": [
    {
     "ename": "TypeError",
     "evalue": "FigureBase.gca() got an unexpected keyword argument 'projection'",
     "output_type": "error",
     "traceback": [
      "\u001b[0;31m---------------------------------------------------------------------------\u001b[0m",
      "\u001b[0;31mTypeError\u001b[0m                                 Traceback (most recent call last)",
      "Cell \u001b[0;32mIn[11], line 2\u001b[0m\n\u001b[1;32m      1\u001b[0m fig \u001b[39m=\u001b[39m plt\u001b[39m.\u001b[39mfigure()\n\u001b[0;32m----> 2\u001b[0m ax \u001b[39m=\u001b[39m fig\u001b[39m.\u001b[39;49mgca(projection\u001b[39m=\u001b[39;49m\u001b[39m'\u001b[39;49m\u001b[39m3d\u001b[39;49m\u001b[39m'\u001b[39;49m)\n\u001b[1;32m      3\u001b[0m ax\u001b[39m.\u001b[39mplot_surface(X, Y, N1, cmap\u001b[39m=\u001b[39mcm\u001b[39m.\u001b[39mcoolwarm, linewidth\u001b[39m=\u001b[39m\u001b[39m0\u001b[39m, antialiased\u001b[39m=\u001b[39m\u001b[39mFalse\u001b[39;00m)\n\u001b[1;32m      4\u001b[0m plt\u001b[39m.\u001b[39mshow()\n",
      "\u001b[0;31mTypeError\u001b[0m: FigureBase.gca() got an unexpected keyword argument 'projection'"
     ]
    },
    {
     "data": {
      "text/plain": [
       "<Figure size 640x480 with 0 Axes>"
      ]
     },
     "metadata": {},
     "output_type": "display_data"
    }
   ],
   "source": [
    "fig = plt.figure(figsize=(10,10))\n",
    "add = fig.add_subplot(111, projection='3d')\n",
    "ax.plot_surface(X, Y, N1, cmap=cm.coolwarm, linewidth=0, antialiased=False)\n",
    "plt.show()"
   ]
  }
 ],
 "metadata": {
  "kernelspec": {
   "display_name": "Python 3",
   "language": "python",
   "name": "python3"
  },
  "language_info": {
   "codemirror_mode": {
    "name": "ipython",
    "version": 3
   },
   "file_extension": ".py",
   "mimetype": "text/x-python",
   "name": "python",
   "nbconvert_exporter": "python",
   "pygments_lexer": "ipython3",
   "version": "3.10.4"
  },
  "orig_nbformat": 4
 },
 "nbformat": 4,
 "nbformat_minor": 2
}
