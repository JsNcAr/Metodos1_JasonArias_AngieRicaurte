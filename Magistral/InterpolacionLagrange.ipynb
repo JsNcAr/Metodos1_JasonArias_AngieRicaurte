{
 "cells": [
  {
   "cell_type": "code",
   "execution_count": 1,
   "id": "2865903e",
   "metadata": {},
   "outputs": [],
   "source": [
    "import numpy as np\n",
    "import matplotlib.pyplot as plt\n",
    "from matplotlib import rc\n",
    "import pandas as pd\n",
    "import sympy as sym\n",
    "import os.path as path\n",
    "import os\n",
    "import wget"
   ]
  },
  {
   "cell_type": "code",
   "execution_count": 2,
   "id": "16fcc0e1",
   "metadata": {},
   "outputs": [],
   "source": [
    "if not path.exists('Data'):\n",
    "    os.mkdir('Data')\n",
    "    \n",
    "file = 'Data/Interpolacion.dat'\n",
    "url = 'https://raw.githubusercontent.com/asegura4488/Database/main/MetodosComputacionalesReforma/Interpolacion.csv'\n",
    "\n",
    "if not path.exists(file):\n",
    "    Path_ = wget.download(url,file)\n",
    "    \n",
    "else:\n",
    "    Path_ = file"
   ]
  },
  {
   "cell_type": "code",
   "execution_count": 3,
   "id": "28720bc7",
   "metadata": {},
   "outputs": [
    {
     "data": {
      "text/html": [
       "<div>\n",
       "<style scoped>\n",
       "    .dataframe tbody tr th:only-of-type {\n",
       "        vertical-align: middle;\n",
       "    }\n",
       "\n",
       "    .dataframe tbody tr th {\n",
       "        vertical-align: top;\n",
       "    }\n",
       "\n",
       "    .dataframe thead th {\n",
       "        text-align: right;\n",
       "    }\n",
       "</style>\n",
       "<table border=\"1\" class=\"dataframe\">\n",
       "  <thead>\n",
       "    <tr style=\"text-align: right;\">\n",
       "      <th></th>\n",
       "      <th>X</th>\n",
       "      <th>Y</th>\n",
       "    </tr>\n",
       "  </thead>\n",
       "  <tbody>\n",
       "    <tr>\n",
       "      <th>0</th>\n",
       "      <td>5</td>\n",
       "      <td>10</td>\n",
       "    </tr>\n",
       "    <tr>\n",
       "      <th>1</th>\n",
       "      <td>10</td>\n",
       "      <td>15</td>\n",
       "    </tr>\n",
       "    <tr>\n",
       "      <th>2</th>\n",
       "      <td>15</td>\n",
       "      <td>25</td>\n",
       "    </tr>\n",
       "  </tbody>\n",
       "</table>\n",
       "</div>"
      ],
      "text/plain": [
       "    X   Y\n",
       "0   5  10\n",
       "1  10  15\n",
       "2  15  25"
      ]
     },
     "execution_count": 3,
     "metadata": {},
     "output_type": "execute_result"
    }
   ],
   "source": [
    "Data = pd.read_csv(Path_)\n",
    "Data"
   ]
  },
  {
   "cell_type": "code",
   "execution_count": 4,
   "id": "dcc6be0c",
   "metadata": {},
   "outputs": [
    {
     "name": "stdout",
     "output_type": "stream",
     "text": [
      "[ 5. 10. 15.] [10. 15. 25.]\n"
     ]
    }
   ],
   "source": [
    "X = np.float64(Data.X)\n",
    "Y = np.float64(Data.Y)\n",
    "print(X,Y)"
   ]
  },
  {
   "cell_type": "code",
   "execution_count": 5,
   "id": "a62c455f",
   "metadata": {},
   "outputs": [],
   "source": [
    "X = np.array([1,2,3,4,5])\n",
    "Y = np.array([-3.4,-5.6,0,3,3.5])"
   ]
  },
  {
   "cell_type": "code",
   "execution_count": 6,
   "id": "8548174d",
   "metadata": {},
   "outputs": [],
   "source": [
    "def Lagrange(x,xi,j):\n",
    "    \n",
    "    prod = 1.0\n",
    "    n = len(xi)\n",
    "    \n",
    "    for i in range(n):\n",
    "        if i != j:\n",
    "            prod *= (x - xi[i])/(xi[j]-xi[i])\n",
    "            \n",
    "    return prod"
   ]
  },
  {
   "cell_type": "code",
   "execution_count": 7,
   "id": "75ddf2f0",
   "metadata": {},
   "outputs": [],
   "source": [
    "def Interpolate(x,xi,yi):\n",
    "    \n",
    "    Sum = 0.\n",
    "    n = len(xi)\n",
    "    \n",
    "    for j in range(n):\n",
    "        Sum += yi[j]*Lagrange(x,xi,j)\n",
    "        \n",
    "    return Sum"
   ]
  },
  {
   "cell_type": "code",
   "execution_count": 8,
   "id": "63c95198",
   "metadata": {},
   "outputs": [],
   "source": [
    "x = np.linspace(X[0],X[-1],100)\n",
    "y = Interpolate(x,X,Y)"
   ]
  },
  {
   "cell_type": "code",
   "execution_count": 9,
   "id": "ba623090",
   "metadata": {},
   "outputs": [
    {
     "data": {
      "text/plain": [
       "[<matplotlib.lines.Line2D at 0x7f12538a77c0>]"
      ]
     },
     "execution_count": 9,
     "metadata": {},
     "output_type": "execute_result"
    },
    {
     "data": {
      "image/png": "[encoded data removed]",
      "text/plain": [
       "<Figure size 640x480 with 1 Axes>"
      ]
     },
     "metadata": {},
     "output_type": "display_data"
    }
   ],
   "source": [
    "plt.scatter(X,Y,marker='o',color='r')\n",
    "plt.axhline(0,color='k')\n",
    "plt.plot(x,y,color='k')"
   ]
  },
  {
   "cell_type": "code",
   "execution_count": 10,
   "id": "b95cbeca",
   "metadata": {},
   "outputs": [
    {
     "data": {
      "text/latex": [
       "$\\displaystyle x$"
      ],
      "text/plain": [
       "x"
      ]
     },
     "execution_count": 10,
     "metadata": {},
     "output_type": "execute_result"
    }
   ],
   "source": [
    "x = sym.Symbol('x',real=True)\n",
    "x"
   ]
  },
  {
   "cell_type": "code",
   "execution_count": 11,
   "id": "046bebab",
   "metadata": {},
   "outputs": [
    {
     "data": {
      "text/latex": [
       "$\\displaystyle 0.4375 x^{4} - 6.10833333333333 x^{3} + 29.6125 x^{2} - 54.8416666666667 x + 27.5$"
      ],
      "text/plain": [
       "0.4375*x**4 - 6.10833333333333*x**3 + 29.6125*x**2 - 54.8416666666667*x + 27.5"
      ]
     },
     "execution_count": 11,
     "metadata": {},
     "output_type": "execute_result"
    }
   ],
   "source": [
    "f = Interpolate(x,X,Y)\n",
    "f = sym.simplify(f)\n",
    "f"
   ]
  },
  {
   "cell_type": "code",
   "execution_count": 12,
   "id": "2e536aec",
   "metadata": {},
   "outputs": [],
   "source": [
    "func = sym.lambdify([x],f,'numpy')"
   ]
  },
  {
   "cell_type": "code",
   "execution_count": 13,
   "id": "d0679cfe",
   "metadata": {},
   "outputs": [
    {
     "data": {
      "text/plain": [
       "-2.878906250000014"
      ]
     },
     "execution_count": 13,
     "metadata": {},
     "output_type": "execute_result"
    }
   ],
   "source": [
    "func(2.5)"
   ]
  },
  {
   "cell_type": "code",
   "execution_count": 14,
   "id": "cb9aef3e",
   "metadata": {},
   "outputs": [],
   "source": [
    "x = np.linspace(X[0],X[-1],100)\n",
    "y = np.interp(x,X,Y)"
   ]
  },
  {
   "cell_type": "code",
   "execution_count": 15,
   "id": "6b54dd28",
   "metadata": {},
   "outputs": [
    {
     "data": {
      "text/plain": [
       "[<matplotlib.lines.Line2D at 0x7f12513a04f0>]"
      ]
     },
     "execution_count": 15,
     "metadata": {},
     "output_type": "execute_result"
    },
    {
     "data": {
      "image/png": "[encoded data removed]",
      "text/plain": [
       "<Figure size 640x480 with 1 Axes>"
      ]
     },
     "metadata": {},
     "output_type": "display_data"
    }
   ],
   "source": [
    "plt.scatter(X,Y,marker='o',color='r')\n",
    "plt.plot(x,y,color='k')"
   ]
  },
  {
   "cell_type": "code",
   "execution_count": 16,
   "id": "8e03e013",
   "metadata": {},
   "outputs": [],
   "source": [
    "def GetNewtonRaphson(f, df, xn, itmax=100, precision=1e-5):\n",
    "\n",
    "    error = 1\n",
    "    it = 0\n",
    "\n",
    "    while error > precision and it <= itmax:\n",
    "\n",
    "        try:\n",
    "\n",
    "            xn1 = xn - f(xn) / df(f, xn)\n",
    "\n",
    "            error = np.abs(f(xn) / df(f, xn))\n",
    "\n",
    "            #print(error)\n",
    "\n",
    "        except ZeroDivisionError:\n",
    "\n",
    "            print('Division por cero')\n",
    "\n",
    "        it += 1\n",
    "        xn = xn1\n",
    "\n",
    "    if it == itmax:\n",
    "        False\n",
    "    else:\n",
    "        return xn"
   ]
  },
  {
   "cell_type": "code",
   "execution_count": 17,
   "id": "0d492a5b",
   "metadata": {},
   "outputs": [],
   "source": [
    "def Derivative(f, x, h=1e-4):\n",
    "    return (f(x + h) - f(x - h)) / (2 * h)\n"
   ]
  },
  {
   "cell_type": "code",
   "execution_count": 18,
   "id": "9c209fa3",
   "metadata": {},
   "outputs": [],
   "source": [
    "def GetAllRoots(x, tolerancia=8):\n",
    "\n",
    "    Roots = np.array([])\n",
    "\n",
    "    for i in x:\n",
    "\n",
    "        root = GetNewtonRaphson(func, Derivative, i)\n",
    "\n",
    "        if root != False:\n",
    "\n",
    "            croot = np.round(root, tolerancia)\n",
    "\n",
    "            if croot not in Roots:\n",
    "                Roots = np.append(Roots, croot)\n",
    "\n",
    "    Roots.sort()\n",
    "\n",
    "    return Roots"
   ]
  },
  {
   "cell_type": "code",
   "execution_count": 20,
   "id": "d18e0d92",
   "metadata": {},
   "outputs": [
    {
     "ename": "IndexError",
     "evalue": "boolean index did not match indexed array along dimension 0; dimension is 2 but corresponding boolean dimension is 100",
     "output_type": "error",
     "traceback": [
      "\u001b[0;31m---------------------------------------------------------------------------\u001b[0m",
      "\u001b[0;31mIndexError\u001b[0m                                Traceback (most recent call last)",
      "Cell \u001b[0;32mIn[20], line 3\u001b[0m\n\u001b[1;32m      1\u001b[0m x \u001b[39m=\u001b[39m np\u001b[39m.\u001b[39mlinspace(\u001b[39m1\u001b[39m, \u001b[39m10\u001b[39m, \u001b[39m100\u001b[39m)\n\u001b[1;32m      2\u001b[0m Roots \u001b[39m=\u001b[39m GetAllRoots(x)\n\u001b[0;32m----> 3\u001b[0m Roots[x\u001b[39m>\u001b[39;49m\u001b[39m1\u001b[39;49m]\n",
      "\u001b[0;31mIndexError\u001b[0m: boolean index did not match indexed array along dimension 0; dimension is 2 but corresponding boolean dimension is 100"
     ]
    }
   ],
   "source": [
    "x = np.linspace(1, 10, 100)\n",
    "Roots = GetAllRoots(x)"
   ]
  }
 ],
 "metadata": {
  "kernelspec": {
   "display_name": "Python 3",
   "language": "python",
   "name": "python3"
  },
  "language_info": {
   "codemirror_mode": {
    "name": "ipython",
    "version": 3
   },
   "file_extension": ".py",
   "mimetype": "text/x-python",
   "name": "python",
   "nbconvert_exporter": "python",
   "pygments_lexer": "ipython3",
   "version": "3.11.1"
  },
  "vscode": {
   "interpreter": {
    "hash": "e7370f93d1d0cde622a1f8e1c04877d8463912d04d973331ad4851f04de6915a"
   }
  }
 },
 "nbformat": 4,
 "nbformat_minor": 5
}
