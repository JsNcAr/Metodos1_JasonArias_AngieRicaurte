{
  "nbformat": 4,
  "nbformat_minor": 0,
  "metadata": {
    "colab": {
      "provenance": [],
      "authorship_tag": "ABX9TyNJyPr0JbjT4pOsedwUVvDN",
      "include_colab_link": true
    },
    "kernelspec": {
      "name": "python3",
      "display_name": "Python 3"
    },
    "language_info": {
      "name": "python"
    }
  },
  "cells": [
    {
      "cell_type": "markdown",
      "metadata": {
        "id": "view-in-github",
        "colab_type": "text"
      },
      "source": [
        "<a href=\"https://colab.research.google.com/github/JsNcAr/Metodos1_JasonArias_AngieRicaurte/blob/ramaALRR/Lanzamiento_de_la_bala_Ejercicio_4_interpolacion_Lagrange.ipynb\" target=\"_parent\"><img src=\"https://colab.research.google.com/assets/colab-badge.svg\" alt=\"Open In Colab\"/></a>"
      ]
    },
    {
      "cell_type": "code",
      "execution_count": 61,
      "metadata": {
        "id": "uDDiBlP2vycv"
      },
      "outputs": [],
      "source": [
        "import numpy as np\n",
        "import matplotlib.pyplot as plt\n",
        "from matplotlib import rc\n",
        "import urllib.request\n",
        "from operator import length_hint\n",
        "import sympy as sym"
      ]
    },
    {
      "cell_type": "code",
      "source": [
        "url=\"https://raw.githubusercontent.com/asegura4488/Database/main/MetodosComputacionalesReforma/Parabolico.csv\"\n",
        "filename=\"Posiciones.csv\"\n",
        "urllib.request.urlretrieve(url,filename)\n",
        "data = np.loadtxt(filename,dtype=str,skiprows=1)\n",
        "data1 = []\n",
        "for i in range(len(data)):\n",
        "    lista = data[i].split(\",\")\n",
        "    lista1 = [ float(x) for x in lista ]\n",
        "    data1.append(lista1)\n",
        "\n",
        "X=[]\n",
        "Y=[]\n",
        "for i in data1:\n",
        "  X.append(i[0])\n",
        "  Y.append(i[1])\n",
        "\n",
        "def Lagrange(x,xi,j):\n",
        "    \n",
        "    prod = 1.0\n",
        "    n = len(xi)\n",
        "    \n",
        "    for i in range(n):\n",
        "        if i != j:\n",
        "            prod *= (x - xi[i])/(xi[j]-xi[i])\n",
        "            \n",
        "    return prod\n",
        "def Interpolate(x,xi,yi):\n",
        "    \n",
        "    Sum = 0.\n",
        "    n = len(xi)\n",
        "    \n",
        "    for j in range(n):\n",
        "        Sum += yi[j]*Lagrange(x,xi,j)\n",
        "        \n",
        "    return Sum\n",
        "\n",
        "x = np.linspace(X[0]-1,X[-1]+1,100)\n",
        "y = Interpolate(x,X,Y)\n",
        "\n",
        "plt.scatter(1.4,0.4007954931819738,c=\"red\")\n",
        "plt.scatter(3.5,0.594128102489774,c=\"red\")\n",
        "plt.scatter(5.6,0.29802795523938164,c=\"red\")\n",
        "plt.plot(x,y)\n",
        "\n",
        "x_inicial=x[0]\n",
        "y_inicial=y[0]\n",
        "\n",
        "x = sym.Symbol('x',real=True)\n",
        "x\n",
        "\n",
        "f = Interpolate(x,X,Y)\n",
        "f = sym.simplify(f)\n",
        "f\n",
        "\n"
      ],
      "metadata": {
        "colab": {
          "base_uri": "https://localhost:8080/",
          "height": 287
        },
        "id": "6uLv0VjWxXt7",
        "outputId": "af94b07c-da96-4b5f-d9a4-a2b58e35d2aa"
      },
      "execution_count": 62,
      "outputs": [
        {
          "output_type": "execute_result",
          "data": {
            "text/plain": [
              "x*(0.363970234266202 - 0.0554912422401579*x)"
            ],
            "text/latex": "$\\displaystyle x \\left(0.363970234266202 - 0.0554912422401579 x\\right)$"
          },
          "metadata": {},
          "execution_count": 62
        },
        {
          "output_type": "display_data",
          "data": {
            "text/plain": [
              "<Figure size 432x288 with 1 Axes>"
            ],
            "image/png": "[encoded data removed]"
          },
          "metadata": {
            "needs_background": "light"
          }
        }
      ]
    },
    {
      "cell_type": "markdown",
      "source": [
        "Si ahora comparamos la función resultante de la interpolación con la ecuación de trayectoria de la bala, nos podemos dar cuenta de ciertas similitudes en los coeficientes:\n",
        "\n",
        "$$ y = \\tan(θ)x-\\frac{gx^2}{2v^2cos(θ)^2}$$\n",
        "\n",
        "Así, vemos que tan(θ) es 0.363970234266202, lo cual coincide con el resultado de tan(20°), por tanto, θ es 20. Luego,a partir de esa relación podemos obtener la velocidad de la siguiente manera:\n",
        "\n",
        "$$ −0.0554912422401579x^2 = -\\frac{gx^2}{2v^2cos(θ)^2} $$\n",
        "\n",
        "$$ v= \\sqrt{\\frac{g}{(0.0554912422401579*2*cos(θ)^2)}} $$\n",
        "\n"
      ],
      "metadata": {
        "id": "hwM8VmxfF1w_"
      }
    },
    {
      "cell_type": "code",
      "source": [
        "velocidad=np.sqrt(9.8/(0.0554912422401579*2*(np.cos(np.pi/9)**2)))\n",
        "print(velocidad)"
      ],
      "metadata": {
        "colab": {
          "base_uri": "https://localhost:8080/"
        },
        "id": "erVeUSuv9xaI",
        "outputId": "2c984ec9-d89a-4cec-8e0d-4e178b924ed7"
      },
      "execution_count": 63,
      "outputs": [
        {
          "output_type": "stream",
          "name": "stdout",
          "text": [
            "10.000000000000002\n"
          ]
        }
      ]
    }
  ]
}